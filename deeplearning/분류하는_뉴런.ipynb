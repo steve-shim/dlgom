{
  "nbformat": 4,
  "nbformat_minor": 0,
  "metadata": {
    "colab": {
      "name": "분류하는 뉴런.ipynb",
      "provenance": [],
      "collapsed_sections": [],
      "authorship_tag": "ABX9TyOZRyjw8+e+e2+KouO6vmoQ",
      "include_colab_link": true
    },
    "kernelspec": {
      "name": "python3",
      "display_name": "Python 3"
    }
  },
  "cells": [
    {
      "cell_type": "markdown",
      "metadata": {
        "id": "view-in-github",
        "colab_type": "text"
      },
      "source": [
        "<a href=\"https://colab.research.google.com/github/steve-shim/dlgom/blob/main/deeplearning/%EB%B6%84%EB%A5%98%ED%95%98%EB%8A%94_%EB%89%B4%EB%9F%B0.ipynb\" target=\"_parent\"><img src=\"https://colab.research.google.com/assets/colab-badge.svg\" alt=\"Open In Colab\"/></a>"
      ]
    },
    {
      "cell_type": "code",
      "metadata": {
        "id": "2NLcGsJ8BTnT"
      },
      "source": [
        "from sklearn.datasets import load_breast_cancer\n",
        "import numpy as np"
      ],
      "execution_count": 4,
      "outputs": []
    },
    {
      "cell_type": "code",
      "metadata": {
        "id": "ZL3DV4ciXpZj"
      },
      "source": [
        "cancer = load_breast_cancer()"
      ],
      "execution_count": 5,
      "outputs": []
    },
    {
      "cell_type": "code",
      "metadata": {
        "colab": {
          "base_uri": "https://localhost:8080/"
        },
        "id": "PPb66XJoXt9b",
        "outputId": "607659a5-2dc7-4b78-b6ec-47d31036d6ab"
      },
      "source": [
        "# 유방암 데이터 569개의 샘플 + 30개의 특성 존재\n",
        "print(cancer.data.shape, cancer.target.shape)"
      ],
      "execution_count": 6,
      "outputs": [
        {
          "output_type": "stream",
          "name": "stdout",
          "text": [
            "(569, 30) (569,)\n"
          ]
        }
      ]
    },
    {
      "cell_type": "code",
      "metadata": {
        "colab": {
          "base_uri": "https://localhost:8080/"
        },
        "id": "opX_M-JJN92y",
        "outputId": "f111e3af-6bd9-426b-f9ff-a2461b88af78"
      },
      "source": [
        "# 유방암(1), 정상(0) 으로 분류 되어져 있다 \n",
        "cancer.target[:100]"
      ],
      "execution_count": 7,
      "outputs": [
        {
          "output_type": "execute_result",
          "data": {
            "text/plain": [
              "array([0, 0, 0, 0, 0, 0, 0, 0, 0, 0, 0, 0, 0, 0, 0, 0, 0, 0, 0, 1, 1, 1,\n",
              "       0, 0, 0, 0, 0, 0, 0, 0, 0, 0, 0, 0, 0, 0, 0, 1, 0, 0, 0, 0, 0, 0,\n",
              "       0, 0, 1, 0, 1, 1, 1, 1, 1, 0, 0, 1, 0, 0, 1, 1, 1, 1, 0, 1, 0, 0,\n",
              "       1, 1, 1, 1, 0, 1, 0, 0, 1, 0, 1, 0, 0, 1, 1, 1, 0, 0, 1, 0, 0, 0,\n",
              "       1, 1, 1, 0, 1, 1, 0, 0, 1, 1, 1, 0])"
            ]
          },
          "metadata": {},
          "execution_count": 7
        }
      ]
    },
    {
      "cell_type": "code",
      "metadata": {
        "colab": {
          "base_uri": "https://localhost:8080/"
        },
        "id": "qveuMjnfaZJp",
        "outputId": "6032ba3e-0c46-4fe8-e28e-48bee0dfaf89"
      },
      "source": [
        "cancer.data"
      ],
      "execution_count": 8,
      "outputs": [
        {
          "output_type": "execute_result",
          "data": {
            "text/plain": [
              "array([[1.799e+01, 1.038e+01, 1.228e+02, ..., 2.654e-01, 4.601e-01,\n",
              "        1.189e-01],\n",
              "       [2.057e+01, 1.777e+01, 1.329e+02, ..., 1.860e-01, 2.750e-01,\n",
              "        8.902e-02],\n",
              "       [1.969e+01, 2.125e+01, 1.300e+02, ..., 2.430e-01, 3.613e-01,\n",
              "        8.758e-02],\n",
              "       ...,\n",
              "       [1.660e+01, 2.808e+01, 1.083e+02, ..., 1.418e-01, 2.218e-01,\n",
              "        7.820e-02],\n",
              "       [2.060e+01, 2.933e+01, 1.401e+02, ..., 2.650e-01, 4.087e-01,\n",
              "        1.240e-01],\n",
              "       [7.760e+00, 2.454e+01, 4.792e+01, ..., 0.000e+00, 2.871e-01,\n",
              "        7.039e-02]])"
            ]
          },
          "metadata": {},
          "execution_count": 8
        }
      ]
    },
    {
      "cell_type": "code",
      "metadata": {
        "colab": {
          "base_uri": "https://localhost:8080/",
          "height": 279
        },
        "id": "dpFyKdr0X1ia",
        "outputId": "322ec437-4e0b-4d50-946d-f50a065bc552"
      },
      "source": [
        "import matplotlib.pyplot as plt\n",
        "\n",
        "plt.boxplot(cancer.data)\n",
        "plt.xlabel('feature')\n",
        "plt.ylabel('value')\n",
        "plt.show()"
      ],
      "execution_count": 9,
      "outputs": [
        {
          "output_type": "display_data",
          "data": {
            "image/png": "[encoded data removed]",
            "text/plain": [
              "<Figure size 432x288 with 1 Axes>"
            ]
          },
          "metadata": {
            "needs_background": "light"
          }
        }
      ]
    },
    {
      "cell_type": "code",
      "metadata": {
        "colab": {
          "base_uri": "https://localhost:8080/"
        },
        "id": "4IOlcPssYno-",
        "outputId": "3f72809e-3eee-4324-f084-5a2f920f0d09"
      },
      "source": [
        "# 넓이와 관련된 특성의 값들이 다른 특성들에 비해서 큰값들을 가지고 있다\n",
        "cancer.feature_names[[3,13,23]]"
      ],
      "execution_count": 10,
      "outputs": [
        {
          "output_type": "execute_result",
          "data": {
            "text/plain": [
              "array(['mean area', 'area error', 'worst area'], dtype='<U23')"
            ]
          },
          "metadata": {},
          "execution_count": 10
        }
      ]
    },
    {
      "cell_type": "code",
      "metadata": {
        "colab": {
          "base_uri": "https://localhost:8080/"
        },
        "id": "AA4b-QxAZNBN",
        "outputId": "3e63f736-4a9f-48fe-e6a0-58f9140512e2"
      },
      "source": [
        "np.unique(cancer.target, return_counts=True) # 0.627"
      ],
      "execution_count": 11,
      "outputs": [
        {
          "output_type": "execute_result",
          "data": {
            "text/plain": [
              "(array([0, 1]), array([212, 357]))"
            ]
          },
          "metadata": {},
          "execution_count": 11
        }
      ]
    },
    {
      "cell_type": "code",
      "metadata": {
        "id": "TYGki9yuZTT8",
        "colab": {
          "base_uri": "https://localhost:8080/"
        },
        "outputId": "5db5fb0e-8c0f-4f32-9100-2d82708ff557"
      },
      "source": [
        "X = cancer.data\n",
        "y = cancer.target\n",
        "print(X.shape, y.shape)"
      ],
      "execution_count": 12,
      "outputs": [
        {
          "output_type": "stream",
          "name": "stdout",
          "text": [
            "(569, 30) (569,)\n"
          ]
        }
      ]
    },
    {
      "cell_type": "markdown",
      "metadata": {
        "id": "W1M0lNBRb5rb"
      },
      "source": [
        "훈련 데이터 세트를 나누기 전에 양성, 음성 클래스가 훈련 세트나 테스트 세트의 어느 한쪽에 몰리지 않도록 골고루 섞어야 한다.\n",
        "\n",
        "양성 클래스가 음성 클래스보다 많기 때문에 클래스 비율이 일정하지 않게 분배되는 샘플링 편향 현상이 발생할 수 있다.\n",
        "\n",
        "stratify=y 를 하면서 처음 데이터의 클래스 비율을 유지하면서 훈련 데이터, 테스트 데이터를 나눈다"
      ]
    },
    {
      "cell_type": "code",
      "metadata": {
        "id": "18qlc2edZgUm"
      },
      "source": [
        "from sklearn.model_selection import train_test_split\n",
        "\n",
        "X_train, X_test, y_train, y_test = train_test_split(X,y,stratify=y, test_size=0.2, random_state=42)"
      ],
      "execution_count": 13,
      "outputs": []
    },
    {
      "cell_type": "code",
      "metadata": {
        "colab": {
          "base_uri": "https://localhost:8080/"
        },
        "id": "xdAGOMmCbrlE",
        "outputId": "8af1be9d-c0e8-47d5-a03e-640f84bd3c3b"
      },
      "source": [
        "print(X_train.shape, X_test.shape)"
      ],
      "execution_count": 14,
      "outputs": [
        {
          "output_type": "stream",
          "name": "stdout",
          "text": [
            "(455, 30) (114, 30)\n"
          ]
        }
      ]
    },
    {
      "cell_type": "code",
      "metadata": {
        "colab": {
          "base_uri": "https://localhost:8080/"
        },
        "id": "lY-0Fmk8bzym",
        "outputId": "da0437c0-06d0-4f36-e70f-6d1b1bde9333"
      },
      "source": [
        "print(np.unique(y_train, return_counts=True)) # 0.626\n",
        "print(np.unique(y_test, return_counts=True)) # 0.631"
      ],
      "execution_count": 15,
      "outputs": [
        {
          "output_type": "stream",
          "name": "stdout",
          "text": [
            "(array([0, 1]), array([170, 285]))\n",
            "(array([0, 1]), array([42, 72]))\n"
          ]
        }
      ]
    },
    {
      "cell_type": "code",
      "metadata": {
        "id": "-FEK_Wbxb4fk"
      },
      "source": [
        "# 로지스틱 뉴런 구현\n",
        "class LogisticNeuron:\n",
        "\n",
        "  def __init__(self):\n",
        "    self.w = None\n",
        "    self.b = None\n",
        "\n",
        "  def forpass(self, x):\n",
        "    z = np.sum(x * self.w) + self.b\n",
        "    return z\n",
        "  \n",
        "  def backprop(self, x, err):\n",
        "    w_grad = x * err\n",
        "    b_grad = 1 * err\n",
        "    return w_grad, b_grad\n",
        "\n",
        "  def fit(self, x, y, epochs=100): # x: (455, 30), y: (455,)\n",
        "    self.w = np.ones(x.shape[1])   # 샘플의 특성의 갯수(30개) 만큼 1로 채워진 배열을 만든다\n",
        "    self.b = 0\n",
        "    \n",
        "    # 샘플하나마다 가중치를 업데이트를 한다 (총 가중치 업데이트 횟수 = epochs수 x 샘플(455) 수)\n",
        "    for i in range(epochs):\n",
        "      for x_i, y_i in zip(x,y):\n",
        "        z = self.forpass(x_i)   # x_i : (30,)\n",
        "        a = self.activation(z)  # z = w1*x1 + w2*x2 + ... + w30*x30 + b  -> 특성들마다 곱해지는 가중치들의 합인 선형회귀값 하나\n",
        "        err = -(y_i - a)        # a = sigmoid(z) -> 양성 클래스(암)로 예측하는 확률값 하나\n",
        "                                # 샘플하나의 정답과 샘플하나의 예측값의 차이인 err 값 하나로\n",
        "        w_grad, b_grad = self.backprop(x_i, err) # 샘플하나로 30개의 특성의 그라디언트를 생성\n",
        "        self.w -= w_grad        # 기존 가중치에서 그라디언트를 빼면서 샘플하나로 샘플의 특성들(30개)의 가중치를 모두 업데이트 한다\n",
        "        self.b -= b_grad\n",
        "        \n",
        "  def activation(self, z):\n",
        "    z = np.clip(z, -100, None)\n",
        "    a = 1 / (1+np.exp(-z))\n",
        "    return a\n",
        "\n",
        "  def predict(self, x):                   # x: (114, 30)\n",
        "    z = [self.forpass(x_i) for x_i in x]  # 샘플마다 선형회귀값 하나씩 나오면서 길이가 114인 리스트가 만들어진다\n",
        "    a = self.activation(np.array(z))      # 샘플마다 양성클래스로 예측한 확률값 출력 (114,)\n",
        "    return a > 0.5\n"
      ],
      "execution_count": 16,
      "outputs": []
    },
    {
      "cell_type": "code",
      "metadata": {
        "id": "7ABxQ-jKkKZ2"
      },
      "source": [
        "neuron = LogisticNeuron()"
      ],
      "execution_count": 17,
      "outputs": []
    },
    {
      "cell_type": "code",
      "metadata": {
        "id": "uFUA80MxkrbN"
      },
      "source": [
        "neuron.fit(X_train, y_train)"
      ],
      "execution_count": 18,
      "outputs": []
    },
    {
      "cell_type": "code",
      "metadata": {
        "colab": {
          "base_uri": "https://localhost:8080/"
        },
        "id": "AbKp3CZWoeeC",
        "outputId": "12f2b791-c369-4634-e21e-603b91aa492f"
      },
      "source": [
        "np.mean(neuron.predict(X_test) == y_test)"
      ],
      "execution_count": 19,
      "outputs": [
        {
          "output_type": "execute_result",
          "data": {
            "text/plain": [
              "0.8245614035087719"
            ]
          },
          "metadata": {},
          "execution_count": 19
        }
      ]
    },
    {
      "cell_type": "code",
      "metadata": {
        "colab": {
          "base_uri": "https://localhost:8080/"
        },
        "id": "TX0hNJUyo9Xv",
        "outputId": "711f60ca-c3a6-4e61-cf04-220e89713b9e"
      },
      "source": [
        "neuron.predict(X_test)"
      ],
      "execution_count": 20,
      "outputs": [
        {
          "output_type": "execute_result",
          "data": {
            "text/plain": [
              "array([False,  True, False, False, False, False,  True, False, False,\n",
              "       False,  True, False,  True, False, False, False, False,  True,\n",
              "       False,  True, False, False,  True,  True,  True, False, False,\n",
              "        True,  True, False,  True,  True,  True,  True, False,  True,\n",
              "        True,  True, False, False,  True,  True,  True, False, False,\n",
              "       False,  True,  True,  True, False,  True, False,  True, False,\n",
              "        True,  True,  True, False, False,  True,  True,  True,  True,\n",
              "        True, False, False, False,  True, False,  True,  True,  True,\n",
              "        True, False, False, False,  True,  True,  True, False, False,\n",
              "        True, False,  True, False,  True,  True,  True, False, False,\n",
              "        True,  True, False, False, False,  True, False,  True, False,\n",
              "       False, False, False,  True,  True, False, False,  True, False,\n",
              "        True, False,  True, False,  True,  True])"
            ]
          },
          "metadata": {},
          "execution_count": 20
        }
      ]
    },
    {
      "cell_type": "code",
      "metadata": {
        "id": "0108rsItAA32"
      },
      "source": [
        "# 단일층 신경망 클래스\n",
        "\n",
        "class SingleLayer:\n",
        "\n",
        "  def __init__(self):\n",
        "    self.w = None\n",
        "    self.b = None\n",
        "    self.losses = []\n",
        "\n",
        "  def forpass(self, x):\n",
        "    z = np.sum(x * self.w) + self.b\n",
        "    return z\n",
        "\n",
        "  def backprop(self, x, err):\n",
        "    w_grad = x * err\n",
        "    b_grad = 1 * err\n",
        "    return w_grad, b_grad\n",
        "\n",
        "  def activation(self, z):\n",
        "    z = np.clip(z, -100, None)\n",
        "    a = 1 / (1 + np.exp(-z))\n",
        "    return a\n",
        "  \n",
        "  def fit(self, x, y, epochs=100): # X: (455,30), y: (455,)\n",
        "    self.w = np.ones(x.shape[1])   # 샘플의 특성의 갯수만큼 가중치 초기화\n",
        "    self.b = 0\n",
        "    for i in range(epochs):\n",
        "      loss = 0\n",
        "      indexes = np.random.permutation(np.arange(len(x))) # X배열 자체를 섞지않고 X의 길이의 인덱스 배열을 섞는다 (0~454)\n",
        "      # SGD(확률적 경사하강법)은 epochs 마다 전체 샘플을 섞어준다 \n",
        "      for i in indexes:\n",
        "        z = self.forpass(x[i])  # (30,) -> 선형회귀값 하나 출력\n",
        "        a = self.activation(z)  # 양성클래스 예측값 하나 출력\n",
        "        err = -(y[i] - a)       # 샘플마다 err 값이 하나 출력\n",
        "        w_grad, b_grad = self.backprop(x[i], err) # err 값 하나로 특성 30개의 그라디언트를 계산\n",
        "        self.w -= w_grad        # 샘플 하나로 특성 30개의 가중치 업데이트 \n",
        "        self.b -= b_grad\n",
        "        a = np.clip(a, 1e-10, 1-1e-10)\n",
        "        loss += -(y[i]*np.log(a)+(1-y[i])*np.log(1-a)) # 샘플마다 정답과의 차이인 오차를 누적하고\n",
        "      self.losses.append(loss/len(y))                  # 에포크마다 평균 손실을 저장 \n",
        "    \n",
        "  def predict(self, x):                  # 2. x: (114, 30)\n",
        "    z = [self.forpass(x_i) for x_i in x] \n",
        "    return np.array(z) > 0               # 3. (114,)\n",
        "\n",
        "  def score(self, x, y):                  # 1. x: (114, 30), y: (114,)\n",
        "    return np.mean(self.predict(x) == y)  # 4. np.mean( (114,) == (114,) )\n"
      ],
      "execution_count": 39,
      "outputs": []
    },
    {
      "cell_type": "code",
      "metadata": {
        "id": "tlT4c0PYEzfn"
      },
      "source": [
        "layer = SingleLayer()"
      ],
      "execution_count": 40,
      "outputs": []
    },
    {
      "cell_type": "code",
      "metadata": {
        "id": "Npt_lN14E3Cx"
      },
      "source": [
        "layer.fit(X_train, y_train)"
      ],
      "execution_count": 41,
      "outputs": []
    },
    {
      "cell_type": "code",
      "metadata": {
        "colab": {
          "base_uri": "https://localhost:8080/"
        },
        "id": "6ATKmY-xcH5I",
        "outputId": "69fb678c-58da-4bfd-9f16-395d13b22c10"
      },
      "source": [
        "layer.score(X_test, y_test)"
      ],
      "execution_count": 42,
      "outputs": [
        {
          "output_type": "execute_result",
          "data": {
            "text/plain": [
              "0.9210526315789473"
            ]
          },
          "metadata": {},
          "execution_count": 42
        }
      ]
    },
    {
      "cell_type": "code",
      "metadata": {
        "colab": {
          "base_uri": "https://localhost:8080/",
          "height": 299
        },
        "id": "IAJ_ccQOFaaV",
        "outputId": "8682f81c-53e9-4892-9dc5-b85b8d08ca3d"
      },
      "source": [
        "# 에포크마다 기록된 평균 손실값의 변화 시각화\n",
        "print(type(layer.losses))\n",
        "plt.plot(layer.losses)\n",
        "plt.xlabel('epoch')\n",
        "plt.ylabel('loss')\n",
        "plt.show()"
      ],
      "execution_count": 43,
      "outputs": [
        {
          "output_type": "stream",
          "name": "stdout",
          "text": [
            "<class 'list'>\n"
          ]
        },
        {
          "output_type": "display_data",
          "data": {
            "image/png": "[encoded data removed]",
            "text/plain": [
              "<Figure size 432x288 with 1 Axes>"
            ]
          },
          "metadata": {
            "needs_background": "light"
          }
        }
      ]
    },
    {
      "cell_type": "code",
      "metadata": {
        "id": "1N9hbeoNGgfl"
      },
      "source": [
        "from sklearn.linear_model import SGDClassifier\n",
        "sgd = SGDClassifier(loss='log', max_iter=100, tol=1e-3, random_state=42)"
      ],
      "execution_count": 26,
      "outputs": []
    },
    {
      "cell_type": "code",
      "metadata": {
        "colab": {
          "base_uri": "https://localhost:8080/"
        },
        "id": "eW3CJYtqG0NY",
        "outputId": "8622496b-0fad-42cc-877a-6ca90c11305c"
      },
      "source": [
        "sgd.fit(X_train, y_train)\n",
        "sgd.score(X_test, y_test)"
      ],
      "execution_count": 27,
      "outputs": [
        {
          "output_type": "execute_result",
          "data": {
            "text/plain": [
              "0.8333333333333334"
            ]
          },
          "metadata": {},
          "execution_count": 27
        }
      ]
    },
    {
      "cell_type": "code",
      "metadata": {
        "colab": {
          "base_uri": "https://localhost:8080/"
        },
        "id": "r1SZ5NPJHBQu",
        "outputId": "5b727ff1-9b98-4ec4-d8b8-777166b8662f"
      },
      "source": [
        "X_test[0:10].shape"
      ],
      "execution_count": 29,
      "outputs": [
        {
          "output_type": "execute_result",
          "data": {
            "text/plain": [
              "(10, 30)"
            ]
          },
          "metadata": {},
          "execution_count": 29
        }
      ]
    },
    {
      "cell_type": "code",
      "metadata": {
        "colab": {
          "base_uri": "https://localhost:8080/"
        },
        "id": "9-gV2omsHEnQ",
        "outputId": "ea636289-d0a0-40ef-ccba-e48163ffe47d"
      },
      "source": [
        "sgd.predict(X_test[0:10]) \n",
        "# 사이킷런은 입력데이터로 2차원 배열만 받아들인다\n",
        "# X_test의 샘플 10개를 훈련된 모델로 유방암(1)인지 아닌지(0) 예측한다  "
      ],
      "execution_count": 30,
      "outputs": [
        {
          "output_type": "execute_result",
          "data": {
            "text/plain": [
              "array([0, 1, 0, 0, 0, 0, 1, 0, 0, 0])"
            ]
          },
          "metadata": {},
          "execution_count": 30
        }
      ]
    },
    {
      "cell_type": "code",
      "metadata": {
        "id": "xo5vY5YqHIlV"
      },
      "source": [
        ""
      ],
      "execution_count": 30,
      "outputs": []
    }
  ]
}