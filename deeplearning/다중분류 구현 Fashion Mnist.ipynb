{
  "nbformat": 4,
  "nbformat_minor": 0,
  "metadata": {
    "colab": {
      "name": "7장.ipynb",
      "provenance": [],
      "authorship_tag": "ABX9TyPbwD7lLVbw+qVf94SljesZ",
      "include_colab_link": true
    },
    "kernelspec": {
      "name": "python3",
      "display_name": "Python 3"
    },
    "language_info": {
      "name": "python"
    }
  },
  "cells": [
    {
      "cell_type": "markdown",
      "metadata": {
        "id": "view-in-github",
        "colab_type": "text"
      },
      "source": [
        "<a href=\"https://colab.research.google.com/github/steve-shim/dlgom/blob/main/deeplearning/%EB%8B%A4%EC%A4%91%EB%B6%84%EB%A5%98%20%EA%B5%AC%ED%98%84%20Fashion%20Mnist.ipynb\" target=\"_parent\"><img src=\"https://colab.research.google.com/assets/colab-badge.svg\" alt=\"Open In Colab\"/></a>"
      ]
    },
    {
      "cell_type": "code",
      "metadata": {
        "id": "ZWsHWJgpum0T"
      },
      "source": [
        "import numpy as np\n",
        "\n",
        "class MultiClassNetwork:\n",
        "\n",
        "  def __init__(self, units=10, batch_size=32, learning_rate=0.1, l1=0, l2=0):\n",
        "      self.units = units  # 은닉층의 뉴런 개수(100)\n",
        "      self.batch_size = batch_size\n",
        "      self.w1 = None  # 은닉층에 적용되는 가중치\n",
        "      self.b1 = None  # 은닉층의 절편\n",
        "      self.w2 = None  # 출력층에 적용되는 가중치\n",
        "      self.b2 = None  # 출력층의 절편\n",
        "      self.a1 = None  # 은닉층의 활성화 출력\n",
        "      self.losses = []     # 훈련 손실\n",
        "      self.val_losses = [] # 검증 손실\n",
        "      self.lr = learning_rate\n",
        "      self.l1 = l1\n",
        "      self.l2 = l2\n",
        "\n",
        "  def forpass(self, x):             # x_batch:(256,784)\n",
        "      z1 = np.dot(x, self.w1) + self.b1  # (256,784) @ (784,100) -> (256,100)\n",
        "      self.a1 = self.sigmoid(z1)    \n",
        "      z2 = np.dot(self.a1, self.w2) + self.b2 # (256,100) @ (100,10) -> (256,10)\n",
        "      return z2\n",
        "\n",
        "  def backprop(self, x, err): # (256,784), (256,10)\n",
        "      m = len(x) # 샘플 개수\n",
        "      # 출력층의 가중치와 절편에 대한 그레이디언트를 계산\n",
        "      w2_grad = np.dot(self.a1.T, err) / m  # (100,256) @ (256,10) -> (100,10)\n",
        "      b2_grad = np.sum(err, axis=0) / m\n",
        "      # 시그모이드 함수까지 그레이디언트를 계산\n",
        "      err_to_hidden = np.dot(err, self.w2.T) * self.a1 * (1-self.a1) # (256,10) @ (10,100) -> (256,100)\n",
        "      # 은닉층의 가중치와 절편에 대한 그레이디언트를 계산\n",
        "      w1_grad = np.dot(x.T, err_to_hidden) / m # (784,256) @ (256,100) -> (784,100)\n",
        "      b1_grad = np.sum(err_to_hidden, axis=0) / m # (256,100) -> (100,)\n",
        "      return w1_grad, b1_grad, w2_grad, b2_grad\n",
        "\n",
        "  def sigmoid(self, z):\n",
        "      z = np.clip(z, -100, None)\n",
        "      a = 1 / (1 + np.exp(-z))\n",
        "      return a\n",
        "\n",
        "  def softmax(self, z):\n",
        "      z = np.clip(z, -100, None)\n",
        "      exp_z = np.exp(z)\n",
        "      return exp_z / np.sum(exp_z, axis=1).reshape(-1,1)\n",
        "\n",
        "  def init_weights(self, n_features, n_classes): # 784, 10\n",
        "      self.w1 = np.random.normal(0, 1, \n",
        "                                (n_features, self.units)) # (특성 개수, 은닉층의 크기) 은닉층에 적용되는 가중치\n",
        "      self.b1 = np.zeros(self.units) # 은닉층의 뉴런의 갯수만큼 은닉층의 바이어스가 정해진다\n",
        "      self.w2 = np.random.normal(0, 1, \n",
        "                                (self.units, n_classes))  # (은닉층의 크기, 클래스 개수)\n",
        "      self.b2 = np.zeros(n_classes)  # 클래스 갯수만큼 바이어스값 초기화\n",
        "\n",
        "  def fit(self, x, y, epochs=100, x_val=None, y_val=None): # x:(48000,784) y:(48000,10) x_val:(12000,784), y_val:(12000,10)\n",
        "      np.random.seed(42)\n",
        "      self.init_weights(x.shape[1], y.shape[1]) # 784, 10\n",
        "      # epochs만큼 반복\n",
        "      for i in range(epochs):\n",
        "        loss = 0 # epochs 마다 손실을 기록한다\n",
        "        print('.', end='')\n",
        "        # 제너레이터 함수에서 반환한 미니 배치를 순환합니다\n",
        "        for x_batch, y_batch in self.gen_batch(x, y):  # x:(48000,784) y:(48000,10)\n",
        "          a = self.training(x_batch, y_batch)          # x_batch:(256,784) y_batch:(256,10) -> a:(256,10)\n",
        "          a = np.clip(a, 1e-10, 1-1e-10)\n",
        "          loss += np.sum(-y_batch * np.log(a))         # loss -> 스칼라값\n",
        "        self.losses.append((loss + self.reg_loss()) / len(x)) # 훈련세트 전체 크기로 나눈다 (48000)\n",
        "        # epoch 마다 검증 세트에 대한 손실 계산\n",
        "        self.update_val_loss(x_val, y_val)             # x_val:(12000,784), y_val:(12000,10)\n",
        "\n",
        "    \n",
        "  def gen_batch(self, x, y): # x:(48000,784) y:(48000,10)\n",
        "      length = len(x)  # 48000\n",
        "      bins = length // self.batch_size # 48000/256 -> 187.5\n",
        "      if length % self.batch_size: # 미니배치횟수 187+1 -> 188회\n",
        "        bins += 1 \n",
        "      indexes = np.random.permutation(np.arange(len(x))) # 전체 인덱스를 섞는다\n",
        "      x = x[indexes]\n",
        "      y = y[indexes]\n",
        "      for i in range(bins): # 미니배치횟수만큼 루프를 돈다 (48000 = 256 x 187 + 128 x 1)\n",
        "        start = self.batch_size * i\n",
        "        end = self.batch_size * (i+1)\n",
        "        yield x[start:end], y[start:end] # batch_size만큼 슬라이싱하여 반환\n",
        "\n",
        "  def training(self, x, y): # x_batch:(256,784) y_batch:(256,10)\n",
        "      m = len(x)              # 256\n",
        "      z = self.forpass(x)     # x_batch:(256,784) -> (256,10)\n",
        "      a = self.softmax(z)     # 활성화 함수적용(다중분류니까 softmax!) -> (256,10)\n",
        "      err = -(y-a)            # (256,10)\n",
        "      w1_grad , b1_grad, w2_grad, b2_grad = self.backprop(x, err) # (256,784), (256,10)\n",
        "      w1_grad += (self.l1 * np.sign(self.w1) + self.l2 * self.w1) / m  # 배치사이즈로 나눈다 (256)\n",
        "      w2_grad += (self.l1 * np.sign(self.w2) + self.l2 * self.w2) / m  # 배치사이즈로 나눈다\n",
        "      # 은닉층의 가중치와 절편을 업데이트\n",
        "      self.w1 -= self.lr * w1_grad\n",
        "      self.b1 -= self.lr * b1_grad\n",
        "      # 출력층의 가중치와 절편을 업데이트\n",
        "      self.w2 -= self.lr * w2_grad\n",
        "      self.b2 -= self.lr * b2_grad\n",
        "      return a  # (256,10)\n",
        "\n",
        "  def predict(self, x):   # x:(12000, 784)\n",
        "      z = self.forpass(x) # z:(12000, 10)\n",
        "      return np.argmax(z, axis=1) # (12000,) -> 각 샘플의 10개 클래스 중에서 가장 예측확률이 높은 인덱스를 반환\n",
        "\n",
        "  def score(self, x, y):  # x:(12000, 784), y:(12000, 10) = (검증세트 정답)\n",
        "      # 예측과 타깃 열 벡터를 비교하여 True의 비율을 반환\n",
        "      return np.mean(self.predict(x) == np.argmax(y, axis=1)) # (12000,) == (12000,)\n",
        "\n",
        "  def reg_loss(self):\n",
        "      # 은닉층과 출력층의 가중치에 규제를 적용\n",
        "      return self.l1 * (np.sum(np.abs(self.w1)) + np.sum(np.abs(self.w2))) + \\\n",
        "             self.l2 / 2 * (np.sum(self.w1**2) + np.sum(self.w2**2))\n",
        "\n",
        "  def update_val_loss(self, x_val, y_val):\n",
        "      z = self.forpass(x_val) # (12000, 10)\n",
        "      a = self.softmax(z) # (12000, 10)\n",
        "      a = np.clip(a, 1e-10, 1-1e-10) \n",
        "      val_loss = np.sum(-y_val * np.log(a))\n",
        "      self.val_losses.append((val_loss + self.reg_loss()) / len(y_val)) # 검증 데이터 전체 크기로 나눈다 (12000)\n",
        "\n",
        "\n",
        "  \n",
        "      "
      ],
      "execution_count": 1,
      "outputs": []
    },
    {
      "cell_type": "code",
      "metadata": {
        "colab": {
          "base_uri": "https://localhost:8080/"
        },
        "id": "hDn7VWC9GjFe",
        "outputId": "d086f001-a4ff-4788-f5ae-07d98ba1277d"
      },
      "source": [
        "import tensorflow as tf\n",
        "from sklearn.model_selection import train_test_split\n",
        "\n",
        "(x_train_all, y_train_all), (x_test, y_test) = tf.keras.datasets.fashion_mnist.load_data()\n",
        "\n",
        "x_train, x_val, y_train, y_val = train_test_split(x_train_all, y_train_all, stratify=y_train_all, \n",
        "                                                  test_size=0.2, random_state=42)\n",
        "\n",
        "print(x_train_all.shape, y_train_all.shape)\n",
        "print(x_test.shape, y_test.shape)\n",
        "print(x_train.shape, x_val.shape)\n",
        "print(y_train.shape, y_val.shape)"
      ],
      "execution_count": 2,
      "outputs": [
        {
          "output_type": "stream",
          "name": "stdout",
          "text": [
            "Downloading data from https://storage.googleapis.com/tensorflow/tf-keras-datasets/train-labels-idx1-ubyte.gz\n",
            "32768/29515 [=================================] - 0s 0us/step\n",
            "40960/29515 [=========================================] - 0s 0us/step\n",
            "Downloading data from https://storage.googleapis.com/tensorflow/tf-keras-datasets/train-images-idx3-ubyte.gz\n",
            "26427392/26421880 [==============================] - 0s 0us/step\n",
            "26435584/26421880 [==============================] - 0s 0us/step\n",
            "Downloading data from https://storage.googleapis.com/tensorflow/tf-keras-datasets/t10k-labels-idx1-ubyte.gz\n",
            "16384/5148 [===============================================================================================] - 0s 0us/step\n",
            "Downloading data from https://storage.googleapis.com/tensorflow/tf-keras-datasets/t10k-images-idx3-ubyte.gz\n",
            "4423680/4422102 [==============================] - 0s 0us/step\n",
            "4431872/4422102 [==============================] - 0s 0us/step\n",
            "(60000, 28, 28) (60000,)\n",
            "(10000, 28, 28) (10000,)\n",
            "(48000, 28, 28) (12000, 28, 28)\n",
            "(48000,) (12000,)\n"
          ]
        }
      ]
    },
    {
      "cell_type": "code",
      "metadata": {
        "colab": {
          "base_uri": "https://localhost:8080/"
        },
        "id": "dJUzNh1VIMEN",
        "outputId": "3c6811cb-739d-4849-c64e-e535604bf5c5"
      },
      "source": [
        "#np.bincount(y_train)\n",
        "np.unique(y_train, return_counts=True)[1]"
      ],
      "execution_count": 3,
      "outputs": [
        {
          "output_type": "execute_result",
          "data": {
            "text/plain": [
              "array([4800, 4800, 4800, 4800, 4800, 4800, 4800, 4800, 4800, 4800])"
            ]
          },
          "metadata": {},
          "execution_count": 3
        }
      ]
    },
    {
      "cell_type": "code",
      "metadata": {
        "id": "93CqFn8o_fZh"
      },
      "source": [
        ""
      ],
      "execution_count": null,
      "outputs": []
    },
    {
      "cell_type": "code",
      "metadata": {
        "colab": {
          "base_uri": "https://localhost:8080/",
          "height": 282
        },
        "id": "uEVb_f3gGr-i",
        "outputId": "0491f45f-5d96-492c-d4a5-5a927cbddd34"
      },
      "source": [
        "import matplotlib.pyplot as plt\n",
        "\n",
        "print(x_train_all[0].shape)\n",
        "plt.imshow(x_train_all[0], cmap='gray')\n",
        "plt.show()"
      ],
      "execution_count": 4,
      "outputs": [
        {
          "output_type": "stream",
          "name": "stdout",
          "text": [
            "(28, 28)\n"
          ]
        },
        {
          "output_type": "display_data",
          "data": {
            "image/png": "[encoded data removed]",
            "text/plain": [
              "<Figure size 432x288 with 1 Axes>"
            ]
          },
          "metadata": {
            "needs_background": "light"
          }
        }
      ]
    },
    {
      "cell_type": "code",
      "metadata": {
        "colab": {
          "base_uri": "https://localhost:8080/"
        },
        "id": "2XADdk8zG6UJ",
        "outputId": "c83d903c-853d-4ade-bea8-3192542c0c55"
      },
      "source": [
        "print(y_train_all[:10])"
      ],
      "execution_count": 5,
      "outputs": [
        {
          "output_type": "stream",
          "name": "stdout",
          "text": [
            "[9 0 0 3 0 2 7 2 5 5]\n"
          ]
        }
      ]
    },
    {
      "cell_type": "code",
      "metadata": {
        "colab": {
          "base_uri": "https://localhost:8080/"
        },
        "id": "wEaSiIFjHtJA",
        "outputId": "6fb01492-26a6-4786-a507-ff093a9c2cbd"
      },
      "source": [
        "x_train = x_train / 255\n",
        "x_val = x_val / 255\n",
        "\n",
        "x_train = x_train.reshape(-1, 784)\n",
        "x_val = x_val.reshape(-1, 784)\n",
        "\n",
        "print(x_train.shape, x_val.shape)"
      ],
      "execution_count": 6,
      "outputs": [
        {
          "output_type": "stream",
          "name": "stdout",
          "text": [
            "(48000, 784) (12000, 784)\n"
          ]
        }
      ]
    },
    {
      "cell_type": "code",
      "metadata": {
        "colab": {
          "base_uri": "https://localhost:8080/"
        },
        "id": "cFYE0Q-TI6PO",
        "outputId": "30ae8422-ec32-4bbf-d157-8a549c2b3c13"
      },
      "source": [
        "tf.keras.utils.to_categorical([0, 1, 3])"
      ],
      "execution_count": 7,
      "outputs": [
        {
          "output_type": "execute_result",
          "data": {
            "text/plain": [
              "array([[1., 0., 0., 0.],\n",
              "       [0., 1., 0., 0.],\n",
              "       [0., 0., 0., 1.]], dtype=float32)"
            ]
          },
          "metadata": {},
          "execution_count": 7
        }
      ]
    },
    {
      "cell_type": "code",
      "metadata": {
        "id": "bZZ8oyzwJJnZ"
      },
      "source": [
        "y_train_encoded = tf.keras.utils.to_categorical(y_train)\n",
        "y_val_encoded = tf.keras.utils.to_categorical(y_val)"
      ],
      "execution_count": 8,
      "outputs": []
    },
    {
      "cell_type": "code",
      "metadata": {
        "colab": {
          "base_uri": "https://localhost:8080/"
        },
        "id": "4QLwDq9yJNui",
        "outputId": "70692ccf-4fc2-4711-d099-e994ec9068c4"
      },
      "source": [
        "print(y_train.shape, y_val.shape)\n",
        "print(y_train_encoded.shape, y_val_encoded.shape)\n",
        "print(y_train[0], y_train_encoded[0])"
      ],
      "execution_count": 9,
      "outputs": [
        {
          "output_type": "stream",
          "name": "stdout",
          "text": [
            "(48000,) (12000,)\n",
            "(48000, 10) (12000, 10)\n",
            "6 [0. 0. 0. 0. 0. 0. 1. 0. 0. 0.]\n"
          ]
        }
      ]
    },
    {
      "cell_type": "code",
      "metadata": {
        "colab": {
          "base_uri": "https://localhost:8080/"
        },
        "id": "X-vYMAJ0JQOK",
        "outputId": "aaee43c5-9036-4bdc-a345-1312fb16d844"
      },
      "source": [
        "fc = MultiClassNetwork(units=100, batch_size=256)\n",
        "fc.fit(x_train, y_train_encoded, \n",
        "       x_val=x_val, y_val=y_val_encoded, epochs=40)"
      ],
      "execution_count": 10,
      "outputs": [
        {
          "output_type": "stream",
          "name": "stdout",
          "text": [
            "........................................"
          ]
        }
      ]
    },
    {
      "cell_type": "code",
      "metadata": {
        "colab": {
          "base_uri": "https://localhost:8080/",
          "height": 278
        },
        "id": "kvwbynIkptSK",
        "outputId": "464383ba-db74-4b1c-d87d-52c2853a39da"
      },
      "source": [
        "plt.plot(fc.losses)\n",
        "plt.plot(fc.val_losses)\n",
        "plt.ylabel('loss')\n",
        "plt.xlabel('iteration')\n",
        "plt.legend(['train_loss', 'val_loss'])\n",
        "plt.show()"
      ],
      "execution_count": 11,
      "outputs": [
        {
          "output_type": "display_data",
          "data": {
            "image/png": "[encoded data removed]",
            "text/plain": [
              "<Figure size 432x288 with 1 Axes>"
            ]
          },
          "metadata": {
            "needs_background": "light"
          }
        }
      ]
    },
    {
      "cell_type": "code",
      "metadata": {
        "colab": {
          "base_uri": "https://localhost:8080/"
        },
        "id": "MwfHK0KwqZ-M",
        "outputId": "6b43b773-594f-4b82-eac9-8990be577d3c"
      },
      "source": [
        "fc.score(x_val, y_val_encoded)"
      ],
      "execution_count": 12,
      "outputs": [
        {
          "output_type": "execute_result",
          "data": {
            "text/plain": [
              "0.81475"
            ]
          },
          "metadata": {},
          "execution_count": 12
        }
      ]
    },
    {
      "cell_type": "code",
      "metadata": {
        "colab": {
          "base_uri": "https://localhost:8080/"
        },
        "id": "aZl7F4jXLLeW",
        "outputId": "71bc4f61-e17a-44cb-8b04-7419a77126c9"
      },
      "source": [
        "fc.score(x_train, y_train_encoded)"
      ],
      "execution_count": 13,
      "outputs": [
        {
          "output_type": "execute_result",
          "data": {
            "text/plain": [
              "0.8215625"
            ]
          },
          "metadata": {},
          "execution_count": 13
        }
      ]
    },
    {
      "cell_type": "code",
      "metadata": {
        "id": "ARbM8olSyWYP"
      },
      "source": [
        ""
      ],
      "execution_count": 13,
      "outputs": []
    },
    {
      "cell_type": "code",
      "metadata": {
        "colab": {
          "base_uri": "https://localhost:8080/"
        },
        "id": "_njpEhlSycPD",
        "outputId": "48b5e664-2ba4-42bb-aad1-43135b9b1b3a"
      },
      "source": [
        "print(y_test[:10])"
      ],
      "execution_count": 14,
      "outputs": [
        {
          "output_type": "stream",
          "name": "stdout",
          "text": [
            "[9 2 1 1 6 1 4 6 5 7]\n"
          ]
        }
      ]
    },
    {
      "cell_type": "code",
      "metadata": {
        "colab": {
          "base_uri": "https://localhost:8080/"
        },
        "id": "8Hu3D7B5treD",
        "outputId": "4fa59335-cc24-4ce2-e1bd-53e8ce08ebd6"
      },
      "source": [
        "from tensorflow.keras import Sequential\n",
        "from tensorflow.keras.layers import Dense\n",
        "\n",
        "model = Sequential()\n",
        "model.add(Dense(100, activation='sigmoid', input_shape=(784,)))\n",
        "model.add(Dense(10, activation='softmax'))\n",
        "model.compile(optimizer='sgd', loss='categorical_crossentropy', metrics=['accuracy'])\n",
        "history = model.fit(x_train, y_train_encoded, epochs=40,\n",
        "                    validation_data=(x_val, y_val_encoded))\n"
      ],
      "execution_count": 15,
      "outputs": [
        {
          "output_type": "stream",
          "name": "stdout",
          "text": [
            "Epoch 1/40\n",
            "1500/1500 [==============================] - 4s 2ms/step - loss: 1.3802 - accuracy: 0.6315 - val_loss: 0.9563 - val_accuracy: 0.7305\n",
            "Epoch 2/40\n",
            "1500/1500 [==============================] - 3s 2ms/step - loss: 0.8395 - accuracy: 0.7440 - val_loss: 0.7488 - val_accuracy: 0.7639\n",
            "Epoch 3/40\n",
            "1500/1500 [==============================] - 3s 2ms/step - loss: 0.7100 - accuracy: 0.7662 - val_loss: 0.6614 - val_accuracy: 0.7810\n",
            "Epoch 4/40\n",
            "1500/1500 [==============================] - 3s 2ms/step - loss: 0.6450 - accuracy: 0.7826 - val_loss: 0.6108 - val_accuracy: 0.7955\n",
            "Epoch 5/40\n",
            "1500/1500 [==============================] - 3s 2ms/step - loss: 0.6031 - accuracy: 0.7943 - val_loss: 0.5746 - val_accuracy: 0.8028\n",
            "Epoch 6/40\n",
            "1500/1500 [==============================] - 3s 2ms/step - loss: 0.5729 - accuracy: 0.8052 - val_loss: 0.5486 - val_accuracy: 0.8120\n",
            "Epoch 7/40\n",
            "1500/1500 [==============================] - 3s 2ms/step - loss: 0.5500 - accuracy: 0.8109 - val_loss: 0.5289 - val_accuracy: 0.8184\n",
            "Epoch 8/40\n",
            "1500/1500 [==============================] - 3s 2ms/step - loss: 0.5320 - accuracy: 0.8168 - val_loss: 0.5119 - val_accuracy: 0.8219\n",
            "Epoch 9/40\n",
            "1500/1500 [==============================] - 3s 2ms/step - loss: 0.5177 - accuracy: 0.8220 - val_loss: 0.4992 - val_accuracy: 0.8256\n",
            "Epoch 10/40\n",
            "1500/1500 [==============================] - 3s 2ms/step - loss: 0.5055 - accuracy: 0.8250 - val_loss: 0.4879 - val_accuracy: 0.8292\n",
            "Epoch 11/40\n",
            "1500/1500 [==============================] - 3s 2ms/step - loss: 0.4954 - accuracy: 0.8283 - val_loss: 0.4799 - val_accuracy: 0.8342\n",
            "Epoch 12/40\n",
            "1500/1500 [==============================] - 3s 2ms/step - loss: 0.4869 - accuracy: 0.8306 - val_loss: 0.4701 - val_accuracy: 0.8348\n",
            "Epoch 13/40\n",
            "1500/1500 [==============================] - 3s 2ms/step - loss: 0.4791 - accuracy: 0.8328 - val_loss: 0.4630 - val_accuracy: 0.8390\n",
            "Epoch 14/40\n",
            "1500/1500 [==============================] - 3s 2ms/step - loss: 0.4720 - accuracy: 0.8350 - val_loss: 0.4579 - val_accuracy: 0.8397\n",
            "Epoch 15/40\n",
            "1500/1500 [==============================] - 3s 2ms/step - loss: 0.4658 - accuracy: 0.8375 - val_loss: 0.4515 - val_accuracy: 0.8395\n",
            "Epoch 16/40\n",
            "1500/1500 [==============================] - 3s 2ms/step - loss: 0.4603 - accuracy: 0.8398 - val_loss: 0.4461 - val_accuracy: 0.8429\n",
            "Epoch 17/40\n",
            "1500/1500 [==============================] - 3s 2ms/step - loss: 0.4550 - accuracy: 0.8408 - val_loss: 0.4428 - val_accuracy: 0.8456\n",
            "Epoch 18/40\n",
            "1500/1500 [==============================] - 3s 2ms/step - loss: 0.4503 - accuracy: 0.8429 - val_loss: 0.4382 - val_accuracy: 0.8447\n",
            "Epoch 19/40\n",
            "1500/1500 [==============================] - 3s 2ms/step - loss: 0.4457 - accuracy: 0.8439 - val_loss: 0.4337 - val_accuracy: 0.8466\n",
            "Epoch 20/40\n",
            "1500/1500 [==============================] - 3s 2ms/step - loss: 0.4419 - accuracy: 0.8461 - val_loss: 0.4305 - val_accuracy: 0.8474\n",
            "Epoch 21/40\n",
            "1500/1500 [==============================] - 3s 2ms/step - loss: 0.4382 - accuracy: 0.8469 - val_loss: 0.4268 - val_accuracy: 0.8483\n",
            "Epoch 22/40\n",
            "1500/1500 [==============================] - 3s 2ms/step - loss: 0.4344 - accuracy: 0.8475 - val_loss: 0.4243 - val_accuracy: 0.8522\n",
            "Epoch 23/40\n",
            "1500/1500 [==============================] - 3s 2ms/step - loss: 0.4309 - accuracy: 0.8485 - val_loss: 0.4210 - val_accuracy: 0.8507\n",
            "Epoch 24/40\n",
            "1500/1500 [==============================] - 3s 2ms/step - loss: 0.4278 - accuracy: 0.8498 - val_loss: 0.4199 - val_accuracy: 0.8524\n",
            "Epoch 25/40\n",
            "1500/1500 [==============================] - 3s 2ms/step - loss: 0.4247 - accuracy: 0.8507 - val_loss: 0.4162 - val_accuracy: 0.8517\n",
            "Epoch 26/40\n",
            "1500/1500 [==============================] - 3s 2ms/step - loss: 0.4219 - accuracy: 0.8519 - val_loss: 0.4138 - val_accuracy: 0.8535\n",
            "Epoch 27/40\n",
            "1500/1500 [==============================] - 3s 2ms/step - loss: 0.4192 - accuracy: 0.8520 - val_loss: 0.4113 - val_accuracy: 0.8552\n",
            "Epoch 28/40\n",
            "1500/1500 [==============================] - 3s 2ms/step - loss: 0.4167 - accuracy: 0.8529 - val_loss: 0.4095 - val_accuracy: 0.8558\n",
            "Epoch 29/40\n",
            "1500/1500 [==============================] - 3s 2ms/step - loss: 0.4141 - accuracy: 0.8531 - val_loss: 0.4062 - val_accuracy: 0.8566\n",
            "Epoch 30/40\n",
            "1500/1500 [==============================] - 3s 2ms/step - loss: 0.4114 - accuracy: 0.8544 - val_loss: 0.4047 - val_accuracy: 0.8577\n",
            "Epoch 31/40\n",
            "1500/1500 [==============================] - 3s 2ms/step - loss: 0.4092 - accuracy: 0.8548 - val_loss: 0.4019 - val_accuracy: 0.8586\n",
            "Epoch 32/40\n",
            "1500/1500 [==============================] - 3s 2ms/step - loss: 0.4069 - accuracy: 0.8565 - val_loss: 0.4019 - val_accuracy: 0.8588\n",
            "Epoch 33/40\n",
            "1500/1500 [==============================] - 3s 2ms/step - loss: 0.4050 - accuracy: 0.8573 - val_loss: 0.4021 - val_accuracy: 0.8577\n",
            "Epoch 34/40\n",
            "1500/1500 [==============================] - 3s 2ms/step - loss: 0.4028 - accuracy: 0.8578 - val_loss: 0.3976 - val_accuracy: 0.8613\n",
            "Epoch 35/40\n",
            "1500/1500 [==============================] - 3s 2ms/step - loss: 0.4008 - accuracy: 0.8580 - val_loss: 0.3955 - val_accuracy: 0.8602\n",
            "Epoch 36/40\n",
            "1500/1500 [==============================] - 3s 2ms/step - loss: 0.3987 - accuracy: 0.8587 - val_loss: 0.3958 - val_accuracy: 0.8593\n",
            "Epoch 37/40\n",
            "1500/1500 [==============================] - 3s 2ms/step - loss: 0.3968 - accuracy: 0.8595 - val_loss: 0.3927 - val_accuracy: 0.8622\n",
            "Epoch 38/40\n",
            "1500/1500 [==============================] - 3s 2ms/step - loss: 0.3947 - accuracy: 0.8605 - val_loss: 0.3917 - val_accuracy: 0.8626\n",
            "Epoch 39/40\n",
            "1500/1500 [==============================] - 3s 2ms/step - loss: 0.3931 - accuracy: 0.8613 - val_loss: 0.3899 - val_accuracy: 0.8636\n",
            "Epoch 40/40\n",
            "1500/1500 [==============================] - 3s 2ms/step - loss: 0.3914 - accuracy: 0.8614 - val_loss: 0.3889 - val_accuracy: 0.8619\n"
          ]
        }
      ]
    },
    {
      "cell_type": "code",
      "metadata": {
        "colab": {
          "base_uri": "https://localhost:8080/"
        },
        "id": "eYCAO2A1vFRx",
        "outputId": "56ae6cd3-b498-4a43-e2c7-19c71834e4d2"
      },
      "source": [
        "print(history.history.keys())"
      ],
      "execution_count": 16,
      "outputs": [
        {
          "output_type": "stream",
          "name": "stdout",
          "text": [
            "dict_keys(['loss', 'accuracy', 'val_loss', 'val_accuracy'])\n"
          ]
        }
      ]
    },
    {
      "cell_type": "code",
      "metadata": {
        "colab": {
          "base_uri": "https://localhost:8080/",
          "height": 278
        },
        "id": "4yL93hV9vq0c",
        "outputId": "05d98547-cf01-455a-985f-c429ce6d24c9"
      },
      "source": [
        "plt.plot(history.history['loss'])\n",
        "plt.plot(history.history['val_loss'])\n",
        "plt.ylabel('loss')\n",
        "plt.xlabel('epoch')\n",
        "plt.legend(['train_loss', 'val_loss'])\n",
        "plt.show()"
      ],
      "execution_count": 17,
      "outputs": [
        {
          "output_type": "display_data",
          "data": {
            "image/png": "[encoded data removed]",
            "text/plain": [
              "<Figure size 432x288 with 1 Axes>"
            ]
          },
          "metadata": {
            "needs_background": "light"
          }
        }
      ]
    },
    {
      "cell_type": "code",
      "metadata": {
        "colab": {
          "base_uri": "https://localhost:8080/",
          "height": 278
        },
        "id": "cOY5aVxCvvOb",
        "outputId": "66d2f040-eafa-43fb-9102-51120720afff"
      },
      "source": [
        "plt.plot(history.history['accuracy'])\n",
        "plt.plot(history.history['val_accuracy'])\n",
        "plt.ylabel('accuracy')\n",
        "plt.xlabel('epoch')\n",
        "plt.legend(['train_accuracy', 'val_accuracy'])\n",
        "plt.show()"
      ],
      "execution_count": 18,
      "outputs": [
        {
          "output_type": "display_data",
          "data": {
            "image/png": "[encoded data removed]",
            "text/plain": [
              "<Figure size 432x288 with 1 Axes>"
            ]
          },
          "metadata": {
            "needs_background": "light"
          }
        }
      ]
    },
    {
      "cell_type": "code",
      "metadata": {
        "colab": {
          "base_uri": "https://localhost:8080/"
        },
        "id": "C6LjKCCMvwmf",
        "outputId": "38a4b2d7-ceff-4425-e12c-8131e3457d77"
      },
      "source": [
        "loss, accuracy = model.evaluate(x_val, y_val_encoded, verbose=0)\n",
        "model.evaluate(x_val, y_val_encoded, verbose=0)"
      ],
      "execution_count": 19,
      "outputs": [
        {
          "output_type": "execute_result",
          "data": {
            "text/plain": [
              "[0.3888535499572754, 0.8619166612625122]"
            ]
          },
          "metadata": {},
          "execution_count": 19
        }
      ]
    },
    {
      "cell_type": "code",
      "metadata": {
        "id": "1ssBuYvgwMH8"
      },
      "source": [
        ""
      ],
      "execution_count": null,
      "outputs": []
    }
  ]
}