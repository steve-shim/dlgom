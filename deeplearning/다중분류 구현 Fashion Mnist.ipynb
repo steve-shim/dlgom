{
  "nbformat": 4,
  "nbformat_minor": 0,
  "metadata": {
    "colab": {
      "name": "7장.ipynb",
      "provenance": [],
      "authorship_tag": "ABX9TyP1Np7/bI3AIFIJV80Hw6zu",
      "include_colab_link": true
    },
    "kernelspec": {
      "name": "python3",
      "display_name": "Python 3"
    },
    "language_info": {
      "name": "python"
    }
  },
  "cells": [
    {
      "cell_type": "markdown",
      "metadata": {
        "id": "view-in-github",
        "colab_type": "text"
      },
      "source": [
        "<a href=\"https://colab.research.google.com/github/steve-shim/dlgom/blob/main/deeplearning/%EB%8B%A4%EC%A4%91%EB%B6%84%EB%A5%98%20%EA%B5%AC%ED%98%84%20Fashion%20Mnist.ipynb\" target=\"_parent\"><img src=\"https://colab.research.google.com/assets/colab-badge.svg\" alt=\"Open In Colab\"/></a>"
      ]
    },
    {
      "cell_type": "code",
      "metadata": {
        "id": "ZWsHWJgpum0T"
      },
      "source": [
        "import numpy as np\n",
        "\n",
        "class MultiClassNetwork:\n",
        "\n",
        "  def __init__(self, units=10, batch_size=32, learning_rate=0.1, l1=0, l2=0):\n",
        "      self.units = units  # 은닉층의 뉴런 개수(100)\n",
        "      self.batch_size = batch_size\n",
        "      self.w1 = None  # 은닉층에 적용되는 가중치\n",
        "      self.b1 = None  # 은닉층의 절편\n",
        "      self.w2 = None  # 출력층에 적용되는 가중치\n",
        "      self.b2 = None  # 출력층의 절편\n",
        "      self.a1 = None  # 은닉층의 활성화 출력\n",
        "      self.losses = []     # 훈련 손실\n",
        "      self.val_losses = [] # 검증 손실\n",
        "      self.lr = learning_rate\n",
        "      self.l1 = l1\n",
        "      self.l2 = l2\n",
        "\n",
        "  def forpass(self, x):             # x_batch:(256,784)\n",
        "      z1 = np.dot(x, self.w1) + self.b1  # (256,784) @ (784,100) -> (256,100)\n",
        "      self.a1 = self.sigmoid(z1)    \n",
        "      z2 = np.dot(self.a1, self.w2) + self.b2 # (256,100) @ (100,10) -> (256,10)\n",
        "      return z2\n",
        "\n",
        "  def backprop(self, x, err): # (256,784), (256,10)\n",
        "      m = len(x) # 샘플 개수\n",
        "      # 출력층의 가중치와 절편에 대한 그레이디언트를 계산\n",
        "      w2_grad = np.dot(self.a1.T, err) / m  # (100,256) @ (256,10) -> (100,10)\n",
        "      b2_grad = np.sum(err) / m\n",
        "      # 시그모이드 함수까지 그레이디언트를 계산\n",
        "      err_to_hidden = np.dot(err, self.w2.T) * self.a1 * (1-self.a1) # (256,10) @ (10,100) -> (256,100)\n",
        "      # 은닉층의 가중치와 절편에 대한 그레이디언트를 계산\n",
        "      w1_grad = np.dot(x.T, err_to_hidden) / m # (784,256) @ (256,100) -> (784,100)\n",
        "      b1_grad = np.sum(err_to_hidden, axis=0) / m # (256,100) -> (100,)\n",
        "      return w1_grad, b1_grad, w2_grad, b2_grad\n",
        "\n",
        "  def sigmoid(self, z):\n",
        "      z = np.clip(z, -100, None)\n",
        "      a = 1 / (1 + np.exp(-z))\n",
        "      return a\n",
        "\n",
        "  def softmax(self, z):\n",
        "      z = np.clip(z, -100, None)\n",
        "      exp_z = np.exp(z)\n",
        "      return exp_z / np.sum(exp_z, axis=1).reshape(-1,1)\n",
        "\n",
        "  def init_weights(self, n_features, n_classes): # 784, 10\n",
        "      self.w1 = np.random.normal(0, 1, \n",
        "                                (n_features, self.units)) # (특성 개수, 은닉층의 크기) 은닉층에 적용되는 가중치\n",
        "      self.b1 = np.zeros(self.units) # 은닉층의 뉴런의 갯수만큼 은닉층의 바이어스가 정해진다\n",
        "      self.w2 = np.random.normal(0, 1, \n",
        "                                (self.units, n_classes))  # (은닉층의 크기, 클래스 개수)\n",
        "      self.b2 = np.zeros(n_classes)  # 클래스 갯수만큼 바이어스값 초기화\n",
        "\n",
        "  def fit(self, x, y, epochs=100, x_val=None, y_val=None): # x:(48000,784) y:(48000,10) x_val:(12000,784), y_val:(12000,10)\n",
        "      np.random.seed(42)\n",
        "      self.init_weights(x.shape[1], y.shape[1]) # 784, 10\n",
        "      # epochs만큼 반복\n",
        "      for i in range(epochs):\n",
        "        loss = 0 # epochs 마다 손실을 기록한다\n",
        "        print('.', end='')\n",
        "        # 제너레이터 함수에서 반환한 미니 배치를 순환합니다\n",
        "        for x_batch, y_batch in self.gen_batch(x, y):  # x:(48000,784) y:(48000,10)\n",
        "          a = self.training(x_batch, y_batch)          # x_batch:(256,784) y_batch:(256,10) -> a:(256,10)\n",
        "          a = np.clip(a, 1e-10, 1-1e-10)\n",
        "          loss += np.sum(-y_batch * np.log(a))         # loss -> 스칼라값\n",
        "        self.losses.append((loss + self.reg_loss()) / len(x)) # 훈련세트 전체 크기로 나눈다 (48000)\n",
        "        # epoch 마다 검증 세트에 대한 손실 계산\n",
        "        self.update_val_loss(x_val, y_val)             # x_val:(12000,784), y_val:(12000,10)\n",
        "\n",
        "    \n",
        "  def gen_batch(self, x, y): # x:(48000,784) y:(48000,10)\n",
        "      length = len(x)  # 48000\n",
        "      bins = length // self.batch_size # 48000/256 -> 187.5\n",
        "      if length % self.batch_size: # 미니배치횟수 187+1 -> 188회\n",
        "        bins += 1 \n",
        "      indexes = np.random.permutation(np.arange(len(x))) # 전체 인덱스를 섞는다\n",
        "      x = x[indexes]\n",
        "      y = y[indexes]\n",
        "      for i in range(bins): # 미니배치횟수만큼 루프를 돈다 (48000 = 256 x 187 + 128 x 1)\n",
        "        start = self.batch_size * i\n",
        "        end = self.batch_size * (i+1)\n",
        "        yield x[start:end], y[start:end] # batch_size만큼 슬라이싱하여 반환\n",
        "\n",
        "  def training(self, x, y): # x_batch:(256,784) y_batch:(256,10)\n",
        "      m = len(x)              # 256\n",
        "      z = self.forpass(x)     # x_batch:(256,784) -> (256,10)\n",
        "      a = self.softmax(z)     # 활성화 함수적용(다중분류니까 softmax!) -> (256,10)\n",
        "      err = -(y-a)            # (256,10)\n",
        "      w1_grad , b1_grad, w2_grad, b2_grad = self.backprop(x, err) # (256,784), (256,10)\n",
        "      w1_grad += (self.l1 * np.sign(self.w1) + self.l2 * self.w1) / m  # 배치사이즈로 나눈다 (256)\n",
        "      w2_grad += (self.l1 * np.sign(self.w2) + self.l2 * self.w2) / m  # 배치사이즈로 나눈다\n",
        "      # 은닉층의 가중치와 절편을 업데이트\n",
        "      self.w1 -= self.lr * w1_grad\n",
        "      self.b1 -= self.lr * b1_grad\n",
        "      # 출력층의 가중치와 절편을 업데이트\n",
        "      self.w2 -= self.lr * w2_grad\n",
        "      self.b2 -= self.lr * b2_grad\n",
        "      return a  # (256,10)\n",
        "\n",
        "  def predict(self, x):   # x:(12000, 784)\n",
        "      z = self.forpass(x) # z:(12000, 10)\n",
        "      return np.argmax(z, axis=1) # (12000,) -> 각 샘플의 10개 클래스 중에서 가장 예측확률이 높은 인덱스를 반환\n",
        "\n",
        "  def score(self, x, y):  # x:(12000, 784), y:(12000, 10) = (검증세트 정답)\n",
        "      # 예측과 타깃 열 벡터를 비교하여 True의 비율을 반환\n",
        "      return np.mean(self.predict(x) == np.argmax(y, axis=1)) # (12000,) == (12000,)\n",
        "\n",
        "  def reg_loss(self):\n",
        "      # 은닉층과 출력층의 가중치에 규제를 적용\n",
        "      return self.l1 * (np.sum(np.abs(self.w1)) + np.sum(np.abs(self.w2))) + \\\n",
        "             self.l2 / 2 * (np.sum(self.w1**2) + np.sum(self.w2**2))\n",
        "\n",
        "  def update_val_loss(self, x_val, y_val):\n",
        "      z = self.forpass(x_val) # (12000, 10)\n",
        "      a = self.softmax(z) # (12000, 10)\n",
        "      a = np.clip(a, 1e-10, 1-1e-10) \n",
        "      val_loss = np.sum(-y_val * np.log(a))\n",
        "      self.val_losses.append((val_loss + self.reg_loss()) / len(y_val)) # 검증 데이터 전체 크기로 나눈다 (12000)\n",
        "\n",
        "\n",
        "  \n",
        "      "
      ],
      "execution_count": 1,
      "outputs": []
    },
    {
      "cell_type": "code",
      "metadata": {
        "colab": {
          "base_uri": "https://localhost:8080/"
        },
        "id": "hDn7VWC9GjFe",
        "outputId": "4ce0470e-39ec-499b-fce0-33ecb8b42972"
      },
      "source": [
        "import tensorflow as tf\n",
        "from sklearn.model_selection import train_test_split\n",
        "\n",
        "(x_train_all, y_train_all), (x_test, y_test) = tf.keras.datasets.fashion_mnist.load_data()\n",
        "\n",
        "x_train, x_val, y_train, y_val = train_test_split(x_train_all, y_train_all, stratify=y_train_all, \n",
        "                                                  test_size=0.2, random_state=42)\n",
        "\n",
        "print(x_train_all.shape, y_train_all.shape)\n",
        "print(x_test.shape, y_test.shape)\n",
        "print(x_train.shape, x_val.shape)\n",
        "print(y_train.shape, y_val.shape)"
      ],
      "execution_count": 2,
      "outputs": [
        {
          "output_type": "stream",
          "name": "stdout",
          "text": [
            "Downloading data from https://storage.googleapis.com/tensorflow/tf-keras-datasets/train-labels-idx1-ubyte.gz\n",
            "32768/29515 [=================================] - 0s 0us/step\n",
            "40960/29515 [=========================================] - 0s 0us/step\n",
            "Downloading data from https://storage.googleapis.com/tensorflow/tf-keras-datasets/train-images-idx3-ubyte.gz\n",
            "26427392/26421880 [==============================] - 0s 0us/step\n",
            "26435584/26421880 [==============================] - 0s 0us/step\n",
            "Downloading data from https://storage.googleapis.com/tensorflow/tf-keras-datasets/t10k-labels-idx1-ubyte.gz\n",
            "16384/5148 [===============================================================================================] - 0s 0us/step\n",
            "Downloading data from https://storage.googleapis.com/tensorflow/tf-keras-datasets/t10k-images-idx3-ubyte.gz\n",
            "4423680/4422102 [==============================] - 0s 0us/step\n",
            "4431872/4422102 [==============================] - 0s 0us/step\n",
            "(60000, 28, 28) (60000,)\n",
            "(10000, 28, 28) (10000,)\n",
            "(48000, 28, 28) (12000, 28, 28)\n",
            "(48000,) (12000,)\n"
          ]
        }
      ]
    },
    {
      "cell_type": "code",
      "metadata": {
        "colab": {
          "base_uri": "https://localhost:8080/"
        },
        "id": "dJUzNh1VIMEN",
        "outputId": "dbe46ab8-0533-4dca-a580-1bd27e7eee4f"
      },
      "source": [
        "#np.bincount(y_train)\n",
        "np.unique(y_train, return_counts=True)[1]"
      ],
      "execution_count": 3,
      "outputs": [
        {
          "output_type": "execute_result",
          "data": {
            "text/plain": [
              "array([4800, 4800, 4800, 4800, 4800, 4800, 4800, 4800, 4800, 4800])"
            ]
          },
          "metadata": {},
          "execution_count": 3
        }
      ]
    },
    {
      "cell_type": "code",
      "metadata": {
        "id": "93CqFn8o_fZh"
      },
      "source": [
        ""
      ],
      "execution_count": 3,
      "outputs": []
    },
    {
      "cell_type": "code",
      "metadata": {
        "colab": {
          "base_uri": "https://localhost:8080/",
          "height": 282
        },
        "id": "uEVb_f3gGr-i",
        "outputId": "0b09118d-29be-4aa1-cdff-fd36fe29274c"
      },
      "source": [
        "import matplotlib.pyplot as plt\n",
        "\n",
        "print(x_train_all[0].shape)\n",
        "plt.imshow(x_train_all[0], cmap='gray')\n",
        "plt.show()"
      ],
      "execution_count": 4,
      "outputs": [
        {
          "output_type": "stream",
          "name": "stdout",
          "text": [
            "(28, 28)\n"
          ]
        },
        {
          "output_type": "display_data",
          "data": {
            "image/png": "[encoded data removed]",
            "text/plain": [
              "<Figure size 432x288 with 1 Axes>"
            ]
          },
          "metadata": {
            "needs_background": "light"
          }
        }
      ]
    },
    {
      "cell_type": "code",
      "metadata": {
        "colab": {
          "base_uri": "https://localhost:8080/"
        },
        "id": "2XADdk8zG6UJ",
        "outputId": "566f2ea2-fa89-4e7f-c17d-d7ff1f5fc3b4"
      },
      "source": [
        "print(y_train_all[:10])"
      ],
      "execution_count": 5,
      "outputs": [
        {
          "output_type": "stream",
          "name": "stdout",
          "text": [
            "[9 0 0 3 0 2 7 2 5 5]\n"
          ]
        }
      ]
    },
    {
      "cell_type": "code",
      "metadata": {
        "colab": {
          "base_uri": "https://localhost:8080/"
        },
        "id": "wEaSiIFjHtJA",
        "outputId": "c98a6308-4282-43d5-d9cb-8e9cc6374f08"
      },
      "source": [
        "x_train = x_train / 255\n",
        "x_val = x_val / 255\n",
        "\n",
        "x_train = x_train.reshape(-1, 784)\n",
        "x_val = x_val.reshape(-1, 784)\n",
        "\n",
        "print(x_train.shape, x_val.shape)"
      ],
      "execution_count": 6,
      "outputs": [
        {
          "output_type": "stream",
          "name": "stdout",
          "text": [
            "(48000, 784) (12000, 784)\n"
          ]
        }
      ]
    },
    {
      "cell_type": "code",
      "metadata": {
        "colab": {
          "base_uri": "https://localhost:8080/"
        },
        "id": "cFYE0Q-TI6PO",
        "outputId": "7e6d5373-d9aa-4d48-9032-a300594c1740"
      },
      "source": [
        "tf.keras.utils.to_categorical([0, 1, 3])"
      ],
      "execution_count": 7,
      "outputs": [
        {
          "output_type": "execute_result",
          "data": {
            "text/plain": [
              "array([[1., 0., 0., 0.],\n",
              "       [0., 1., 0., 0.],\n",
              "       [0., 0., 0., 1.]], dtype=float32)"
            ]
          },
          "metadata": {},
          "execution_count": 7
        }
      ]
    },
    {
      "cell_type": "code",
      "metadata": {
        "id": "bZZ8oyzwJJnZ"
      },
      "source": [
        "y_train_encoded = tf.keras.utils.to_categorical(y_train)\n",
        "y_val_encoded = tf.keras.utils.to_categorical(y_val)"
      ],
      "execution_count": 8,
      "outputs": []
    },
    {
      "cell_type": "code",
      "metadata": {
        "colab": {
          "base_uri": "https://localhost:8080/"
        },
        "id": "4QLwDq9yJNui",
        "outputId": "92374c1f-ae20-401b-d349-380e0396fda1"
      },
      "source": [
        "print(y_train.shape, y_val.shape)\n",
        "print(y_train_encoded.shape, y_val_encoded.shape)\n",
        "print(y_train[0], y_train_encoded[0])"
      ],
      "execution_count": 9,
      "outputs": [
        {
          "output_type": "stream",
          "name": "stdout",
          "text": [
            "(48000,) (12000,)\n",
            "(48000, 10) (12000, 10)\n",
            "6 [0. 0. 0. 0. 0. 0. 1. 0. 0. 0.]\n"
          ]
        }
      ]
    },
    {
      "cell_type": "code",
      "metadata": {
        "colab": {
          "base_uri": "https://localhost:8080/"
        },
        "id": "X-vYMAJ0JQOK",
        "outputId": "ecdc524a-387e-4068-869c-1149fb0b6593"
      },
      "source": [
        "fc = MultiClassNetwork(units=100, batch_size=256)\n",
        "fc.fit(x_train, y_train_encoded, \n",
        "       x_val=x_val, y_val=y_val_encoded, epochs=40)"
      ],
      "execution_count": 10,
      "outputs": [
        {
          "output_type": "stream",
          "name": "stdout",
          "text": [
            "........................................"
          ]
        }
      ]
    },
    {
      "cell_type": "code",
      "metadata": {
        "colab": {
          "base_uri": "https://localhost:8080/",
          "height": 278
        },
        "id": "kvwbynIkptSK",
        "outputId": "14450283-57d9-4909-b567-28b0841f10fe"
      },
      "source": [
        "plt.plot(fc.losses)\n",
        "plt.plot(fc.val_losses)\n",
        "plt.ylabel('loss')\n",
        "plt.xlabel('iteration')\n",
        "plt.legend(['train_loss', 'val_loss'])\n",
        "plt.show()"
      ],
      "execution_count": 11,
      "outputs": [
        {
          "output_type": "display_data",
          "data": {
            "image/png": "[encoded data removed]",
            "text/plain": [
              "<Figure size 432x288 with 1 Axes>"
            ]
          },
          "metadata": {
            "needs_background": "light"
          }
        }
      ]
    },
    {
      "cell_type": "code",
      "metadata": {
        "colab": {
          "base_uri": "https://localhost:8080/"
        },
        "id": "MwfHK0KwqZ-M",
        "outputId": "6d03f241-c4a1-4dfd-f4ca-a7c23f1c0193"
      },
      "source": [
        "fc.score(x_val, y_val_encoded)"
      ],
      "execution_count": 12,
      "outputs": [
        {
          "output_type": "execute_result",
          "data": {
            "text/plain": [
              "0.8150833333333334"
            ]
          },
          "metadata": {},
          "execution_count": 12
        }
      ]
    },
    {
      "cell_type": "code",
      "metadata": {
        "colab": {
          "base_uri": "https://localhost:8080/"
        },
        "id": "aZl7F4jXLLeW",
        "outputId": "8867ee03-353a-40b9-c0cd-bcb8b5ae2104"
      },
      "source": [
        "fc.score(x_train, y_train_encoded)"
      ],
      "execution_count": 13,
      "outputs": [
        {
          "output_type": "execute_result",
          "data": {
            "text/plain": [
              "0.8204375"
            ]
          },
          "metadata": {},
          "execution_count": 13
        }
      ]
    },
    {
      "cell_type": "code",
      "metadata": {
        "id": "ARbM8olSyWYP"
      },
      "source": [
        ""
      ],
      "execution_count": null,
      "outputs": []
    },
    {
      "cell_type": "code",
      "metadata": {
        "colab": {
          "base_uri": "https://localhost:8080/"
        },
        "id": "_njpEhlSycPD",
        "outputId": "671d55c9-1fee-4065-896c-af98b629e127"
      },
      "source": [
        "print(y_test[:10])"
      ],
      "execution_count": 16,
      "outputs": [
        {
          "output_type": "stream",
          "name": "stdout",
          "text": [
            "[9 2 1 1 6 1 4 6 5 7]\n"
          ]
        }
      ]
    },
    {
      "cell_type": "code",
      "metadata": {
        "colab": {
          "base_uri": "https://localhost:8080/"
        },
        "id": "8Hu3D7B5treD",
        "outputId": "e68b1a6a-0b02-412d-cde6-523dfade0f4c"
      },
      "source": [
        "from tensorflow.keras import Sequential\n",
        "from tensorflow.keras.layers import Dense\n",
        "\n",
        "model = Sequential()\n",
        "model.add(Dense(100, activation='sigmoid', input_shape=(784,)))\n",
        "model.add(Dense(10, activation='softmax'))\n",
        "model.compile(optimizer='sgd', loss='categorical_crossentropy', metrics=['accuracy'])\n",
        "history = model.fit(x_train, y_train_encoded, epochs=40,\n",
        "                    validation_data=(x_val, y_val_encoded))\n"
      ],
      "execution_count": 20,
      "outputs": [
        {
          "output_type": "stream",
          "name": "stdout",
          "text": [
            "Epoch 1/40\n",
            "1500/1500 [==============================] - 4s 2ms/step - loss: 1.3760 - accuracy: 0.6470 - val_loss: 0.9674 - val_accuracy: 0.7321\n",
            "Epoch 2/40\n",
            "1500/1500 [==============================] - 3s 2ms/step - loss: 0.8435 - accuracy: 0.7442 - val_loss: 0.7501 - val_accuracy: 0.7557\n",
            "Epoch 3/40\n",
            "1500/1500 [==============================] - 3s 2ms/step - loss: 0.7073 - accuracy: 0.7662 - val_loss: 0.6600 - val_accuracy: 0.7820\n",
            "Epoch 4/40\n",
            "1500/1500 [==============================] - 3s 2ms/step - loss: 0.6417 - accuracy: 0.7808 - val_loss: 0.6083 - val_accuracy: 0.7919\n",
            "Epoch 5/40\n",
            "1500/1500 [==============================] - 3s 2ms/step - loss: 0.6001 - accuracy: 0.7948 - val_loss: 0.5725 - val_accuracy: 0.8053\n",
            "Epoch 6/40\n",
            "1500/1500 [==============================] - 3s 2ms/step - loss: 0.5708 - accuracy: 0.8031 - val_loss: 0.5468 - val_accuracy: 0.8108\n",
            "Epoch 7/40\n",
            "1500/1500 [==============================] - 3s 2ms/step - loss: 0.5485 - accuracy: 0.8104 - val_loss: 0.5275 - val_accuracy: 0.8170\n",
            "Epoch 8/40\n",
            "1500/1500 [==============================] - 3s 2ms/step - loss: 0.5307 - accuracy: 0.8166 - val_loss: 0.5124 - val_accuracy: 0.8218\n",
            "Epoch 9/40\n",
            "1500/1500 [==============================] - 3s 2ms/step - loss: 0.5171 - accuracy: 0.8210 - val_loss: 0.4989 - val_accuracy: 0.8267\n",
            "Epoch 10/40\n",
            "1500/1500 [==============================] - 3s 2ms/step - loss: 0.5054 - accuracy: 0.8254 - val_loss: 0.4904 - val_accuracy: 0.8296\n",
            "Epoch 11/40\n",
            "1500/1500 [==============================] - 3s 2ms/step - loss: 0.4954 - accuracy: 0.8278 - val_loss: 0.4795 - val_accuracy: 0.8315\n",
            "Epoch 12/40\n",
            "1500/1500 [==============================] - 3s 2ms/step - loss: 0.4867 - accuracy: 0.8312 - val_loss: 0.4713 - val_accuracy: 0.8343\n",
            "Epoch 13/40\n",
            "1500/1500 [==============================] - 3s 2ms/step - loss: 0.4790 - accuracy: 0.8333 - val_loss: 0.4659 - val_accuracy: 0.8343\n",
            "Epoch 14/40\n",
            "1500/1500 [==============================] - 3s 2ms/step - loss: 0.4724 - accuracy: 0.8358 - val_loss: 0.4583 - val_accuracy: 0.8380\n",
            "Epoch 15/40\n",
            "1500/1500 [==============================] - 4s 2ms/step - loss: 0.4662 - accuracy: 0.8377 - val_loss: 0.4522 - val_accuracy: 0.8400\n",
            "Epoch 16/40\n",
            "1500/1500 [==============================] - 3s 2ms/step - loss: 0.4605 - accuracy: 0.8404 - val_loss: 0.4473 - val_accuracy: 0.8428\n",
            "Epoch 17/40\n",
            "1500/1500 [==============================] - 3s 2ms/step - loss: 0.4558 - accuracy: 0.8408 - val_loss: 0.4427 - val_accuracy: 0.8441\n",
            "Epoch 18/40\n",
            "1500/1500 [==============================] - 3s 2ms/step - loss: 0.4508 - accuracy: 0.8420 - val_loss: 0.4387 - val_accuracy: 0.8436\n",
            "Epoch 19/40\n",
            "1500/1500 [==============================] - 4s 2ms/step - loss: 0.4464 - accuracy: 0.8444 - val_loss: 0.4357 - val_accuracy: 0.8448\n",
            "Epoch 20/40\n",
            "1500/1500 [==============================] - 3s 2ms/step - loss: 0.4422 - accuracy: 0.8449 - val_loss: 0.4311 - val_accuracy: 0.8483\n",
            "Epoch 21/40\n",
            "1500/1500 [==============================] - 4s 2ms/step - loss: 0.4385 - accuracy: 0.8465 - val_loss: 0.4279 - val_accuracy: 0.8468\n",
            "Epoch 22/40\n",
            "1500/1500 [==============================] - 3s 2ms/step - loss: 0.4348 - accuracy: 0.8465 - val_loss: 0.4251 - val_accuracy: 0.8500\n",
            "Epoch 23/40\n",
            "1500/1500 [==============================] - 3s 2ms/step - loss: 0.4316 - accuracy: 0.8490 - val_loss: 0.4230 - val_accuracy: 0.8528\n",
            "Epoch 24/40\n",
            "1500/1500 [==============================] - 3s 2ms/step - loss: 0.4281 - accuracy: 0.8493 - val_loss: 0.4188 - val_accuracy: 0.8528\n",
            "Epoch 25/40\n",
            "1500/1500 [==============================] - 3s 2ms/step - loss: 0.4252 - accuracy: 0.8516 - val_loss: 0.4172 - val_accuracy: 0.8521\n",
            "Epoch 26/40\n",
            "1500/1500 [==============================] - 3s 2ms/step - loss: 0.4222 - accuracy: 0.8513 - val_loss: 0.4145 - val_accuracy: 0.8536\n",
            "Epoch 27/40\n",
            "1500/1500 [==============================] - 3s 2ms/step - loss: 0.4194 - accuracy: 0.8532 - val_loss: 0.4116 - val_accuracy: 0.8545\n",
            "Epoch 28/40\n",
            "1500/1500 [==============================] - 3s 2ms/step - loss: 0.4168 - accuracy: 0.8534 - val_loss: 0.4099 - val_accuracy: 0.8535\n",
            "Epoch 29/40\n",
            "1500/1500 [==============================] - 3s 2ms/step - loss: 0.4142 - accuracy: 0.8545 - val_loss: 0.4067 - val_accuracy: 0.8564\n",
            "Epoch 30/40\n",
            "1500/1500 [==============================] - 4s 2ms/step - loss: 0.4117 - accuracy: 0.8545 - val_loss: 0.4046 - val_accuracy: 0.8570\n",
            "Epoch 31/40\n",
            "1500/1500 [==============================] - 3s 2ms/step - loss: 0.4094 - accuracy: 0.8556 - val_loss: 0.4040 - val_accuracy: 0.8566\n",
            "Epoch 32/40\n",
            "1500/1500 [==============================] - 3s 2ms/step - loss: 0.4070 - accuracy: 0.8559 - val_loss: 0.4009 - val_accuracy: 0.8575\n",
            "Epoch 33/40\n",
            "1500/1500 [==============================] - 4s 2ms/step - loss: 0.4049 - accuracy: 0.8580 - val_loss: 0.3995 - val_accuracy: 0.8574\n",
            "Epoch 34/40\n",
            "1500/1500 [==============================] - 4s 2ms/step - loss: 0.4028 - accuracy: 0.8579 - val_loss: 0.3980 - val_accuracy: 0.8588\n",
            "Epoch 35/40\n",
            "1500/1500 [==============================] - 4s 2ms/step - loss: 0.4009 - accuracy: 0.8586 - val_loss: 0.3962 - val_accuracy: 0.8606\n",
            "Epoch 36/40\n",
            "1500/1500 [==============================] - 4s 2ms/step - loss: 0.3986 - accuracy: 0.8588 - val_loss: 0.3951 - val_accuracy: 0.8587\n",
            "Epoch 37/40\n",
            "1500/1500 [==============================] - 3s 2ms/step - loss: 0.3967 - accuracy: 0.8594 - val_loss: 0.3943 - val_accuracy: 0.8592\n",
            "Epoch 38/40\n",
            "1500/1500 [==============================] - 3s 2ms/step - loss: 0.3947 - accuracy: 0.8607 - val_loss: 0.3931 - val_accuracy: 0.8614\n",
            "Epoch 39/40\n",
            "1500/1500 [==============================] - 3s 2ms/step - loss: 0.3931 - accuracy: 0.8616 - val_loss: 0.3897 - val_accuracy: 0.8604\n",
            "Epoch 40/40\n",
            "1500/1500 [==============================] - 4s 2ms/step - loss: 0.3910 - accuracy: 0.8614 - val_loss: 0.3946 - val_accuracy: 0.8618\n"
          ]
        }
      ]
    },
    {
      "cell_type": "code",
      "metadata": {
        "colab": {
          "base_uri": "https://localhost:8080/"
        },
        "id": "eYCAO2A1vFRx",
        "outputId": "0e8890f0-8c4e-4781-f00c-d5a8c98f89e9"
      },
      "source": [
        "print(history.history.keys())"
      ],
      "execution_count": 21,
      "outputs": [
        {
          "output_type": "stream",
          "name": "stdout",
          "text": [
            "dict_keys(['loss', 'accuracy', 'val_loss', 'val_accuracy'])\n"
          ]
        }
      ]
    },
    {
      "cell_type": "code",
      "metadata": {
        "colab": {
          "base_uri": "https://localhost:8080/",
          "height": 278
        },
        "id": "4yL93hV9vq0c",
        "outputId": "6b67f1ea-49eb-458d-e2f9-54a5afe65119"
      },
      "source": [
        "plt.plot(history.history['loss'])\n",
        "plt.plot(history.history['val_loss'])\n",
        "plt.ylabel('loss')\n",
        "plt.xlabel('epoch')\n",
        "plt.legend(['train_loss', 'val_loss'])\n",
        "plt.show()"
      ],
      "execution_count": 22,
      "outputs": [
        {
          "output_type": "display_data",
          "data": {
            "image/png": "[encoded data removed]",
            "text/plain": [
              "<Figure size 432x288 with 1 Axes>"
            ]
          },
          "metadata": {
            "needs_background": "light"
          }
        }
      ]
    },
    {
      "cell_type": "code",
      "metadata": {
        "colab": {
          "base_uri": "https://localhost:8080/",
          "height": 278
        },
        "id": "cOY5aVxCvvOb",
        "outputId": "13abca62-7224-48f0-f8bb-f9c30606cef5"
      },
      "source": [
        "plt.plot(history.history['accuracy'])\n",
        "plt.plot(history.history['val_accuracy'])\n",
        "plt.ylabel('accuracy')\n",
        "plt.xlabel('epoch')\n",
        "plt.legend(['train_accuracy', 'val_accuracy'])\n",
        "plt.show()"
      ],
      "execution_count": 23,
      "outputs": [
        {
          "output_type": "display_data",
          "data": {
            "image/png": "[encoded data removed]",
            "text/plain": [
              "<Figure size 432x288 with 1 Axes>"
            ]
          },
          "metadata": {
            "needs_background": "light"
          }
        }
      ]
    },
    {
      "cell_type": "code",
      "metadata": {
        "colab": {
          "base_uri": "https://localhost:8080/"
        },
        "id": "C6LjKCCMvwmf",
        "outputId": "e03d0185-cd9b-4323-f786-f0338f6f6402"
      },
      "source": [
        "loss, accuracy = model.evaluate(x_val, y_val_encoded, verbose=0)\n",
        "model.evaluate(x_val, y_val_encoded, verbose=0)"
      ],
      "execution_count": 24,
      "outputs": [
        {
          "output_type": "execute_result",
          "data": {
            "text/plain": [
              "[0.39460089802742004, 0.8617500066757202]"
            ]
          },
          "metadata": {},
          "execution_count": 24
        }
      ]
    },
    {
      "cell_type": "code",
      "metadata": {
        "id": "1ssBuYvgwMH8"
      },
      "source": [
        ""
      ],
      "execution_count": null,
      "outputs": []
    }
  ]
}