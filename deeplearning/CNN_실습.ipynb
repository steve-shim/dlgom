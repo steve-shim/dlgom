{
  "nbformat": 4,
  "nbformat_minor": 0,
  "metadata": {
    "colab": {
      "name": "CNN 실습.ipynb",
      "provenance": [],
      "authorship_tag": "ABX9TyO267wdtDNlwbK1lnI2r/dy",
      "include_colab_link": true
    },
    "kernelspec": {
      "name": "python3",
      "display_name": "Python 3"
    },
    "language_info": {
      "name": "python"
    },
    "accelerator": "GPU"
  },
  "cells": [
    {
      "cell_type": "markdown",
      "metadata": {
        "id": "view-in-github",
        "colab_type": "text"
      },
      "source": [
        "<a href=\"https://colab.research.google.com/github/steve-shim/dlgom/blob/main/deeplearning/CNN_%EC%8B%A4%EC%8A%B5.ipynb\" target=\"_parent\"><img src=\"https://colab.research.google.com/assets/colab-badge.svg\" alt=\"Open In Colab\"/></a>"
      ]
    },
    {
      "cell_type": "code",
      "metadata": {
        "colab": {
          "base_uri": "https://localhost:8080/"
        },
        "id": "ZTWH2FKlhzSU",
        "outputId": "0223fa61-5e56-402b-d367-a4ebea5de771"
      },
      "source": [
        "x = np.array([1,2,3,0,0,1,2,3,3,0,1,2,2,3,0,1]).reshape(4,4)\n",
        "filter = np.array([2,0,1,0,1,2,1,0,2]).reshape(3,3)\n",
        "\n",
        "dst = np.zeros((len(x)-len(filter)+1, len(x)-len(filter)+1))\n",
        "for i in range(len(x)-len(filter)+1):\n",
        "  for j in range(len(x)-len(filter)+1):\n",
        "    dst[i,j] = np.sum(x[i:i+len(filter),j:len(filter)+j]*filter)\n",
        "\n",
        "print(dst)"
      ],
      "execution_count": 68,
      "outputs": [
        {
          "output_type": "stream",
          "name": "stdout",
          "text": [
            "[[15. 16.]\n",
            " [ 6. 15.]]\n"
          ]
        }
      ]
    },
    {
      "cell_type": "code",
      "metadata": {
        "colab": {
          "base_uri": "https://localhost:8080/"
        },
        "id": "D7bjyLAmWqw4",
        "outputId": "5f8f5ad5-915c-4264-efb2-645696cd2f80"
      },
      "source": [
        "dst = np.zeros((len(x)-len(filter)+1, len(x)-len(filter)+1))\n",
        "for i in range(len(filter)-1):\n",
        "  for j in range(len(filter)-1):\n",
        "    dst[j,i] = np.sum(x[i:i+len(filter),j:len(filter)+j]*filter)\n",
        "\n",
        "print(dst)"
      ],
      "execution_count": 69,
      "outputs": [
        {
          "output_type": "stream",
          "name": "stdout",
          "text": [
            "[[15.  6.]\n",
            " [16. 15.]]\n"
          ]
        }
      ]
    },
    {
      "cell_type": "code",
      "metadata": {
        "colab": {
          "base_uri": "https://localhost:8080/"
        },
        "id": "k1WwlIpYSRns",
        "outputId": "56671488-b4ce-4aff-fd8a-c4e32dcbda2f"
      },
      "source": [
        "import numpy as np\n",
        "\n",
        "x = np.array([1,2,3,0,0,1,2,3,3,0,1,2,2,3,0,1]).reshape(4,4)\n",
        "x"
      ],
      "execution_count": 79,
      "outputs": [
        {
          "output_type": "execute_result",
          "data": {
            "text/plain": [
              "array([[1, 2, 3, 0],\n",
              "       [0, 1, 2, 3],\n",
              "       [3, 0, 1, 2],\n",
              "       [2, 3, 0, 1]])"
            ]
          },
          "metadata": {},
          "execution_count": 79
        }
      ]
    },
    {
      "cell_type": "code",
      "metadata": {
        "colab": {
          "base_uri": "https://localhost:8080/"
        },
        "id": "FlcvHjj4SsKy",
        "outputId": "e99ccc56-3686-46cc-8e7e-b6ab74eadaac"
      },
      "source": [
        "filter = np.array([2,0,1,0,1,2,1,0,2]).reshape(3,3)\n",
        "filter"
      ],
      "execution_count": 80,
      "outputs": [
        {
          "output_type": "execute_result",
          "data": {
            "text/plain": [
              "array([[2, 0, 1],\n",
              "       [0, 1, 2],\n",
              "       [1, 0, 2]])"
            ]
          },
          "metadata": {},
          "execution_count": 80
        }
      ]
    },
    {
      "cell_type": "code",
      "metadata": {
        "colab": {
          "base_uri": "https://localhost:8080/"
        },
        "id": "KFkv7OcnfXyX",
        "outputId": "36593702-181b-4966-978a-b60f5e74500b"
      },
      "source": [
        "x_pad = np.pad(x, pad_width=1, mode='constant', constant_values=0)\n",
        "x_pad"
      ],
      "execution_count": 81,
      "outputs": [
        {
          "output_type": "execute_result",
          "data": {
            "text/plain": [
              "array([[0, 0, 0, 0, 0, 0],\n",
              "       [0, 1, 2, 3, 0, 0],\n",
              "       [0, 0, 1, 2, 3, 0],\n",
              "       [0, 3, 0, 1, 2, 0],\n",
              "       [0, 2, 3, 0, 1, 0],\n",
              "       [0, 0, 0, 0, 0, 0]])"
            ]
          },
          "metadata": {},
          "execution_count": 81
        }
      ]
    },
    {
      "cell_type": "markdown",
      "metadata": {
        "id": "IZPJfme4iJnW"
      },
      "source": [
        "패딩이 없을 경우 \n",
        "\n",
        "4x4 이미지에 3x3 필터를 적용하면 2x2 feature map 이 나온다"
      ]
    },
    {
      "cell_type": "code",
      "metadata": {
        "colab": {
          "base_uri": "https://localhost:8080/"
        },
        "id": "OCvjjj9SiEqe",
        "outputId": "7a683978-1c08-415a-adc0-1438d6791f20"
      },
      "source": [
        "x = np.array([1,2,3,0,0,1,2,3,3,0,1,2,2,3,0,1]).reshape(4,4)\n",
        "filter = np.array([2,0,1,0,1,2,1,0,2]).reshape(3,3)\n",
        "\n",
        "dst = np.zeros((len(x)-len(filter)+1, len(x)-len(filter)+1))\n",
        "for i in range(len(x)-len(filter)+1):\n",
        "  for j in range(len(x)-len(filter)+1):\n",
        "    dst[i,j] = np.sum(x[i:i+len(filter),j:len(filter)+j]*filter)\n",
        "\n",
        "print(dst)"
      ],
      "execution_count": 82,
      "outputs": [
        {
          "output_type": "stream",
          "name": "stdout",
          "text": [
            "[[15. 16.]\n",
            " [ 6. 15.]]\n"
          ]
        }
      ]
    },
    {
      "cell_type": "markdown",
      "metadata": {
        "id": "UqnmPW2xiM4g"
      },
      "source": [
        "zero padding 이 있을 경우 \n",
        "\n",
        "4x4 이미지에 3x3 필터를 적용하면 4x4 feature map 이 나온다\n",
        "\n",
        "필터의 크기가 3x3 이므로 원본의 사이즈를 유지하기 위해서는 pad_width=1 을 해야한다\n",
        "\n",
        "필터 사이즈를 F 라고 했을 때, (F-1)/2 만큼의 패딩을 둘러주면 된다"
      ]
    },
    {
      "cell_type": "code",
      "metadata": {
        "colab": {
          "base_uri": "https://localhost:8080/"
        },
        "id": "ar0AODOMf1-t",
        "outputId": "ac1465c2-9acd-47c1-87f3-dbfdc69c9605"
      },
      "source": [
        "import numpy as np\n",
        "\n",
        "x = np.array([1,2,3,0,0,1,2,3,3,0,1,2,2,3,0,1]).reshape(4,4)\n",
        "x = np.pad(x, pad_width=1, mode='constant', constant_values=0)\n",
        "x"
      ],
      "execution_count": 83,
      "outputs": [
        {
          "output_type": "execute_result",
          "data": {
            "text/plain": [
              "array([[0, 0, 0, 0, 0, 0],\n",
              "       [0, 1, 2, 3, 0, 0],\n",
              "       [0, 0, 1, 2, 3, 0],\n",
              "       [0, 3, 0, 1, 2, 0],\n",
              "       [0, 2, 3, 0, 1, 0],\n",
              "       [0, 0, 0, 0, 0, 0]])"
            ]
          },
          "metadata": {},
          "execution_count": 83
        }
      ]
    },
    {
      "cell_type": "code",
      "metadata": {
        "colab": {
          "base_uri": "https://localhost:8080/"
        },
        "id": "6gRvZOQogk93",
        "outputId": "c808588d-862a-43ae-c78a-7a4385535e3c"
      },
      "source": [
        "filter = np.array([2,0,1,0,1,2,1,0,2]).reshape(3,3)\n",
        "filter"
      ],
      "execution_count": 84,
      "outputs": [
        {
          "output_type": "execute_result",
          "data": {
            "text/plain": [
              "array([[2, 0, 1],\n",
              "       [0, 1, 2],\n",
              "       [1, 0, 2]])"
            ]
          },
          "metadata": {},
          "execution_count": 84
        }
      ]
    },
    {
      "cell_type": "code",
      "metadata": {
        "colab": {
          "base_uri": "https://localhost:8080/"
        },
        "id": "VfFAwicmgnLR",
        "outputId": "b48d6d0f-20f2-43c9-9234-93eb2c697a5d"
      },
      "source": [
        "dst = np.zeros((len(x)-len(filter)+1, len(x)-len(filter)+1))\n",
        "for i in range(len(x)-len(filter)+1):\n",
        "  for j in range(len(x)-len(filter)+1):\n",
        "    dst[i,j] = np.sum(x[i:i+len(filter),j:len(filter)+j]*filter)\n",
        "\n",
        "print(dst)"
      ],
      "execution_count": 85,
      "outputs": [
        {
          "output_type": "stream",
          "name": "stdout",
          "text": [
            "[[ 7. 12. 10.  2.]\n",
            " [ 4. 15. 16. 10.]\n",
            " [10.  6. 15.  6.]\n",
            " [ 8. 10.  4.  3.]]\n"
          ]
        }
      ]
    },
    {
      "cell_type": "markdown",
      "metadata": {
        "id": "UXXjdtPzkS2U"
      },
      "source": [
        "텐서플로우로 convolution 층을 구성"
      ]
    },
    {
      "cell_type": "markdown",
      "metadata": {
        "id": "vfkJrVyclmyT"
      },
      "source": [
        "![image.png](data:image/png;base64,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)"
      ]
    },
    {
      "cell_type": "code",
      "metadata": {
        "colab": {
          "base_uri": "https://localhost:8080/"
        },
        "id": "uC3uavEZGUTM",
        "outputId": "2964a4b3-ecd0-42ef-f913-80421d761c34"
      },
      "source": [
        "import tensorflow as tf   # 텐써 플로우 2.0 \n",
        "from tensorflow.keras.datasets.mnist import load_data                                                                            # mnist 데이터를 가져온다.\n",
        "from tensorflow.keras.models import Sequential  # 모델을 구성하기 위한 모듈\n",
        "from tensorflow.keras.layers import Dense, Conv2D, MaxPooling2D, Flatten  # 완전 연결계층을 구성하기 위한 모듈\n",
        "from tensorflow.keras.utils import to_categorical # one encoding 하는 모듈\n",
        "\n",
        "tf.random.set_seed(777)\n",
        "\n",
        "(x_train, y_train), (x_test, y_test) = load_data(path='mnist.npz')  # mnist 데이터 로드\n",
        "    \n",
        "# 2. 정규화 진행  \n",
        "x_train = x_train.reshape(-1, 28 * 28, 1) \n",
        "x_test = x_test.reshape(-1, 28 * 28, 1)\n",
        "\n",
        "x_train = x_train / 255\n",
        "x_test = x_test / 255\n",
        "\n",
        "# 3. 정답 데이터를 준비한다. \n",
        "# 하나의 숫자를 one hot encoding 한다. (예:  4 ---> 0 0 0 0 1 0 0 0 0 0 ) \n",
        "y_train = to_categorical(y_train)  # 훈련 데이터의 라벨(정답)을 원핫 인코딩\n",
        "y_test = to_categorical(y_test)    # 테스트 데이터의 라벨(정답)을 원핫 인코딩 \n",
        "\n",
        "# 4. 모델을 구성합니다. 3층 신경망으로 구성\n",
        "model = Sequential()\n",
        "model.add(Conv2D(100, kernel_size=(5,5), input_shape=(28,28,1), activation='relu', padding='same'))\n",
        "model.add(MaxPooling2D(pool_size=(2,2)))\n",
        "model.add(Flatten())\n",
        "model.add(Dense(50, activation = 'sigmoid'))  # 1층\n",
        "model.add(Dense(50, activation = 'sigmoid') ) # 2층 은닉층 \n",
        "model.add(Dense(10, activation = 'softmax'))  # 3층 출력층 \n",
        "model.summary()"
      ],
      "execution_count": 79,
      "outputs": [
        {
          "output_type": "stream",
          "name": "stdout",
          "text": [
            "Model: \"sequential_16\"\n",
            "_________________________________________________________________\n",
            "Layer (type)                 Output Shape              Param #   \n",
            "=================================================================\n",
            "conv2d_14 (Conv2D)           (None, 28, 28, 100)       2600      \n",
            "_________________________________________________________________\n",
            "max_pooling2d_14 (MaxPooling (None, 14, 14, 100)       0         \n",
            "_________________________________________________________________\n",
            "flatten_11 (Flatten)         (None, 19600)             0         \n",
            "_________________________________________________________________\n",
            "dense_41 (Dense)             (None, 50)                980050    \n",
            "_________________________________________________________________\n",
            "dense_42 (Dense)             (None, 50)                2550      \n",
            "_________________________________________________________________\n",
            "dense_43 (Dense)             (None, 10)                510       \n",
            "=================================================================\n",
            "Total params: 985,710\n",
            "Trainable params: 985,710\n",
            "Non-trainable params: 0\n",
            "_________________________________________________________________\n"
          ]
        }
      ]
    },
    {
      "cell_type": "code",
      "metadata": {
        "colab": {
          "base_uri": "https://localhost:8080/"
        },
        "id": "pcYi87AZwPrG",
        "outputId": "a2495231-7fac-4e02-ee79-e124a9420aec"
      },
      "source": [
        "import tensorflow as tf   # 텐써 플로우 2.0 \n",
        "from tensorflow.keras.datasets.mnist import load_data  # 텐써플로우에 내장되어있는 \n",
        "                                                                         # mnist 데이터를 가져온다.\n",
        "from tensorflow.keras.models import Sequential  # 모델을 구성하기 위한 모듈\n",
        "from tensorflow.keras.layers import Dense, Conv2D, MaxPooling2D, Flatten  # 완전 연결계층을 구성하기 위한 모듈\n",
        "from tensorflow.keras.utils import to_categorical # one encoding 하는 모듈\n",
        "\n",
        "tf.random.set_seed(777)\n",
        "\n",
        "(x_train, y_train), (x_test, y_test) = load_data(path='mnist.npz')  # mnist 데이터 로드\n",
        "    \n",
        "# 2. 정규화 진행  \n",
        "x_train = x_train.reshape(-1, 28 * 28, 1) \n",
        "x_test = x_test.reshape(-1, 28 * 28, 1)\n",
        "\n",
        "x_train = x_train / 255\n",
        "x_test = x_test / 255\n",
        "\n",
        "# 3. 정답 데이터를 준비한다. \n",
        "# 하나의 숫자를 one hot encoding 한다. (예:  4 ---> 0 0 0 0 1 0 0 0 0 0 ) \n",
        "y_train = to_categorical(y_train)  # 훈련 데이터의 라벨(정답)을 원핫 인코딩\n",
        "y_test = to_categorical(y_test)    # 테스트 데이터의 라벨(정답)을 원핫 인코딩 \n",
        "\n",
        "# 4. 모델을 구성합니다. 3층 신경망으로 구성\n",
        "model = Sequential()\n",
        "model.add(Conv2D(100, kernel_size=(5,5), input_shape=(28,28,1), activation='relu'))\n",
        "model.add(MaxPooling2D(pool_size=(2,2), padding='same'))\n",
        "model.add(Flatten())\n",
        "model.add(Dense(50, activation = 'sigmoid'))  # 1층\n",
        "model.add(Dense(50, activation = 'sigmoid') ) # 2층 은닉층 \n",
        "model.add(Dense(10, activation = 'softmax'))  # 3층 출력층 \n",
        "model.summary()"
      ],
      "execution_count": null,
      "outputs": [
        {
          "output_type": "stream",
          "name": "stdout",
          "text": [
            "Model: \"sequential_7\"\n",
            "_________________________________________________________________\n",
            "Layer (type)                 Output Shape              Param #   \n",
            "=================================================================\n",
            "conv2d_5 (Conv2D)            (None, 24, 24, 100)       2600      \n",
            "_________________________________________________________________\n",
            "max_pooling2d_5 (MaxPooling2 (None, 12, 12, 100)       0         \n",
            "_________________________________________________________________\n",
            "flatten_2 (Flatten)          (None, 14400)             0         \n",
            "_________________________________________________________________\n",
            "dense_14 (Dense)             (None, 50)                720050    \n",
            "_________________________________________________________________\n",
            "dense_15 (Dense)             (None, 50)                2550      \n",
            "_________________________________________________________________\n",
            "dense_16 (Dense)             (None, 10)                510       \n",
            "=================================================================\n",
            "Total params: 725,710\n",
            "Trainable params: 725,710\n",
            "Non-trainable params: 0\n",
            "_________________________________________________________________\n"
          ]
        }
      ]
    },
    {
      "cell_type": "code",
      "metadata": {
        "colab": {
          "base_uri": "https://localhost:8080/",
          "height": 1000
        },
        "id": "JPjgqUmIqm11",
        "outputId": "595d1109-8c9b-459f-ee72-b8d745143503"
      },
      "source": [
        "import tensorflow as tf   # 텐써 플로우 2.0 \n",
        "from tensorflow.keras.datasets.mnist import load_data  # 텐써플로우에 내장되어있는 \n",
        "                                                                         # mnist 데이터를 가져온다.\n",
        "from tensorflow.keras.models import Sequential  # 모델을 구성하기 위한 모듈\n",
        "from tensorflow.keras.layers import Dense, Conv2D, MaxPooling2D, Flatten  # 완전 연결계층을 구성하기 위한 모듈\n",
        "from tensorflow.keras.utils import to_categorical # one encoding 하는 모듈\n",
        "\n",
        "tf.random.set_seed(777)\n",
        "\n",
        "(x_train, y_train), (x_test, y_test) = load_data(path='mnist.npz')  # mnist 데이터 로드\n",
        "    \n",
        "# 2. 정규화 진행  \n",
        "x_train = x_train.reshape(-1, 28, 28, 1) \n",
        "x_test = x_test.reshape(-1, 28, 28, 1)\n",
        "\n",
        "x_train = x_train / 255\n",
        "x_test = x_test / 255\n",
        "\n",
        "# 3. 정답 데이터를 준비한다. \n",
        "# 하나의 숫자를 one hot encoding 한다. (예:  4 ---> 0 0 0 0 1 0 0 0 0 0 ) \n",
        "y_train = to_categorical(y_train)  # 훈련 데이터의 라벨(정답)을 원핫 인코딩\n",
        "y_test = to_categorical(y_test)    # 테스트 데이터의 라벨(정답)을 원핫 인코딩 \n",
        "\n",
        "# 4. 모델을 구성합니다. 3층 신경망으로 구성\n",
        "model = Sequential()\n",
        "model.add(Conv2D(100, kernel_size=(5,5), input_shape=(28,28,1), activation='relu'))\n",
        "model.add(MaxPooling2D(pool_size=(2,2), padding='same'))\n",
        "model.add(Flatten())\n",
        "model.add(Dense(50, activation = 'sigmoid'))  # 1층\n",
        "model.add(Dense(50, activation = 'sigmoid') ) # 2층 은닉층 \n",
        "model.add(Dense(10, activation = 'softmax'))  # 3층 출력층 \n",
        "\n",
        "# 5. 모델을 설정합니다. ( 경사하강법, 오차함수를 정의해줍니다. )\n",
        "model.compile(optimizer='SGD', \n",
        "                     loss = 'categorical_crossentropy', \n",
        "                     metrics=['acc'])  # 학습과정에서 정확도를 보려고 \n",
        "\n",
        "#6. 모델을 훈련시킵니다. \n",
        "\n",
        "history = model.fit(x_train, y_train, \n",
        "                         epochs = 30,  # 30에폭\n",
        "                         batch_size = 100,\n",
        "                         validation_split=0.2 )\n",
        "\n",
        "# 7.모델을 평가합니다. (오차, 정확도가 출력됩니다.)\n",
        "model.evaluate(x_test, y_test)\n",
        "\n",
        "train_acc_list=history.history['acc']\n",
        "train_acc_list\n",
        "\n",
        "test_acc_list=history.history['val_acc']\n",
        "test_acc_list\n",
        "\n",
        "import  matplotlib.pyplot  as  plt\n",
        "\n",
        "x = np.arange( len(train_acc_list) )\n",
        "plt.plot( x, train_acc_list, label='train acc')\n",
        "plt.plot( x, test_acc_list, label='test acc',  linestyle='--')\n",
        "plt.ylim(0, 1)\n",
        "plt.legend(loc='lower right')\n",
        "plt.xlabel('epochs')\n",
        "plt.ylabel('accuracy')\n",
        "plt.show()"
      ],
      "execution_count": 77,
      "outputs": [
        {
          "output_type": "stream",
          "name": "stdout",
          "text": [
            "Epoch 1/30\n",
            "480/480 [==============================] - 53s 108ms/step - loss: 2.3027 - acc: 0.1113 - val_loss: 2.2835 - val_acc: 0.1060\n",
            "Epoch 2/30\n",
            "480/480 [==============================] - 52s 107ms/step - loss: 2.2624 - acc: 0.1838 - val_loss: 2.2302 - val_acc: 0.2637\n",
            "Epoch 3/30\n",
            "480/480 [==============================] - 52s 108ms/step - loss: 2.1611 - acc: 0.4536 - val_loss: 2.0571 - val_acc: 0.4717\n",
            "Epoch 4/30\n",
            "480/480 [==============================] - 51s 107ms/step - loss: 1.9098 - acc: 0.5644 - val_loss: 1.7392 - val_acc: 0.6398\n",
            "Epoch 5/30\n",
            "480/480 [==============================] - 51s 106ms/step - loss: 1.5982 - acc: 0.6575 - val_loss: 1.4390 - val_acc: 0.7290\n",
            "Epoch 6/30\n",
            "480/480 [==============================] - 51s 106ms/step - loss: 1.3296 - acc: 0.7399 - val_loss: 1.1924 - val_acc: 0.7884\n",
            "Epoch 7/30\n",
            "480/480 [==============================] - 51s 106ms/step - loss: 1.1127 - acc: 0.7921 - val_loss: 0.9955 - val_acc: 0.8266\n",
            "Epoch 8/30\n",
            "480/480 [==============================] - 52s 108ms/step - loss: 0.9422 - acc: 0.8249 - val_loss: 0.8443 - val_acc: 0.8502\n",
            "Epoch 9/30\n",
            "480/480 [==============================] - 51s 106ms/step - loss: 0.8114 - acc: 0.8464 - val_loss: 0.7297 - val_acc: 0.8660\n",
            "Epoch 10/30\n",
            "480/480 [==============================] - 51s 107ms/step - loss: 0.7114 - acc: 0.8611 - val_loss: 0.6427 - val_acc: 0.8775\n",
            "Epoch 11/30\n",
            "480/480 [==============================] - 51s 106ms/step - loss: 0.6341 - acc: 0.8725 - val_loss: 0.5745 - val_acc: 0.8861\n",
            "Epoch 12/30\n",
            "480/480 [==============================] - 51s 106ms/step - loss: 0.5733 - acc: 0.8818 - val_loss: 0.5210 - val_acc: 0.8936\n",
            "Epoch 13/30\n",
            "480/480 [==============================] - 51s 105ms/step - loss: 0.5250 - acc: 0.8885 - val_loss: 0.4790 - val_acc: 0.8988\n",
            "Epoch 14/30\n",
            "480/480 [==============================] - 51s 106ms/step - loss: 0.4859 - acc: 0.8935 - val_loss: 0.4452 - val_acc: 0.9038\n",
            "Epoch 15/30\n",
            "480/480 [==============================] - 51s 106ms/step - loss: 0.4538 - acc: 0.8976 - val_loss: 0.4173 - val_acc: 0.9077\n",
            "Epoch 16/30\n",
            "480/480 [==============================] - 50s 105ms/step - loss: 0.4271 - acc: 0.9008 - val_loss: 0.3940 - val_acc: 0.9102\n",
            "Epoch 17/30\n",
            "480/480 [==============================] - 51s 106ms/step - loss: 0.4046 - acc: 0.9041 - val_loss: 0.3743 - val_acc: 0.9118\n",
            "Epoch 18/30\n",
            "480/480 [==============================] - 50s 105ms/step - loss: 0.3854 - acc: 0.9071 - val_loss: 0.3569 - val_acc: 0.9155\n",
            "Epoch 19/30\n",
            "480/480 [==============================] - 51s 106ms/step - loss: 0.3685 - acc: 0.9094 - val_loss: 0.3425 - val_acc: 0.9176\n",
            "Epoch 20/30\n",
            "480/480 [==============================] - 51s 107ms/step - loss: 0.3537 - acc: 0.9123 - val_loss: 0.3299 - val_acc: 0.9195\n",
            "Epoch 21/30\n",
            "480/480 [==============================] - 51s 106ms/step - loss: 0.3407 - acc: 0.9146 - val_loss: 0.3178 - val_acc: 0.9215\n",
            "Epoch 22/30\n",
            "480/480 [==============================] - 51s 106ms/step - loss: 0.3291 - acc: 0.9162 - val_loss: 0.3089 - val_acc: 0.9222\n",
            "Epoch 23/30\n",
            "480/480 [==============================] - 51s 106ms/step - loss: 0.3185 - acc: 0.9183 - val_loss: 0.2989 - val_acc: 0.9238\n",
            "Epoch 24/30\n",
            "480/480 [==============================] - 51s 106ms/step - loss: 0.3088 - acc: 0.9204 - val_loss: 0.2898 - val_acc: 0.9256\n",
            "Epoch 25/30\n",
            "480/480 [==============================] - 51s 106ms/step - loss: 0.2998 - acc: 0.9225 - val_loss: 0.2822 - val_acc: 0.9276\n",
            "Epoch 26/30\n",
            "480/480 [==============================] - 51s 107ms/step - loss: 0.2915 - acc: 0.9241 - val_loss: 0.2751 - val_acc: 0.9285\n",
            "Epoch 27/30\n",
            "480/480 [==============================] - 51s 107ms/step - loss: 0.2836 - acc: 0.9264 - val_loss: 0.2686 - val_acc: 0.9306\n",
            "Epoch 28/30\n",
            "480/480 [==============================] - 51s 106ms/step - loss: 0.2764 - acc: 0.9276 - val_loss: 0.2617 - val_acc: 0.9317\n",
            "Epoch 29/30\n",
            "480/480 [==============================] - 51s 106ms/step - loss: 0.2695 - acc: 0.9292 - val_loss: 0.2560 - val_acc: 0.9344\n",
            "Epoch 30/30\n",
            "480/480 [==============================] - 50s 105ms/step - loss: 0.2629 - acc: 0.9304 - val_loss: 0.2506 - val_acc: 0.9353\n",
            "313/313 [==============================] - 4s 11ms/step - loss: 0.2520 - acc: 0.9330\n"
          ]
        },
        {
          "output_type": "display_data",
          "data": {
            "image/png": "[encoded data removed]",
            "text/plain": [
              "<Figure size 432x288 with 1 Axes>"
            ]
          },
          "metadata": {
            "needs_background": "light"
          }
        }
      ]
    },
    {
      "cell_type": "code",
      "metadata": {
        "id": "1RqWS11TsElY"
      },
      "source": [
        ""
      ],
      "execution_count": null,
      "outputs": []
    },
    {
      "cell_type": "code",
      "metadata": {
        "id": "N_Dw2Dw5rvd9"
      },
      "source": [
        ""
      ],
      "execution_count": null,
      "outputs": []
    },
    {
      "cell_type": "markdown",
      "metadata": {
        "id": "_LsuQhynrwJK"
      },
      "source": [
        "Fashion Mnist 데이터로 CNN 적용하기"
      ]
    },
    {
      "cell_type": "code",
      "metadata": {
        "colab": {
          "base_uri": "https://localhost:8080/"
        },
        "id": "xWctigyVrSX4",
        "outputId": "95e64896-61a4-49a8-9706-d20a0623fc14"
      },
      "source": [
        "from tensorflow import keras\n",
        "from tensorflow.keras import Sequential\n",
        "from tensorflow.keras.layers import Dense, BatchNormalization, Dropout, Conv2D, MaxPooling2D, Flatten, BatchNormalization\n",
        "from tensorflow.keras.callbacks import EarlyStopping\n",
        "from tensorflow.keras.callbacks import ModelCheckpoint\n",
        "from sklearn.model_selection import train_test_split\n",
        "\n",
        "(train_input, train_target), (test_input, test_target) =\\\n",
        "  keras.datasets.fashion_mnist.load_data()\n",
        "\n",
        "print(train_input.shape)\n",
        "print(train_target.shape)\n",
        "print(test_input.shape)\n",
        "print(test_target.shape)"
      ],
      "execution_count": 2,
      "outputs": [
        {
          "output_type": "stream",
          "name": "stdout",
          "text": [
            "Downloading data from https://storage.googleapis.com/tensorflow/tf-keras-datasets/train-labels-idx1-ubyte.gz\n",
            "32768/29515 [=================================] - 0s 0us/step\n",
            "40960/29515 [=========================================] - 0s 0us/step\n",
            "Downloading data from https://storage.googleapis.com/tensorflow/tf-keras-datasets/train-images-idx3-ubyte.gz\n",
            "26427392/26421880 [==============================] - 0s 0us/step\n",
            "26435584/26421880 [==============================] - 0s 0us/step\n",
            "Downloading data from https://storage.googleapis.com/tensorflow/tf-keras-datasets/t10k-labels-idx1-ubyte.gz\n",
            "16384/5148 [===============================================================================================] - 0s 0us/step\n",
            "Downloading data from https://storage.googleapis.com/tensorflow/tf-keras-datasets/t10k-images-idx3-ubyte.gz\n",
            "4423680/4422102 [==============================] - 0s 0us/step\n",
            "4431872/4422102 [==============================] - 0s 0us/step\n",
            "(60000, 28, 28)\n",
            "(60000,)\n",
            "(10000, 28, 28)\n",
            "(10000,)\n"
          ]
        }
      ]
    },
    {
      "cell_type": "markdown",
      "metadata": {
        "id": "jp2s52nRsWAF"
      },
      "source": [
        "데이터 정규화"
      ]
    },
    {
      "cell_type": "code",
      "metadata": {
        "id": "_l0yVSFqrY6j"
      },
      "source": [
        "train_scaled = train_input.reshape(-1,28,28,1) / 255.0"
      ],
      "execution_count": 3,
      "outputs": []
    },
    {
      "cell_type": "code",
      "metadata": {
        "colab": {
          "base_uri": "https://localhost:8080/"
        },
        "id": "dA3F6IJosYji",
        "outputId": "8dd9d36f-e012-4954-9e0b-9d14a2cf2f49"
      },
      "source": [
        "train_scaled, val_scaled, train_target, val_target = train_test_split(\n",
        "    train_scaled, train_target, test_size=0.2, random_state=42\n",
        ")\n",
        "print(train_scaled.shape)\n",
        "print(val_scaled.shape)\n",
        "print(train_target.shape)\n",
        "print(val_target.shape)\n",
        "\n",
        "# y_train = to_categorical(y_train)  # 훈련 데이터의 라벨(정답)을 원핫 인코딩\n",
        "# y_test = to_categorical(y_test)    # 테스트 데이터의 라벨(정답)을 원핫 인코딩 "
      ],
      "execution_count": 4,
      "outputs": [
        {
          "output_type": "stream",
          "name": "stdout",
          "text": [
            "(48000, 28, 28, 1)\n",
            "(12000, 28, 28, 1)\n",
            "(48000,)\n",
            "(12000,)\n"
          ]
        }
      ]
    },
    {
      "cell_type": "markdown",
      "metadata": {
        "id": "klDZ1Zsps1o7"
      },
      "source": [
        "모델 생성"
      ]
    },
    {
      "cell_type": "code",
      "metadata": {
        "id": "kHFyd3ULsiMx"
      },
      "source": [
        "# 첫번째 합성곱\n",
        "model = Sequential()\n",
        "model.add(Conv2D(32, kernel_size=3, activation='relu', padding='same', input_shape=(28,28,1)))\n",
        "#model.add(BatchNormalization())\n",
        "model.add(MaxPooling2D(2))\n",
        "\n",
        "# 두번째 합성곱-풀링층 추가\n",
        "model.add(Conv2D(64, kernel_size=3, activation='relu', padding='same'))\n",
        "#model.add(BatchNormalization())\n",
        "model.add(MaxPooling2D(2))\n",
        "\n",
        "# 3차원 특성맵을 펼친다\n",
        "model.add(Flatten())\n",
        "model.add(Dense(100, activation='relu'))\n",
        "#model.add(BatchNormalization())\n",
        "#model.add(Dropout(0.4))\n",
        "model.add(Dense(10, activation='softmax'))"
      ],
      "execution_count": 5,
      "outputs": []
    },
    {
      "cell_type": "code",
      "metadata": {
        "colab": {
          "base_uri": "https://localhost:8080/"
        },
        "id": "VZEL7iZftoKy",
        "outputId": "7bfcea05-a076-4418-f631-eac906d47243"
      },
      "source": [
        "model.summary()\n",
        "# 학습되는 모델파라미터 갯수\n",
        "# 3x3x1x32 + 32 = 320\n",
        "# 3x3x32x64 + 64 = 18496\n",
        "# 3136x100 + 100 = 313700\n",
        "# 100x10 + 10 = 1010"
      ],
      "execution_count": 6,
      "outputs": [
        {
          "output_type": "stream",
          "name": "stdout",
          "text": [
            "Model: \"sequential\"\n",
            "_________________________________________________________________\n",
            "Layer (type)                 Output Shape              Param #   \n",
            "=================================================================\n",
            "conv2d (Conv2D)              (None, 28, 28, 32)        320       \n",
            "_________________________________________________________________\n",
            "max_pooling2d (MaxPooling2D) (None, 14, 14, 32)        0         \n",
            "_________________________________________________________________\n",
            "conv2d_1 (Conv2D)            (None, 14, 14, 64)        18496     \n",
            "_________________________________________________________________\n",
            "max_pooling2d_1 (MaxPooling2 (None, 7, 7, 64)          0         \n",
            "_________________________________________________________________\n",
            "flatten (Flatten)            (None, 3136)              0         \n",
            "_________________________________________________________________\n",
            "dense (Dense)                (None, 100)               313700    \n",
            "_________________________________________________________________\n",
            "dense_1 (Dense)              (None, 10)                1010      \n",
            "=================================================================\n",
            "Total params: 333,526\n",
            "Trainable params: 333,526\n",
            "Non-trainable params: 0\n",
            "_________________________________________________________________\n"
          ]
        }
      ]
    },
    {
      "cell_type": "code",
      "metadata": {
        "id": "dVeQ6AHytsNf",
        "colab": {
          "base_uri": "https://localhost:8080/",
          "height": 635
        },
        "outputId": "21bd4727-c57a-4588-a998-ab6ae3c4d79b"
      },
      "source": [
        "keras.utils.plot_model(model, show_shapes=True,\n",
        "                       to_file='cnn-architecture.png', dpi=70)"
      ],
      "execution_count": 7,
      "outputs": [
        {
          "output_type": "execute_result",
          "data": {
            "image/png": "[encoded data removed]",
            "text/plain": [
              "<IPython.core.display.Image object>"
            ]
          },
          "metadata": {},
          "execution_count": 7
        }
      ]
    },
    {
      "cell_type": "code",
      "metadata": {
        "colab": {
          "base_uri": "https://localhost:8080/"
        },
        "id": "lFouaUdPK8x4",
        "outputId": "34716a0a-460f-4e5b-8502-78503bb2c328"
      },
      "source": [
        "print(train_target[:5])"
      ],
      "execution_count": 8,
      "outputs": [
        {
          "output_type": "stream",
          "name": "stdout",
          "text": [
            "[7 3 5 8 6]\n"
          ]
        }
      ]
    },
    {
      "cell_type": "markdown",
      "metadata": {
        "id": "7tRRivOuPx3o"
      },
      "source": [
        "save_best_only=True -> 훈련이 조기종료되기전 최적의 가중치를 저장한 모델을 저장한다\n",
        "\n",
        "restore_best_weights=True -> 현재 model 객체가 최적의 모델 파라미터로 복원되어 있다"
      ]
    },
    {
      "cell_type": "code",
      "metadata": {
        "colab": {
          "base_uri": "https://localhost:8080/"
        },
        "id": "keKZPd9zLESO",
        "outputId": "6084d720-4e82-41ab-d74a-20b46c18e147"
      },
      "source": [
        "model.compile(optimizer='adam', loss='sparse_categorical_crossentropy',\n",
        "              metrics='accuracy')\n",
        "checkpoint_cb = keras.callbacks.ModelCheckpoint('best-cnn-model.h5', save_best_only=True)\n",
        "early_stopping_cb = keras.callbacks.EarlyStopping(patience=2,\n",
        "                                                  restore_best_weights=True)\n",
        "history = model.fit(train_scaled, train_target, epochs=20,\n",
        "                    validation_data=(val_scaled, val_target),\n",
        "                    callbacks=[checkpoint_cb, early_stopping_cb])"
      ],
      "execution_count": 9,
      "outputs": [
        {
          "output_type": "stream",
          "name": "stdout",
          "text": [
            "Epoch 1/20\n",
            "1500/1500 [==============================] - 37s 6ms/step - loss: 0.4284 - accuracy: 0.8435 - val_loss: 0.3081 - val_accuracy: 0.8877\n",
            "Epoch 2/20\n",
            "1500/1500 [==============================] - 8s 5ms/step - loss: 0.2845 - accuracy: 0.8971 - val_loss: 0.3055 - val_accuracy: 0.8877\n",
            "Epoch 3/20\n",
            "1500/1500 [==============================] - 8s 5ms/step - loss: 0.2379 - accuracy: 0.9133 - val_loss: 0.2695 - val_accuracy: 0.8992\n",
            "Epoch 4/20\n",
            "1500/1500 [==============================] - 8s 6ms/step - loss: 0.2064 - accuracy: 0.9241 - val_loss: 0.2369 - val_accuracy: 0.9129\n",
            "Epoch 5/20\n",
            "1500/1500 [==============================] - 8s 5ms/step - loss: 0.1789 - accuracy: 0.9340 - val_loss: 0.2357 - val_accuracy: 0.9150\n",
            "Epoch 6/20\n",
            "1500/1500 [==============================] - 8s 6ms/step - loss: 0.1559 - accuracy: 0.9412 - val_loss: 0.2383 - val_accuracy: 0.9131\n",
            "Epoch 7/20\n",
            "1500/1500 [==============================] - 8s 6ms/step - loss: 0.1341 - accuracy: 0.9495 - val_loss: 0.2439 - val_accuracy: 0.9183\n"
          ]
        }
      ]
    },
    {
      "cell_type": "code",
      "metadata": {
        "colab": {
          "base_uri": "https://localhost:8080/",
          "height": 328
        },
        "id": "z1vBcIOIUz38",
        "outputId": "ad4d519c-01cd-46ed-936b-a8517d13b5b9"
      },
      "source": [
        "import matplotlib.pyplot as plt\n",
        "\n",
        "his_dict = history.history # 딕셔너리 \n",
        "loss = his_dict['loss'] # 리스트\n",
        "val_loss = his_dict['val_loss']\n",
        "\n",
        "epochs = range(1, len(loss) + 1)\n",
        "fig = plt.figure(figsize = (10, 5))\n",
        "\n",
        "# 훈련 및 검증 손실 그리기\n",
        "ax1 = fig.add_subplot(1, 2, 1)\n",
        "ax1.plot(epochs, loss, color = 'blue', label = 'train_loss')\n",
        "ax1.plot(epochs, val_loss, color = 'red', label = 'val_loss')\n",
        "ax1.set_title('train and val loss')\n",
        "ax1.set_xlabel('epochs')\n",
        "ax1.set_ylabel('loss')\n",
        "ax1.legend() # label 적어준 값들 출력\n",
        "\n",
        "acc = his_dict['accuracy'] # 리스트\n",
        "val_acc = his_dict['val_accuracy']\n",
        "\n",
        "# 훈련 및 검증 정확도 그리기\n",
        "ax2 = fig.add_subplot(1, 2, 2)\n",
        "ax2.plot(epochs, acc, color = 'blue', label = 'train_acc')\n",
        "ax2.plot(epochs, val_acc, color = 'red', label = 'val_acc')\n",
        "ax2.set_title('train and val acc')\n",
        "ax2.set_xlabel('epochs')\n",
        "ax2.set_ylabel('acc')\n",
        "ax2.legend() # label 에 적어준 값들 출력\n",
        "\n",
        "plt.tight_layout()\n",
        "plt.show()"
      ],
      "execution_count": 36,
      "outputs": [
        {
          "output_type": "display_data",
          "data": {
            "image/png": "[encoded data removed]",
            "text/plain": [
              "<Figure size 720x360 with 2 Axes>"
            ]
          },
          "metadata": {
            "needs_background": "light"
          }
        }
      ]
    },
    {
      "cell_type": "code",
      "metadata": {
        "colab": {
          "base_uri": "https://localhost:8080/"
        },
        "id": "MlQiHsBZNOng",
        "outputId": "e866f739-6030-4ecb-b6e1-4f5a9059a1e8"
      },
      "source": [
        "new_model = keras.models.load_model('best-cnn-model.h5')\n",
        "new_model.evaluate(val_scaled, val_target)"
      ],
      "execution_count": 10,
      "outputs": [
        {
          "output_type": "stream",
          "name": "stdout",
          "text": [
            "375/375 [==============================] - 1s 3ms/step - loss: 0.2439 - accuracy: 0.9183\n"
          ]
        },
        {
          "output_type": "execute_result",
          "data": {
            "text/plain": [
              "[0.24392610788345337, 0.9183333516120911]"
            ]
          },
          "metadata": {},
          "execution_count": 10
        }
      ]
    },
    {
      "cell_type": "code",
      "metadata": {
        "colab": {
          "base_uri": "https://localhost:8080/"
        },
        "id": "Sxh0pJ_CQgXT",
        "outputId": "b068b4ee-29cb-4365-b447-b0ad8bb33beb"
      },
      "source": [
        "val_scaled[0].shape"
      ],
      "execution_count": 12,
      "outputs": [
        {
          "output_type": "execute_result",
          "data": {
            "text/plain": [
              "(28, 28, 1)"
            ]
          },
          "metadata": {},
          "execution_count": 12
        }
      ]
    },
    {
      "cell_type": "code",
      "metadata": {
        "colab": {
          "base_uri": "https://localhost:8080/",
          "height": 265
        },
        "id": "gkM9VIUhPNtu",
        "outputId": "d1b01f99-6224-49e2-d012-2752cc7496f8"
      },
      "source": [
        "import matplotlib.pyplot as plt\n",
        "\n",
        "# 흑백이미지를 시각화 할때는 3차원이 아니라 2차원 형태여야 시각화 가능하다\n",
        "plt.imshow(val_scaled[0].reshape(28,28), cmap='gray_r')\n",
        "plt.show()"
      ],
      "execution_count": 20,
      "outputs": [
        {
          "output_type": "display_data",
          "data": {
            "image/png": "[encoded data removed]",
            "text/plain": [
              "<Figure size 432x288 with 1 Axes>"
            ]
          },
          "metadata": {
            "needs_background": "light"
          }
        }
      ]
    },
    {
      "cell_type": "code",
      "metadata": {
        "colab": {
          "base_uri": "https://localhost:8080/"
        },
        "id": "t7lWnxlRTG5A",
        "outputId": "84330a37-625f-4923-93c3-0395ac3fe48b"
      },
      "source": [
        "val_scaled[0:1].shape"
      ],
      "execution_count": 23,
      "outputs": [
        {
          "output_type": "execute_result",
          "data": {
            "text/plain": [
              "(1, 28, 28, 1)"
            ]
          },
          "metadata": {},
          "execution_count": 23
        }
      ]
    },
    {
      "cell_type": "markdown",
      "metadata": {
        "id": "2edibmcaTOU-"
      },
      "source": [
        "케라스의 fit(), predict(), evaluate() 메서드는 모두 입력의 첫 번째 차원이 배치 차원일 것으로 기대합니다. \n",
        "\n",
        "따라서 샘플 하나를 예측할 때 (28,28,1)이 아니라 (1,28,28,1) 크기를 전달해야 합니다.\n",
        "\n",
        "슬라이싱은 인덱싱과 다르게 차원이 유지된다."
      ]
    },
    {
      "cell_type": "code",
      "metadata": {
        "colab": {
          "base_uri": "https://localhost:8080/"
        },
        "id": "O3thrEIGRTq2",
        "outputId": "e68550b7-3f53-4fb8-c25e-10bfe39c854e"
      },
      "source": [
        "preds = new_model.predict(val_scaled[0:1])\n",
        "preds"
      ],
      "execution_count": 62,
      "outputs": [
        {
          "output_type": "execute_result",
          "data": {
            "text/plain": [
              "array([[3.8856277e-15, 1.4456260e-21, 1.9072461e-15, 7.9327071e-17,\n",
              "        4.5062661e-14, 9.6310039e-16, 1.7515281e-17, 2.4395934e-13,\n",
              "        1.0000000e+00, 6.4144786e-17]], dtype=float32)"
            ]
          },
          "metadata": {},
          "execution_count": 62
        }
      ]
    },
    {
      "cell_type": "code",
      "metadata": {
        "colab": {
          "base_uri": "https://localhost:8080/"
        },
        "id": "d8qz6kRZS_s4",
        "outputId": "fa978cce-0625-410f-f0b4-d8c7b990bda0"
      },
      "source": [
        "np.argmax(preds,axis=1)"
      ],
      "execution_count": 63,
      "outputs": [
        {
          "output_type": "execute_result",
          "data": {
            "text/plain": [
              "array([8])"
            ]
          },
          "metadata": {},
          "execution_count": 63
        }
      ]
    },
    {
      "cell_type": "code",
      "metadata": {
        "colab": {
          "base_uri": "https://localhost:8080/",
          "height": 279
        },
        "id": "-0UyUURCTZKb",
        "outputId": "4b84d3c7-cd7c-4be9-e1fe-9d93b8f1c88e"
      },
      "source": [
        "plt.bar(range(1,11), preds[0])\n",
        "plt.xlabel('class')\n",
        "plt.ylabel('prob.')\n",
        "plt.show()"
      ],
      "execution_count": 64,
      "outputs": [
        {
          "output_type": "display_data",
          "data": {
            "image/png": "[encoded data removed]",
            "text/plain": [
              "<Figure size 432x288 with 1 Axes>"
            ]
          },
          "metadata": {
            "needs_background": "light"
          }
        }
      ]
    },
    {
      "cell_type": "code",
      "metadata": {
        "id": "OBDK3mJvVp6Z"
      },
      "source": [
        "target_dict = {\n",
        " 0: 'T-shirt/top (티셔츠)',\n",
        " 1: 'Trouser (바지)',\n",
        " 2: 'Pullover (스웨터)',\n",
        " 3: 'Dress (드레스)',\n",
        " 4: 'Coat (코트)',\n",
        " 5: 'Sandal (샌달)',\n",
        " 6: 'Shirt (셔츠)',\n",
        " 7: 'Sneaker (스니커즈)',\n",
        " 8: 'Bag (가방)',\n",
        " 9: 'Ankle boot (앵클 부츠)',\n",
        "}\n"
      ],
      "execution_count": 65,
      "outputs": []
    },
    {
      "cell_type": "code",
      "metadata": {
        "colab": {
          "base_uri": "https://localhost:8080/",
          "height": 35
        },
        "id": "RxZ2M6V4Xm34",
        "outputId": "4bf0fc48-4de2-4915-fd5a-e366d532fbea"
      },
      "source": [
        "import numpy as np\n",
        "target_dict[np.argmax(preds, axis=1)[0]]"
      ],
      "execution_count": 66,
      "outputs": [
        {
          "output_type": "execute_result",
          "data": {
            "application/vnd.google.colaboratory.intrinsic+json": {
              "type": "string"
            },
            "text/plain": [
              "'Bag (가방)'"
            ]
          },
          "metadata": {},
          "execution_count": 66
        }
      ]
    },
    {
      "cell_type": "code",
      "metadata": {
        "colab": {
          "base_uri": "https://localhost:8080/"
        },
        "id": "JrpcUIpBXta1",
        "outputId": "9e04e3e3-8120-4996-a4d7-2cbcf4428410"
      },
      "source": [
        "np.argmax(preds, axis=1)"
      ],
      "execution_count": 67,
      "outputs": [
        {
          "output_type": "execute_result",
          "data": {
            "text/plain": [
              "array([8])"
            ]
          },
          "metadata": {},
          "execution_count": 67
        }
      ]
    },
    {
      "cell_type": "markdown",
      "metadata": {
        "id": "RUcqiS2FZly-"
      },
      "source": [
        "테스트 데이터로 최종 테스트"
      ]
    },
    {
      "cell_type": "code",
      "metadata": {
        "id": "Tzm81urHYhaN"
      },
      "source": [
        "test_scaled = test_input.reshape(-1,28,28,1) / 255.0"
      ],
      "execution_count": 72,
      "outputs": []
    },
    {
      "cell_type": "code",
      "metadata": {
        "colab": {
          "base_uri": "https://localhost:8080/"
        },
        "id": "lmdFKsr5ZfPV",
        "outputId": "11b4578b-5473-4ac1-9aa7-20351e721dd1"
      },
      "source": [
        "model.evaluate(test_scaled, test_target)"
      ],
      "execution_count": 73,
      "outputs": [
        {
          "output_type": "stream",
          "name": "stdout",
          "text": [
            "313/313 [==============================] - 1s 4ms/step - loss: 0.2562 - accuracy: 0.9078\n"
          ]
        },
        {
          "output_type": "execute_result",
          "data": {
            "text/plain": [
              "[0.2561943829059601, 0.907800018787384]"
            ]
          },
          "metadata": {},
          "execution_count": 73
        }
      ]
    },
    {
      "cell_type": "code",
      "metadata": {
        "id": "9wdFPUFjZicD"
      },
      "source": [
        ""
      ],
      "execution_count": null,
      "outputs": []
    },
    {
      "cell_type": "markdown",
      "metadata": {
        "id": "RhCVfsYigSdx"
      },
      "source": [
        "BatchNormalization 와 Dropout 을 통한 성능 개선"
      ]
    },
    {
      "cell_type": "code",
      "metadata": {
        "id": "r24VWKpLfbV_"
      },
      "source": [
        "# 첫번째 합성곱\n",
        "model2 = Sequential()\n",
        "model2.add(Conv2D(32, kernel_size=3, activation='relu', padding='same', input_shape=(28,28,1)))\n",
        "model2.add(BatchNormalization())\n",
        "model2.add(MaxPooling2D(2))\n",
        "\n",
        "# 두번째 합성곱-풀링층 추가\n",
        "model2.add(Conv2D(64, kernel_size=3, activation='relu', padding='same'))\n",
        "model2.add(BatchNormalization())\n",
        "model2.add(MaxPooling2D(2))\n",
        "\n",
        "# 3차원 특성맵을 펼친다\n",
        "model2.add(Flatten())\n",
        "model2.add(Dense(100, activation='relu'))\n",
        "model2.add(BatchNormalization())\n",
        "model2.add(Dropout(0.4))\n",
        "model2.add(Dense(10, activation='softmax'))"
      ],
      "execution_count": 74,
      "outputs": []
    },
    {
      "cell_type": "code",
      "metadata": {
        "colab": {
          "base_uri": "https://localhost:8080/",
          "height": 958
        },
        "id": "H7yUaVu7f042",
        "outputId": "421a3f18-13ca-4293-e665-73ba868d5bbd"
      },
      "source": [
        "keras.utils.plot_model(model2, show_shapes=True,\n",
        "                       to_file='cnn-architecture.png', dpi=70)"
      ],
      "execution_count": 75,
      "outputs": [
        {
          "output_type": "execute_result",
          "data": {
            "image/png": "[encoded data removed]",
            "text/plain": [
              "<IPython.core.display.Image object>"
            ]
          },
          "metadata": {},
          "execution_count": 75
        }
      ]
    },
    {
      "cell_type": "code",
      "metadata": {
        "colab": {
          "base_uri": "https://localhost:8080/"
        },
        "id": "OB7pWZn8f7fd",
        "outputId": "a26ca0bb-0a6c-41b6-92cc-612279b380e4"
      },
      "source": [
        "model2.compile(optimizer='adam', loss='sparse_categorical_crossentropy',\n",
        "              metrics='accuracy')\n",
        "checkpoint_cb = keras.callbacks.ModelCheckpoint('best-cnn-model2.h5', save_best_only=True)\n",
        "early_stopping_cb = keras.callbacks.EarlyStopping(patience=2,\n",
        "                                                  restore_best_weights=True)\n",
        "history2 = model2.fit(train_scaled, train_target, epochs=20,\n",
        "                    validation_data=(val_scaled, val_target),\n",
        "                    callbacks=[checkpoint_cb, early_stopping_cb])"
      ],
      "execution_count": 76,
      "outputs": [
        {
          "output_type": "stream",
          "name": "stdout",
          "text": [
            "Epoch 1/20\n",
            "1500/1500 [==============================] - 13s 8ms/step - loss: 0.4264 - accuracy: 0.8526 - val_loss: 0.3090 - val_accuracy: 0.8842\n",
            "Epoch 2/20\n",
            "1500/1500 [==============================] - 10s 7ms/step - loss: 0.2915 - accuracy: 0.8970 - val_loss: 0.3341 - val_accuracy: 0.9054\n",
            "Epoch 3/20\n",
            "1500/1500 [==============================] - 10s 7ms/step - loss: 0.2473 - accuracy: 0.9126 - val_loss: 0.2508 - val_accuracy: 0.9071\n",
            "Epoch 4/20\n",
            "1500/1500 [==============================] - 9s 6ms/step - loss: 0.2232 - accuracy: 0.9197 - val_loss: 0.2261 - val_accuracy: 0.9170\n",
            "Epoch 5/20\n",
            "1500/1500 [==============================] - 10s 7ms/step - loss: 0.2020 - accuracy: 0.9275 - val_loss: 0.2460 - val_accuracy: 0.9112\n",
            "Epoch 6/20\n",
            "1500/1500 [==============================] - 10s 7ms/step - loss: 0.1868 - accuracy: 0.9323 - val_loss: 0.2299 - val_accuracy: 0.9178\n"
          ]
        }
      ]
    },
    {
      "cell_type": "code",
      "metadata": {
        "colab": {
          "base_uri": "https://localhost:8080/",
          "height": 369
        },
        "id": "a1Q6Q4SugCKJ",
        "outputId": "96780563-9bb7-408a-ff64-c009f917beab"
      },
      "source": [
        "import matplotlib.pyplot as plt\n",
        "\n",
        "his_dict = history.history # 딕셔너리 \n",
        "loss = his_dict['loss'] # 리스트\n",
        "val_loss = his_dict['val_loss']\n",
        "\n",
        "epochs = range(1, len(loss) + 1)\n",
        "fig = plt.figure(figsize = (10, 5))\n",
        "\n",
        "# 훈련 및 검증 손실 그리기\n",
        "ax1 = fig.add_subplot(1, 2, 1)\n",
        "ax1.plot(epochs, loss, color = 'blue', label = 'train_loss')\n",
        "ax1.plot(epochs, val_loss, color = 'red', label = 'val_loss')\n",
        "ax1.set_title('train and val loss')\n",
        "ax1.set_xlabel('epochs')\n",
        "ax1.set_ylabel('loss')\n",
        "ax1.legend() # label 적어준 값들 출력\n",
        "\n",
        "acc = his_dict['accuracy'] # 리스트\n",
        "val_acc = his_dict['val_accuracy']\n",
        "\n",
        "# 훈련 및 검증 정확도 그리기\n",
        "ax2 = fig.add_subplot(1, 2, 2)\n",
        "ax2.plot(epochs, acc, color = 'blue', label = 'train_acc')\n",
        "ax2.plot(epochs, val_acc, color = 'red', label = 'val_acc')\n",
        "ax2.set_title('train and val acc')\n",
        "ax2.set_xlabel('epochs')\n",
        "ax2.set_ylabel('acc')\n",
        "ax2.legend() # label 에 적어준 값들 출력\n",
        "\n",
        "plt.tight_layout()\n",
        "plt.show()"
      ],
      "execution_count": 77,
      "outputs": [
        {
          "output_type": "display_data",
          "data": {
            "image/png": "[encoded data removed]",
            "text/plain": [
              "<Figure size 720x360 with 2 Axes>"
            ]
          },
          "metadata": {
            "needs_background": "light"
          }
        }
      ]
    },
    {
      "cell_type": "code",
      "metadata": {
        "colab": {
          "base_uri": "https://localhost:8080/"
        },
        "id": "FF9mSo7vgb7F",
        "outputId": "6aa2d325-1614-4d8c-f1db-64d363080c91"
      },
      "source": [
        "model2.evaluate(test_scaled, test_target)"
      ],
      "execution_count": 78,
      "outputs": [
        {
          "output_type": "stream",
          "name": "stdout",
          "text": [
            "313/313 [==============================] - 2s 5ms/step - loss: 0.2424 - accuracy: 0.9128\n"
          ]
        },
        {
          "output_type": "execute_result",
          "data": {
            "text/plain": [
              "[0.2424209713935852, 0.9128000140190125]"
            ]
          },
          "metadata": {},
          "execution_count": 78
        }
      ]
    },
    {
      "cell_type": "code",
      "metadata": {
        "id": "MA8jOBcVgxMj"
      },
      "source": [
        ""
      ],
      "execution_count": null,
      "outputs": []
    }
  ]
}