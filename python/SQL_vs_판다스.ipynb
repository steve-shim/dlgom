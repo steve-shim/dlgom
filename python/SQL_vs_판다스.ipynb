{
  "nbformat": 4,
  "nbformat_minor": 0,
  "metadata": {
    "kernelspec": {
      "display_name": "Python 3",
      "language": "python",
      "name": "python3"
    },
    "language_info": {
      "codemirror_mode": {
        "name": "ipython",
        "version": 3
      },
      "file_extension": ".py",
      "mimetype": "text/x-python",
      "name": "python",
      "nbconvert_exporter": "python",
      "pygments_lexer": "ipython3",
      "version": "3.7.6"
    },
    "colab": {
      "name": "SQL vs 판다스.ipynb",
      "provenance": [],
      "include_colab_link": true
    }
  },
  "cells": [
    {
      "cell_type": "markdown",
      "metadata": {
        "id": "view-in-github",
        "colab_type": "text"
      },
      "source": [
        "<a href=\"https://colab.research.google.com/github/steve-shim/dlgom/blob/main/python/SQL_vs_%ED%8C%90%EB%8B%A4%EC%8A%A4.ipynb\" target=\"_parent\"><img src=\"https://colab.research.google.com/assets/colab-badge.svg\" alt=\"Open In Colab\"/></a>"
      ]
    },
    {
      "cell_type": "code",
      "metadata": {
        "colab": {
          "base_uri": "https://localhost:8080/"
        },
        "id": "xhOBolGs5KO_",
        "outputId": "287c3eb8-3761-4c86-9c4c-567201d43ea4"
      },
      "source": [
        "from google.colab import drive\n",
        "drive.mount('/content/drive')"
      ],
      "execution_count": 1,
      "outputs": [
        {
          "output_type": "stream",
          "name": "stdout",
          "text": [
            "Drive already mounted at /content/drive; to attempt to forcibly remount, call drive.mount(\"/content/drive\", force_remount=True).\n"
          ]
        }
      ]
    },
    {
      "cell_type": "code",
      "metadata": {
        "id": "Fd2WNWji5UUh"
      },
      "source": [
        "path = '/content/drive/MyDrive/Colab Notebooks/dataset'"
      ],
      "execution_count": 2,
      "outputs": []
    },
    {
      "cell_type": "code",
      "metadata": {
        "colab": {
          "base_uri": "https://localhost:8080/",
          "height": 480
        },
        "id": "WcMZdeRV4_CI",
        "outputId": "12345718-6594-4bf5-c89d-078f4be8bd31"
      },
      "source": [
        "import pandas as pd\n",
        "\n",
        "df = pd.read_csv(path+'/emp.csv')\n",
        "df"
      ],
      "execution_count": 3,
      "outputs": [
        {
          "output_type": "execute_result",
          "data": {
            "text/html": [
              "<div>\n",
              "<style scoped>\n",
              "    .dataframe tbody tr th:only-of-type {\n",
              "        vertical-align: middle;\n",
              "    }\n",
              "\n",
              "    .dataframe tbody tr th {\n",
              "        vertical-align: top;\n",
              "    }\n",
              "\n",
              "    .dataframe thead th {\n",
              "        text-align: right;\n",
              "    }\n",
              "</style>\n",
              "<table border=\"1\" class=\"dataframe\">\n",
              "  <thead>\n",
              "    <tr style=\"text-align: right;\">\n",
              "      <th></th>\n",
              "      <th>empno</th>\n",
              "      <th>ename</th>\n",
              "      <th>job</th>\n",
              "      <th>mgr</th>\n",
              "      <th>hiredate</th>\n",
              "      <th>sal</th>\n",
              "      <th>comm</th>\n",
              "      <th>deptno</th>\n",
              "    </tr>\n",
              "  </thead>\n",
              "  <tbody>\n",
              "    <tr>\n",
              "      <th>0</th>\n",
              "      <td>7839</td>\n",
              "      <td>KING</td>\n",
              "      <td>PRESIDENT</td>\n",
              "      <td>NaN</td>\n",
              "      <td>1981-11-17</td>\n",
              "      <td>5000</td>\n",
              "      <td>NaN</td>\n",
              "      <td>10</td>\n",
              "    </tr>\n",
              "    <tr>\n",
              "      <th>1</th>\n",
              "      <td>7698</td>\n",
              "      <td>BLAKE</td>\n",
              "      <td>MANAGER</td>\n",
              "      <td>7839.0</td>\n",
              "      <td>1981-05-01</td>\n",
              "      <td>2850</td>\n",
              "      <td>NaN</td>\n",
              "      <td>30</td>\n",
              "    </tr>\n",
              "    <tr>\n",
              "      <th>2</th>\n",
              "      <td>7782</td>\n",
              "      <td>CLARK</td>\n",
              "      <td>MANAGER</td>\n",
              "      <td>7839.0</td>\n",
              "      <td>1981-05-09</td>\n",
              "      <td>2450</td>\n",
              "      <td>NaN</td>\n",
              "      <td>10</td>\n",
              "    </tr>\n",
              "    <tr>\n",
              "      <th>3</th>\n",
              "      <td>7566</td>\n",
              "      <td>JONES</td>\n",
              "      <td>MANAGER</td>\n",
              "      <td>7839.0</td>\n",
              "      <td>1981-04-01</td>\n",
              "      <td>2975</td>\n",
              "      <td>NaN</td>\n",
              "      <td>20</td>\n",
              "    </tr>\n",
              "    <tr>\n",
              "      <th>4</th>\n",
              "      <td>7654</td>\n",
              "      <td>MARTIN</td>\n",
              "      <td>SALESMAN</td>\n",
              "      <td>7698.0</td>\n",
              "      <td>1981-09-10</td>\n",
              "      <td>1250</td>\n",
              "      <td>1400.0</td>\n",
              "      <td>30</td>\n",
              "    </tr>\n",
              "    <tr>\n",
              "      <th>5</th>\n",
              "      <td>7499</td>\n",
              "      <td>ALLEN</td>\n",
              "      <td>SALESMAN</td>\n",
              "      <td>7698.0</td>\n",
              "      <td>1981-02-11</td>\n",
              "      <td>1600</td>\n",
              "      <td>300.0</td>\n",
              "      <td>30</td>\n",
              "    </tr>\n",
              "    <tr>\n",
              "      <th>6</th>\n",
              "      <td>7844</td>\n",
              "      <td>TURNER</td>\n",
              "      <td>SALESMAN</td>\n",
              "      <td>7698.0</td>\n",
              "      <td>1981-08-21</td>\n",
              "      <td>1500</td>\n",
              "      <td>0.0</td>\n",
              "      <td>30</td>\n",
              "    </tr>\n",
              "    <tr>\n",
              "      <th>7</th>\n",
              "      <td>7900</td>\n",
              "      <td>JAMES</td>\n",
              "      <td>CLERK</td>\n",
              "      <td>7698.0</td>\n",
              "      <td>1981-12-11</td>\n",
              "      <td>950</td>\n",
              "      <td>NaN</td>\n",
              "      <td>30</td>\n",
              "    </tr>\n",
              "    <tr>\n",
              "      <th>8</th>\n",
              "      <td>7521</td>\n",
              "      <td>WARD</td>\n",
              "      <td>SALESMAN</td>\n",
              "      <td>7698.0</td>\n",
              "      <td>1981-02-23</td>\n",
              "      <td>1250</td>\n",
              "      <td>500.0</td>\n",
              "      <td>30</td>\n",
              "    </tr>\n",
              "    <tr>\n",
              "      <th>9</th>\n",
              "      <td>7902</td>\n",
              "      <td>FORD</td>\n",
              "      <td>ANALYST</td>\n",
              "      <td>7566.0</td>\n",
              "      <td>1981-12-11</td>\n",
              "      <td>3000</td>\n",
              "      <td>NaN</td>\n",
              "      <td>20</td>\n",
              "    </tr>\n",
              "    <tr>\n",
              "      <th>10</th>\n",
              "      <td>7369</td>\n",
              "      <td>SMITH</td>\n",
              "      <td>CLERK</td>\n",
              "      <td>7902.0</td>\n",
              "      <td>1980-12-09</td>\n",
              "      <td>800</td>\n",
              "      <td>NaN</td>\n",
              "      <td>20</td>\n",
              "    </tr>\n",
              "    <tr>\n",
              "      <th>11</th>\n",
              "      <td>7788</td>\n",
              "      <td>SCOTT</td>\n",
              "      <td>ANALYST</td>\n",
              "      <td>7566.0</td>\n",
              "      <td>1982-12-22</td>\n",
              "      <td>3000</td>\n",
              "      <td>NaN</td>\n",
              "      <td>20</td>\n",
              "    </tr>\n",
              "    <tr>\n",
              "      <th>12</th>\n",
              "      <td>7876</td>\n",
              "      <td>ADAMS</td>\n",
              "      <td>CLERK</td>\n",
              "      <td>7788.0</td>\n",
              "      <td>1983-01-15</td>\n",
              "      <td>1100</td>\n",
              "      <td>NaN</td>\n",
              "      <td>20</td>\n",
              "    </tr>\n",
              "    <tr>\n",
              "      <th>13</th>\n",
              "      <td>7934</td>\n",
              "      <td>MILLER</td>\n",
              "      <td>CLERK</td>\n",
              "      <td>7782.0</td>\n",
              "      <td>1982-01-11</td>\n",
              "      <td>1300</td>\n",
              "      <td>NaN</td>\n",
              "      <td>10</td>\n",
              "    </tr>\n",
              "  </tbody>\n",
              "</table>\n",
              "</div>"
            ],
            "text/plain": [
              "    empno   ename        job     mgr    hiredate   sal    comm  deptno\n",
              "0    7839    KING  PRESIDENT     NaN  1981-11-17  5000     NaN      10\n",
              "1    7698   BLAKE    MANAGER  7839.0  1981-05-01  2850     NaN      30\n",
              "2    7782   CLARK    MANAGER  7839.0  1981-05-09  2450     NaN      10\n",
              "3    7566   JONES    MANAGER  7839.0  1981-04-01  2975     NaN      20\n",
              "4    7654  MARTIN   SALESMAN  7698.0  1981-09-10  1250  1400.0      30\n",
              "5    7499   ALLEN   SALESMAN  7698.0  1981-02-11  1600   300.0      30\n",
              "6    7844  TURNER   SALESMAN  7698.0  1981-08-21  1500     0.0      30\n",
              "7    7900   JAMES      CLERK  7698.0  1981-12-11   950     NaN      30\n",
              "8    7521    WARD   SALESMAN  7698.0  1981-02-23  1250   500.0      30\n",
              "9    7902    FORD    ANALYST  7566.0  1981-12-11  3000     NaN      20\n",
              "10   7369   SMITH      CLERK  7902.0  1980-12-09   800     NaN      20\n",
              "11   7788   SCOTT    ANALYST  7566.0  1982-12-22  3000     NaN      20\n",
              "12   7876   ADAMS      CLERK  7788.0  1983-01-15  1100     NaN      20\n",
              "13   7934  MILLER      CLERK  7782.0  1982-01-11  1300     NaN      10"
            ]
          },
          "metadata": {},
          "execution_count": 3
        }
      ]
    },
    {
      "cell_type": "code",
      "metadata": {
        "colab": {
          "base_uri": "https://localhost:8080/",
          "height": 172
        },
        "id": "O1apGGDx4_CQ",
        "outputId": "67414d10-89f5-4057-a687-bd292ef6caa7"
      },
      "source": [
        "df2 = pd.read_csv(path+'/dept.csv')\n",
        "df2"
      ],
      "execution_count": 4,
      "outputs": [
        {
          "output_type": "execute_result",
          "data": {
            "text/html": [
              "<div>\n",
              "<style scoped>\n",
              "    .dataframe tbody tr th:only-of-type {\n",
              "        vertical-align: middle;\n",
              "    }\n",
              "\n",
              "    .dataframe tbody tr th {\n",
              "        vertical-align: top;\n",
              "    }\n",
              "\n",
              "    .dataframe thead th {\n",
              "        text-align: right;\n",
              "    }\n",
              "</style>\n",
              "<table border=\"1\" class=\"dataframe\">\n",
              "  <thead>\n",
              "    <tr style=\"text-align: right;\">\n",
              "      <th></th>\n",
              "      <th>deptno</th>\n",
              "      <th>dname</th>\n",
              "      <th>loc</th>\n",
              "    </tr>\n",
              "  </thead>\n",
              "  <tbody>\n",
              "    <tr>\n",
              "      <th>0</th>\n",
              "      <td>10</td>\n",
              "      <td>ACCOUNTING</td>\n",
              "      <td>NEW YORK</td>\n",
              "    </tr>\n",
              "    <tr>\n",
              "      <th>1</th>\n",
              "      <td>20</td>\n",
              "      <td>RESEARCH</td>\n",
              "      <td>DALLAS</td>\n",
              "    </tr>\n",
              "    <tr>\n",
              "      <th>2</th>\n",
              "      <td>30</td>\n",
              "      <td>SALES</td>\n",
              "      <td>CHICAGO</td>\n",
              "    </tr>\n",
              "    <tr>\n",
              "      <th>3</th>\n",
              "      <td>40</td>\n",
              "      <td>OPERATIONS</td>\n",
              "      <td>BOSTON</td>\n",
              "    </tr>\n",
              "  </tbody>\n",
              "</table>\n",
              "</div>"
            ],
            "text/plain": [
              "   deptno       dname       loc\n",
              "0      10  ACCOUNTING  NEW YORK\n",
              "1      20    RESEARCH    DALLAS\n",
              "2      30       SALES   CHICAGO\n",
              "3      40  OPERATIONS    BOSTON"
            ]
          },
          "metadata": {},
          "execution_count": 4
        }
      ]
    },
    {
      "cell_type": "markdown",
      "metadata": {
        "id": "owwk-vzj63n1"
      },
      "source": [
        "![image.png](data:image/png;base64,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)"
      ]
    },
    {
      "cell_type": "code",
      "metadata": {
        "scrolled": false,
        "colab": {
          "base_uri": "https://localhost:8080/"
        },
        "id": "hSeDmM8U4_CW",
        "outputId": "3b443b79-1270-4f36-eb5b-fc5433edd937"
      },
      "source": [
        "df['ename'].str[:3]"
      ],
      "execution_count": 5,
      "outputs": [
        {
          "output_type": "execute_result",
          "data": {
            "text/plain": [
              "0     KIN\n",
              "1     BLA\n",
              "2     CLA\n",
              "3     JON\n",
              "4     MAR\n",
              "5     ALL\n",
              "6     TUR\n",
              "7     JAM\n",
              "8     WAR\n",
              "9     FOR\n",
              "10    SMI\n",
              "11    SCO\n",
              "12    ADA\n",
              "13    MIL\n",
              "Name: ename, dtype: object"
            ]
          },
          "metadata": {},
          "execution_count": 5
        }
      ]
    },
    {
      "cell_type": "markdown",
      "metadata": {
        "id": "E0xsxboq67sR"
      },
      "source": [
        "![image.png](data:image/png;base64,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)"
      ]
    },
    {
      "cell_type": "code",
      "metadata": {
        "colab": {
          "base_uri": "https://localhost:8080/"
        },
        "id": "V4Wo3KFq4_CY",
        "outputId": "ebb5d9ce-077b-4024-cd43-68dfa4187d84"
      },
      "source": [
        "df['ename'].str[-2:]"
      ],
      "execution_count": 6,
      "outputs": [
        {
          "output_type": "execute_result",
          "data": {
            "text/plain": [
              "0     NG\n",
              "1     KE\n",
              "2     RK\n",
              "3     ES\n",
              "4     IN\n",
              "5     EN\n",
              "6     ER\n",
              "7     ES\n",
              "8     RD\n",
              "9     RD\n",
              "10    TH\n",
              "11    TT\n",
              "12    MS\n",
              "13    ER\n",
              "Name: ename, dtype: object"
            ]
          },
          "metadata": {},
          "execution_count": 6
        }
      ]
    },
    {
      "cell_type": "markdown",
      "metadata": {
        "id": "6Fz19CeX7Ge-"
      },
      "source": [
        "![image.png](data:image/png;base64,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)"
      ]
    },
    {
      "cell_type": "code",
      "metadata": {
        "colab": {
          "base_uri": "https://localhost:8080/",
          "height": 480
        },
        "id": "OAUrI5Hx4_Ca",
        "outputId": "bdb26681-49a2-4da3-8952-c8d06210fda8"
      },
      "source": [
        "df1 = pd.concat([df['ename'], df['ename'].str.len()], axis=1)\n",
        "df1.columns = ['ename', 'length(ename)']\n",
        "df1"
      ],
      "execution_count": 7,
      "outputs": [
        {
          "output_type": "execute_result",
          "data": {
            "text/html": [
              "<div>\n",
              "<style scoped>\n",
              "    .dataframe tbody tr th:only-of-type {\n",
              "        vertical-align: middle;\n",
              "    }\n",
              "\n",
              "    .dataframe tbody tr th {\n",
              "        vertical-align: top;\n",
              "    }\n",
              "\n",
              "    .dataframe thead th {\n",
              "        text-align: right;\n",
              "    }\n",
              "</style>\n",
              "<table border=\"1\" class=\"dataframe\">\n",
              "  <thead>\n",
              "    <tr style=\"text-align: right;\">\n",
              "      <th></th>\n",
              "      <th>ename</th>\n",
              "      <th>length(ename)</th>\n",
              "    </tr>\n",
              "  </thead>\n",
              "  <tbody>\n",
              "    <tr>\n",
              "      <th>0</th>\n",
              "      <td>KING</td>\n",
              "      <td>4</td>\n",
              "    </tr>\n",
              "    <tr>\n",
              "      <th>1</th>\n",
              "      <td>BLAKE</td>\n",
              "      <td>5</td>\n",
              "    </tr>\n",
              "    <tr>\n",
              "      <th>2</th>\n",
              "      <td>CLARK</td>\n",
              "      <td>5</td>\n",
              "    </tr>\n",
              "    <tr>\n",
              "      <th>3</th>\n",
              "      <td>JONES</td>\n",
              "      <td>5</td>\n",
              "    </tr>\n",
              "    <tr>\n",
              "      <th>4</th>\n",
              "      <td>MARTIN</td>\n",
              "      <td>6</td>\n",
              "    </tr>\n",
              "    <tr>\n",
              "      <th>5</th>\n",
              "      <td>ALLEN</td>\n",
              "      <td>5</td>\n",
              "    </tr>\n",
              "    <tr>\n",
              "      <th>6</th>\n",
              "      <td>TURNER</td>\n",
              "      <td>6</td>\n",
              "    </tr>\n",
              "    <tr>\n",
              "      <th>7</th>\n",
              "      <td>JAMES</td>\n",
              "      <td>5</td>\n",
              "    </tr>\n",
              "    <tr>\n",
              "      <th>8</th>\n",
              "      <td>WARD</td>\n",
              "      <td>4</td>\n",
              "    </tr>\n",
              "    <tr>\n",
              "      <th>9</th>\n",
              "      <td>FORD</td>\n",
              "      <td>4</td>\n",
              "    </tr>\n",
              "    <tr>\n",
              "      <th>10</th>\n",
              "      <td>SMITH</td>\n",
              "      <td>5</td>\n",
              "    </tr>\n",
              "    <tr>\n",
              "      <th>11</th>\n",
              "      <td>SCOTT</td>\n",
              "      <td>5</td>\n",
              "    </tr>\n",
              "    <tr>\n",
              "      <th>12</th>\n",
              "      <td>ADAMS</td>\n",
              "      <td>5</td>\n",
              "    </tr>\n",
              "    <tr>\n",
              "      <th>13</th>\n",
              "      <td>MILLER</td>\n",
              "      <td>6</td>\n",
              "    </tr>\n",
              "  </tbody>\n",
              "</table>\n",
              "</div>"
            ],
            "text/plain": [
              "     ename  length(ename)\n",
              "0     KING              4\n",
              "1    BLAKE              5\n",
              "2    CLARK              5\n",
              "3    JONES              5\n",
              "4   MARTIN              6\n",
              "5    ALLEN              5\n",
              "6   TURNER              6\n",
              "7    JAMES              5\n",
              "8     WARD              4\n",
              "9     FORD              4\n",
              "10   SMITH              5\n",
              "11   SCOTT              5\n",
              "12   ADAMS              5\n",
              "13  MILLER              6"
            ]
          },
          "metadata": {},
          "execution_count": 7
        }
      ]
    },
    {
      "cell_type": "markdown",
      "metadata": {
        "id": "XdLI5SPA74aH"
      },
      "source": [
        "![image.png](data:image/png;base64,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)"
      ]
    },
    {
      "cell_type": "code",
      "metadata": {
        "colab": {
          "base_uri": "https://localhost:8080/",
          "height": 234
        },
        "id": "QW3QKrCz4_Cd",
        "outputId": "c9ea03e6-47bd-4c2e-f069-286e23961ed1"
      },
      "source": [
        "df.loc[df['job'].isin(['SALESMAN','ANALYST']), ['ename','job']]"
      ],
      "execution_count": 8,
      "outputs": [
        {
          "output_type": "execute_result",
          "data": {
            "text/html": [
              "<div>\n",
              "<style scoped>\n",
              "    .dataframe tbody tr th:only-of-type {\n",
              "        vertical-align: middle;\n",
              "    }\n",
              "\n",
              "    .dataframe tbody tr th {\n",
              "        vertical-align: top;\n",
              "    }\n",
              "\n",
              "    .dataframe thead th {\n",
              "        text-align: right;\n",
              "    }\n",
              "</style>\n",
              "<table border=\"1\" class=\"dataframe\">\n",
              "  <thead>\n",
              "    <tr style=\"text-align: right;\">\n",
              "      <th></th>\n",
              "      <th>ename</th>\n",
              "      <th>job</th>\n",
              "    </tr>\n",
              "  </thead>\n",
              "  <tbody>\n",
              "    <tr>\n",
              "      <th>4</th>\n",
              "      <td>MARTIN</td>\n",
              "      <td>SALESMAN</td>\n",
              "    </tr>\n",
              "    <tr>\n",
              "      <th>5</th>\n",
              "      <td>ALLEN</td>\n",
              "      <td>SALESMAN</td>\n",
              "    </tr>\n",
              "    <tr>\n",
              "      <th>6</th>\n",
              "      <td>TURNER</td>\n",
              "      <td>SALESMAN</td>\n",
              "    </tr>\n",
              "    <tr>\n",
              "      <th>8</th>\n",
              "      <td>WARD</td>\n",
              "      <td>SALESMAN</td>\n",
              "    </tr>\n",
              "    <tr>\n",
              "      <th>9</th>\n",
              "      <td>FORD</td>\n",
              "      <td>ANALYST</td>\n",
              "    </tr>\n",
              "    <tr>\n",
              "      <th>11</th>\n",
              "      <td>SCOTT</td>\n",
              "      <td>ANALYST</td>\n",
              "    </tr>\n",
              "  </tbody>\n",
              "</table>\n",
              "</div>"
            ],
            "text/plain": [
              "     ename       job\n",
              "4   MARTIN  SALESMAN\n",
              "5    ALLEN  SALESMAN\n",
              "6   TURNER  SALESMAN\n",
              "8     WARD  SALESMAN\n",
              "9     FORD   ANALYST\n",
              "11   SCOTT   ANALYST"
            ]
          },
          "metadata": {},
          "execution_count": 8
        }
      ]
    },
    {
      "cell_type": "markdown",
      "metadata": {
        "id": "TmnudB278H-w"
      },
      "source": [
        "![image.png](data:image/png;base64,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)"
      ]
    },
    {
      "cell_type": "code",
      "metadata": {
        "colab": {
          "base_uri": "https://localhost:8080/",
          "height": 295
        },
        "id": "J-1I3BPF4_Ce",
        "outputId": "724da38a-f727-46dd-c340-9c8b6a51fe03"
      },
      "source": [
        "df.loc[~df['job'].isin(['SALESMAN','ANALYST']), ['ename','job']]"
      ],
      "execution_count": 9,
      "outputs": [
        {
          "output_type": "execute_result",
          "data": {
            "text/html": [
              "<div>\n",
              "<style scoped>\n",
              "    .dataframe tbody tr th:only-of-type {\n",
              "        vertical-align: middle;\n",
              "    }\n",
              "\n",
              "    .dataframe tbody tr th {\n",
              "        vertical-align: top;\n",
              "    }\n",
              "\n",
              "    .dataframe thead th {\n",
              "        text-align: right;\n",
              "    }\n",
              "</style>\n",
              "<table border=\"1\" class=\"dataframe\">\n",
              "  <thead>\n",
              "    <tr style=\"text-align: right;\">\n",
              "      <th></th>\n",
              "      <th>ename</th>\n",
              "      <th>job</th>\n",
              "    </tr>\n",
              "  </thead>\n",
              "  <tbody>\n",
              "    <tr>\n",
              "      <th>0</th>\n",
              "      <td>KING</td>\n",
              "      <td>PRESIDENT</td>\n",
              "    </tr>\n",
              "    <tr>\n",
              "      <th>1</th>\n",
              "      <td>BLAKE</td>\n",
              "      <td>MANAGER</td>\n",
              "    </tr>\n",
              "    <tr>\n",
              "      <th>2</th>\n",
              "      <td>CLARK</td>\n",
              "      <td>MANAGER</td>\n",
              "    </tr>\n",
              "    <tr>\n",
              "      <th>3</th>\n",
              "      <td>JONES</td>\n",
              "      <td>MANAGER</td>\n",
              "    </tr>\n",
              "    <tr>\n",
              "      <th>7</th>\n",
              "      <td>JAMES</td>\n",
              "      <td>CLERK</td>\n",
              "    </tr>\n",
              "    <tr>\n",
              "      <th>10</th>\n",
              "      <td>SMITH</td>\n",
              "      <td>CLERK</td>\n",
              "    </tr>\n",
              "    <tr>\n",
              "      <th>12</th>\n",
              "      <td>ADAMS</td>\n",
              "      <td>CLERK</td>\n",
              "    </tr>\n",
              "    <tr>\n",
              "      <th>13</th>\n",
              "      <td>MILLER</td>\n",
              "      <td>CLERK</td>\n",
              "    </tr>\n",
              "  </tbody>\n",
              "</table>\n",
              "</div>"
            ],
            "text/plain": [
              "     ename        job\n",
              "0     KING  PRESIDENT\n",
              "1    BLAKE    MANAGER\n",
              "2    CLARK    MANAGER\n",
              "3    JONES    MANAGER\n",
              "7    JAMES      CLERK\n",
              "10   SMITH      CLERK\n",
              "12   ADAMS      CLERK\n",
              "13  MILLER      CLERK"
            ]
          },
          "metadata": {},
          "execution_count": 9
        }
      ]
    },
    {
      "cell_type": "code",
      "metadata": {
        "colab": {
          "base_uri": "https://localhost:8080/",
          "height": 766
        },
        "id": "mKhxbia14_Cg",
        "outputId": "df931e9e-c1b2-480c-b794-eaa8312768ab"
      },
      "source": [
        "ndf = pd.merge(df, df2, on='deptno', how='outer')\n",
        "# 이번엔 outer옵션을 줘서 deptno 기준으로 합치되, 어느한쪽에라도 없는 데이터가 있는 경우 NaN값이 지정된다.\n",
        "ndf"
      ],
      "execution_count": 10,
      "outputs": [
        {
          "output_type": "execute_result",
          "data": {
            "text/html": [
              "<div>\n",
              "<style scoped>\n",
              "    .dataframe tbody tr th:only-of-type {\n",
              "        vertical-align: middle;\n",
              "    }\n",
              "\n",
              "    .dataframe tbody tr th {\n",
              "        vertical-align: top;\n",
              "    }\n",
              "\n",
              "    .dataframe thead th {\n",
              "        text-align: right;\n",
              "    }\n",
              "</style>\n",
              "<table border=\"1\" class=\"dataframe\">\n",
              "  <thead>\n",
              "    <tr style=\"text-align: right;\">\n",
              "      <th></th>\n",
              "      <th>empno</th>\n",
              "      <th>ename</th>\n",
              "      <th>job</th>\n",
              "      <th>mgr</th>\n",
              "      <th>hiredate</th>\n",
              "      <th>sal</th>\n",
              "      <th>comm</th>\n",
              "      <th>deptno</th>\n",
              "      <th>dname</th>\n",
              "      <th>loc</th>\n",
              "    </tr>\n",
              "  </thead>\n",
              "  <tbody>\n",
              "    <tr>\n",
              "      <th>0</th>\n",
              "      <td>7839.0</td>\n",
              "      <td>KING</td>\n",
              "      <td>PRESIDENT</td>\n",
              "      <td>NaN</td>\n",
              "      <td>1981-11-17</td>\n",
              "      <td>5000.0</td>\n",
              "      <td>NaN</td>\n",
              "      <td>10</td>\n",
              "      <td>ACCOUNTING</td>\n",
              "      <td>NEW YORK</td>\n",
              "    </tr>\n",
              "    <tr>\n",
              "      <th>1</th>\n",
              "      <td>7782.0</td>\n",
              "      <td>CLARK</td>\n",
              "      <td>MANAGER</td>\n",
              "      <td>7839.0</td>\n",
              "      <td>1981-05-09</td>\n",
              "      <td>2450.0</td>\n",
              "      <td>NaN</td>\n",
              "      <td>10</td>\n",
              "      <td>ACCOUNTING</td>\n",
              "      <td>NEW YORK</td>\n",
              "    </tr>\n",
              "    <tr>\n",
              "      <th>2</th>\n",
              "      <td>7934.0</td>\n",
              "      <td>MILLER</td>\n",
              "      <td>CLERK</td>\n",
              "      <td>7782.0</td>\n",
              "      <td>1982-01-11</td>\n",
              "      <td>1300.0</td>\n",
              "      <td>NaN</td>\n",
              "      <td>10</td>\n",
              "      <td>ACCOUNTING</td>\n",
              "      <td>NEW YORK</td>\n",
              "    </tr>\n",
              "    <tr>\n",
              "      <th>3</th>\n",
              "      <td>7698.0</td>\n",
              "      <td>BLAKE</td>\n",
              "      <td>MANAGER</td>\n",
              "      <td>7839.0</td>\n",
              "      <td>1981-05-01</td>\n",
              "      <td>2850.0</td>\n",
              "      <td>NaN</td>\n",
              "      <td>30</td>\n",
              "      <td>SALES</td>\n",
              "      <td>CHICAGO</td>\n",
              "    </tr>\n",
              "    <tr>\n",
              "      <th>4</th>\n",
              "      <td>7654.0</td>\n",
              "      <td>MARTIN</td>\n",
              "      <td>SALESMAN</td>\n",
              "      <td>7698.0</td>\n",
              "      <td>1981-09-10</td>\n",
              "      <td>1250.0</td>\n",
              "      <td>1400.0</td>\n",
              "      <td>30</td>\n",
              "      <td>SALES</td>\n",
              "      <td>CHICAGO</td>\n",
              "    </tr>\n",
              "    <tr>\n",
              "      <th>5</th>\n",
              "      <td>7499.0</td>\n",
              "      <td>ALLEN</td>\n",
              "      <td>SALESMAN</td>\n",
              "      <td>7698.0</td>\n",
              "      <td>1981-02-11</td>\n",
              "      <td>1600.0</td>\n",
              "      <td>300.0</td>\n",
              "      <td>30</td>\n",
              "      <td>SALES</td>\n",
              "      <td>CHICAGO</td>\n",
              "    </tr>\n",
              "    <tr>\n",
              "      <th>6</th>\n",
              "      <td>7844.0</td>\n",
              "      <td>TURNER</td>\n",
              "      <td>SALESMAN</td>\n",
              "      <td>7698.0</td>\n",
              "      <td>1981-08-21</td>\n",
              "      <td>1500.0</td>\n",
              "      <td>0.0</td>\n",
              "      <td>30</td>\n",
              "      <td>SALES</td>\n",
              "      <td>CHICAGO</td>\n",
              "    </tr>\n",
              "    <tr>\n",
              "      <th>7</th>\n",
              "      <td>7900.0</td>\n",
              "      <td>JAMES</td>\n",
              "      <td>CLERK</td>\n",
              "      <td>7698.0</td>\n",
              "      <td>1981-12-11</td>\n",
              "      <td>950.0</td>\n",
              "      <td>NaN</td>\n",
              "      <td>30</td>\n",
              "      <td>SALES</td>\n",
              "      <td>CHICAGO</td>\n",
              "    </tr>\n",
              "    <tr>\n",
              "      <th>8</th>\n",
              "      <td>7521.0</td>\n",
              "      <td>WARD</td>\n",
              "      <td>SALESMAN</td>\n",
              "      <td>7698.0</td>\n",
              "      <td>1981-02-23</td>\n",
              "      <td>1250.0</td>\n",
              "      <td>500.0</td>\n",
              "      <td>30</td>\n",
              "      <td>SALES</td>\n",
              "      <td>CHICAGO</td>\n",
              "    </tr>\n",
              "    <tr>\n",
              "      <th>9</th>\n",
              "      <td>7566.0</td>\n",
              "      <td>JONES</td>\n",
              "      <td>MANAGER</td>\n",
              "      <td>7839.0</td>\n",
              "      <td>1981-04-01</td>\n",
              "      <td>2975.0</td>\n",
              "      <td>NaN</td>\n",
              "      <td>20</td>\n",
              "      <td>RESEARCH</td>\n",
              "      <td>DALLAS</td>\n",
              "    </tr>\n",
              "    <tr>\n",
              "      <th>10</th>\n",
              "      <td>7902.0</td>\n",
              "      <td>FORD</td>\n",
              "      <td>ANALYST</td>\n",
              "      <td>7566.0</td>\n",
              "      <td>1981-12-11</td>\n",
              "      <td>3000.0</td>\n",
              "      <td>NaN</td>\n",
              "      <td>20</td>\n",
              "      <td>RESEARCH</td>\n",
              "      <td>DALLAS</td>\n",
              "    </tr>\n",
              "    <tr>\n",
              "      <th>11</th>\n",
              "      <td>7369.0</td>\n",
              "      <td>SMITH</td>\n",
              "      <td>CLERK</td>\n",
              "      <td>7902.0</td>\n",
              "      <td>1980-12-09</td>\n",
              "      <td>800.0</td>\n",
              "      <td>NaN</td>\n",
              "      <td>20</td>\n",
              "      <td>RESEARCH</td>\n",
              "      <td>DALLAS</td>\n",
              "    </tr>\n",
              "    <tr>\n",
              "      <th>12</th>\n",
              "      <td>7788.0</td>\n",
              "      <td>SCOTT</td>\n",
              "      <td>ANALYST</td>\n",
              "      <td>7566.0</td>\n",
              "      <td>1982-12-22</td>\n",
              "      <td>3000.0</td>\n",
              "      <td>NaN</td>\n",
              "      <td>20</td>\n",
              "      <td>RESEARCH</td>\n",
              "      <td>DALLAS</td>\n",
              "    </tr>\n",
              "    <tr>\n",
              "      <th>13</th>\n",
              "      <td>7876.0</td>\n",
              "      <td>ADAMS</td>\n",
              "      <td>CLERK</td>\n",
              "      <td>7788.0</td>\n",
              "      <td>1983-01-15</td>\n",
              "      <td>1100.0</td>\n",
              "      <td>NaN</td>\n",
              "      <td>20</td>\n",
              "      <td>RESEARCH</td>\n",
              "      <td>DALLAS</td>\n",
              "    </tr>\n",
              "    <tr>\n",
              "      <th>14</th>\n",
              "      <td>NaN</td>\n",
              "      <td>NaN</td>\n",
              "      <td>NaN</td>\n",
              "      <td>NaN</td>\n",
              "      <td>NaN</td>\n",
              "      <td>NaN</td>\n",
              "      <td>NaN</td>\n",
              "      <td>40</td>\n",
              "      <td>OPERATIONS</td>\n",
              "      <td>BOSTON</td>\n",
              "    </tr>\n",
              "  </tbody>\n",
              "</table>\n",
              "</div>"
            ],
            "text/plain": [
              "     empno   ename        job     mgr  ...    comm  deptno       dname       loc\n",
              "0   7839.0    KING  PRESIDENT     NaN  ...     NaN      10  ACCOUNTING  NEW YORK\n",
              "1   7782.0   CLARK    MANAGER  7839.0  ...     NaN      10  ACCOUNTING  NEW YORK\n",
              "2   7934.0  MILLER      CLERK  7782.0  ...     NaN      10  ACCOUNTING  NEW YORK\n",
              "3   7698.0   BLAKE    MANAGER  7839.0  ...     NaN      30       SALES   CHICAGO\n",
              "4   7654.0  MARTIN   SALESMAN  7698.0  ...  1400.0      30       SALES   CHICAGO\n",
              "5   7499.0   ALLEN   SALESMAN  7698.0  ...   300.0      30       SALES   CHICAGO\n",
              "6   7844.0  TURNER   SALESMAN  7698.0  ...     0.0      30       SALES   CHICAGO\n",
              "7   7900.0   JAMES      CLERK  7698.0  ...     NaN      30       SALES   CHICAGO\n",
              "8   7521.0    WARD   SALESMAN  7698.0  ...   500.0      30       SALES   CHICAGO\n",
              "9   7566.0   JONES    MANAGER  7839.0  ...     NaN      20    RESEARCH    DALLAS\n",
              "10  7902.0    FORD    ANALYST  7566.0  ...     NaN      20    RESEARCH    DALLAS\n",
              "11  7369.0   SMITH      CLERK  7902.0  ...     NaN      20    RESEARCH    DALLAS\n",
              "12  7788.0   SCOTT    ANALYST  7566.0  ...     NaN      20    RESEARCH    DALLAS\n",
              "13  7876.0   ADAMS      CLERK  7788.0  ...     NaN      20    RESEARCH    DALLAS\n",
              "14     NaN     NaN        NaN     NaN  ...     NaN      40  OPERATIONS    BOSTON\n",
              "\n",
              "[15 rows x 10 columns]"
            ]
          },
          "metadata": {},
          "execution_count": 10
        }
      ]
    },
    {
      "cell_type": "code",
      "metadata": {
        "scrolled": false,
        "colab": {
          "base_uri": "https://localhost:8080/",
          "height": 735
        },
        "id": "Iata7f2-4_Cg",
        "outputId": "0b607db1-a1e2-413e-aaec-1d2f903725bb"
      },
      "source": [
        "ndf = ndf.dropna(thresh=4)\n",
        "# 결측값이 아닌 데이터가 4개는 되야 살리겠다 (3개 이하면 drop)\n",
        "ndf"
      ],
      "execution_count": 11,
      "outputs": [
        {
          "output_type": "execute_result",
          "data": {
            "text/html": [
              "<div>\n",
              "<style scoped>\n",
              "    .dataframe tbody tr th:only-of-type {\n",
              "        vertical-align: middle;\n",
              "    }\n",
              "\n",
              "    .dataframe tbody tr th {\n",
              "        vertical-align: top;\n",
              "    }\n",
              "\n",
              "    .dataframe thead th {\n",
              "        text-align: right;\n",
              "    }\n",
              "</style>\n",
              "<table border=\"1\" class=\"dataframe\">\n",
              "  <thead>\n",
              "    <tr style=\"text-align: right;\">\n",
              "      <th></th>\n",
              "      <th>empno</th>\n",
              "      <th>ename</th>\n",
              "      <th>job</th>\n",
              "      <th>mgr</th>\n",
              "      <th>hiredate</th>\n",
              "      <th>sal</th>\n",
              "      <th>comm</th>\n",
              "      <th>deptno</th>\n",
              "      <th>dname</th>\n",
              "      <th>loc</th>\n",
              "    </tr>\n",
              "  </thead>\n",
              "  <tbody>\n",
              "    <tr>\n",
              "      <th>0</th>\n",
              "      <td>7839.0</td>\n",
              "      <td>KING</td>\n",
              "      <td>PRESIDENT</td>\n",
              "      <td>NaN</td>\n",
              "      <td>1981-11-17</td>\n",
              "      <td>5000.0</td>\n",
              "      <td>NaN</td>\n",
              "      <td>10</td>\n",
              "      <td>ACCOUNTING</td>\n",
              "      <td>NEW YORK</td>\n",
              "    </tr>\n",
              "    <tr>\n",
              "      <th>1</th>\n",
              "      <td>7782.0</td>\n",
              "      <td>CLARK</td>\n",
              "      <td>MANAGER</td>\n",
              "      <td>7839.0</td>\n",
              "      <td>1981-05-09</td>\n",
              "      <td>2450.0</td>\n",
              "      <td>NaN</td>\n",
              "      <td>10</td>\n",
              "      <td>ACCOUNTING</td>\n",
              "      <td>NEW YORK</td>\n",
              "    </tr>\n",
              "    <tr>\n",
              "      <th>2</th>\n",
              "      <td>7934.0</td>\n",
              "      <td>MILLER</td>\n",
              "      <td>CLERK</td>\n",
              "      <td>7782.0</td>\n",
              "      <td>1982-01-11</td>\n",
              "      <td>1300.0</td>\n",
              "      <td>NaN</td>\n",
              "      <td>10</td>\n",
              "      <td>ACCOUNTING</td>\n",
              "      <td>NEW YORK</td>\n",
              "    </tr>\n",
              "    <tr>\n",
              "      <th>3</th>\n",
              "      <td>7698.0</td>\n",
              "      <td>BLAKE</td>\n",
              "      <td>MANAGER</td>\n",
              "      <td>7839.0</td>\n",
              "      <td>1981-05-01</td>\n",
              "      <td>2850.0</td>\n",
              "      <td>NaN</td>\n",
              "      <td>30</td>\n",
              "      <td>SALES</td>\n",
              "      <td>CHICAGO</td>\n",
              "    </tr>\n",
              "    <tr>\n",
              "      <th>4</th>\n",
              "      <td>7654.0</td>\n",
              "      <td>MARTIN</td>\n",
              "      <td>SALESMAN</td>\n",
              "      <td>7698.0</td>\n",
              "      <td>1981-09-10</td>\n",
              "      <td>1250.0</td>\n",
              "      <td>1400.0</td>\n",
              "      <td>30</td>\n",
              "      <td>SALES</td>\n",
              "      <td>CHICAGO</td>\n",
              "    </tr>\n",
              "    <tr>\n",
              "      <th>5</th>\n",
              "      <td>7499.0</td>\n",
              "      <td>ALLEN</td>\n",
              "      <td>SALESMAN</td>\n",
              "      <td>7698.0</td>\n",
              "      <td>1981-02-11</td>\n",
              "      <td>1600.0</td>\n",
              "      <td>300.0</td>\n",
              "      <td>30</td>\n",
              "      <td>SALES</td>\n",
              "      <td>CHICAGO</td>\n",
              "    </tr>\n",
              "    <tr>\n",
              "      <th>6</th>\n",
              "      <td>7844.0</td>\n",
              "      <td>TURNER</td>\n",
              "      <td>SALESMAN</td>\n",
              "      <td>7698.0</td>\n",
              "      <td>1981-08-21</td>\n",
              "      <td>1500.0</td>\n",
              "      <td>0.0</td>\n",
              "      <td>30</td>\n",
              "      <td>SALES</td>\n",
              "      <td>CHICAGO</td>\n",
              "    </tr>\n",
              "    <tr>\n",
              "      <th>7</th>\n",
              "      <td>7900.0</td>\n",
              "      <td>JAMES</td>\n",
              "      <td>CLERK</td>\n",
              "      <td>7698.0</td>\n",
              "      <td>1981-12-11</td>\n",
              "      <td>950.0</td>\n",
              "      <td>NaN</td>\n",
              "      <td>30</td>\n",
              "      <td>SALES</td>\n",
              "      <td>CHICAGO</td>\n",
              "    </tr>\n",
              "    <tr>\n",
              "      <th>8</th>\n",
              "      <td>7521.0</td>\n",
              "      <td>WARD</td>\n",
              "      <td>SALESMAN</td>\n",
              "      <td>7698.0</td>\n",
              "      <td>1981-02-23</td>\n",
              "      <td>1250.0</td>\n",
              "      <td>500.0</td>\n",
              "      <td>30</td>\n",
              "      <td>SALES</td>\n",
              "      <td>CHICAGO</td>\n",
              "    </tr>\n",
              "    <tr>\n",
              "      <th>9</th>\n",
              "      <td>7566.0</td>\n",
              "      <td>JONES</td>\n",
              "      <td>MANAGER</td>\n",
              "      <td>7839.0</td>\n",
              "      <td>1981-04-01</td>\n",
              "      <td>2975.0</td>\n",
              "      <td>NaN</td>\n",
              "      <td>20</td>\n",
              "      <td>RESEARCH</td>\n",
              "      <td>DALLAS</td>\n",
              "    </tr>\n",
              "    <tr>\n",
              "      <th>10</th>\n",
              "      <td>7902.0</td>\n",
              "      <td>FORD</td>\n",
              "      <td>ANALYST</td>\n",
              "      <td>7566.0</td>\n",
              "      <td>1981-12-11</td>\n",
              "      <td>3000.0</td>\n",
              "      <td>NaN</td>\n",
              "      <td>20</td>\n",
              "      <td>RESEARCH</td>\n",
              "      <td>DALLAS</td>\n",
              "    </tr>\n",
              "    <tr>\n",
              "      <th>11</th>\n",
              "      <td>7369.0</td>\n",
              "      <td>SMITH</td>\n",
              "      <td>CLERK</td>\n",
              "      <td>7902.0</td>\n",
              "      <td>1980-12-09</td>\n",
              "      <td>800.0</td>\n",
              "      <td>NaN</td>\n",
              "      <td>20</td>\n",
              "      <td>RESEARCH</td>\n",
              "      <td>DALLAS</td>\n",
              "    </tr>\n",
              "    <tr>\n",
              "      <th>12</th>\n",
              "      <td>7788.0</td>\n",
              "      <td>SCOTT</td>\n",
              "      <td>ANALYST</td>\n",
              "      <td>7566.0</td>\n",
              "      <td>1982-12-22</td>\n",
              "      <td>3000.0</td>\n",
              "      <td>NaN</td>\n",
              "      <td>20</td>\n",
              "      <td>RESEARCH</td>\n",
              "      <td>DALLAS</td>\n",
              "    </tr>\n",
              "    <tr>\n",
              "      <th>13</th>\n",
              "      <td>7876.0</td>\n",
              "      <td>ADAMS</td>\n",
              "      <td>CLERK</td>\n",
              "      <td>7788.0</td>\n",
              "      <td>1983-01-15</td>\n",
              "      <td>1100.0</td>\n",
              "      <td>NaN</td>\n",
              "      <td>20</td>\n",
              "      <td>RESEARCH</td>\n",
              "      <td>DALLAS</td>\n",
              "    </tr>\n",
              "  </tbody>\n",
              "</table>\n",
              "</div>"
            ],
            "text/plain": [
              "     empno   ename        job     mgr  ...    comm  deptno       dname       loc\n",
              "0   7839.0    KING  PRESIDENT     NaN  ...     NaN      10  ACCOUNTING  NEW YORK\n",
              "1   7782.0   CLARK    MANAGER  7839.0  ...     NaN      10  ACCOUNTING  NEW YORK\n",
              "2   7934.0  MILLER      CLERK  7782.0  ...     NaN      10  ACCOUNTING  NEW YORK\n",
              "3   7698.0   BLAKE    MANAGER  7839.0  ...     NaN      30       SALES   CHICAGO\n",
              "4   7654.0  MARTIN   SALESMAN  7698.0  ...  1400.0      30       SALES   CHICAGO\n",
              "5   7499.0   ALLEN   SALESMAN  7698.0  ...   300.0      30       SALES   CHICAGO\n",
              "6   7844.0  TURNER   SALESMAN  7698.0  ...     0.0      30       SALES   CHICAGO\n",
              "7   7900.0   JAMES      CLERK  7698.0  ...     NaN      30       SALES   CHICAGO\n",
              "8   7521.0    WARD   SALESMAN  7698.0  ...   500.0      30       SALES   CHICAGO\n",
              "9   7566.0   JONES    MANAGER  7839.0  ...     NaN      20    RESEARCH    DALLAS\n",
              "10  7902.0    FORD    ANALYST  7566.0  ...     NaN      20    RESEARCH    DALLAS\n",
              "11  7369.0   SMITH      CLERK  7902.0  ...     NaN      20    RESEARCH    DALLAS\n",
              "12  7788.0   SCOTT    ANALYST  7566.0  ...     NaN      20    RESEARCH    DALLAS\n",
              "13  7876.0   ADAMS      CLERK  7788.0  ...     NaN      20    RESEARCH    DALLAS\n",
              "\n",
              "[14 rows x 10 columns]"
            ]
          },
          "metadata": {},
          "execution_count": 11
        }
      ]
    },
    {
      "cell_type": "markdown",
      "metadata": {
        "id": "A2ovopls8YQC"
      },
      "source": [
        "![image.png](data:image/png;base64,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)"
      ]
    },
    {
      "cell_type": "code",
      "metadata": {
        "colab": {
          "base_uri": "https://localhost:8080/",
          "height": 203
        },
        "id": "EUvhkFTA4_Ch",
        "outputId": "22cb08e6-4f04-471c-af91-ca9801185948"
      },
      "source": [
        "ndf.loc[ndf['loc']=='DALLAS', ['ename','loc']]"
      ],
      "execution_count": 12,
      "outputs": [
        {
          "output_type": "execute_result",
          "data": {
            "text/html": [
              "<div>\n",
              "<style scoped>\n",
              "    .dataframe tbody tr th:only-of-type {\n",
              "        vertical-align: middle;\n",
              "    }\n",
              "\n",
              "    .dataframe tbody tr th {\n",
              "        vertical-align: top;\n",
              "    }\n",
              "\n",
              "    .dataframe thead th {\n",
              "        text-align: right;\n",
              "    }\n",
              "</style>\n",
              "<table border=\"1\" class=\"dataframe\">\n",
              "  <thead>\n",
              "    <tr style=\"text-align: right;\">\n",
              "      <th></th>\n",
              "      <th>ename</th>\n",
              "      <th>loc</th>\n",
              "    </tr>\n",
              "  </thead>\n",
              "  <tbody>\n",
              "    <tr>\n",
              "      <th>9</th>\n",
              "      <td>JONES</td>\n",
              "      <td>DALLAS</td>\n",
              "    </tr>\n",
              "    <tr>\n",
              "      <th>10</th>\n",
              "      <td>FORD</td>\n",
              "      <td>DALLAS</td>\n",
              "    </tr>\n",
              "    <tr>\n",
              "      <th>11</th>\n",
              "      <td>SMITH</td>\n",
              "      <td>DALLAS</td>\n",
              "    </tr>\n",
              "    <tr>\n",
              "      <th>12</th>\n",
              "      <td>SCOTT</td>\n",
              "      <td>DALLAS</td>\n",
              "    </tr>\n",
              "    <tr>\n",
              "      <th>13</th>\n",
              "      <td>ADAMS</td>\n",
              "      <td>DALLAS</td>\n",
              "    </tr>\n",
              "  </tbody>\n",
              "</table>\n",
              "</div>"
            ],
            "text/plain": [
              "    ename     loc\n",
              "9   JONES  DALLAS\n",
              "10   FORD  DALLAS\n",
              "11  SMITH  DALLAS\n",
              "12  SCOTT  DALLAS\n",
              "13  ADAMS  DALLAS"
            ]
          },
          "metadata": {},
          "execution_count": 12
        }
      ]
    },
    {
      "cell_type": "markdown",
      "metadata": {
        "id": "M-uBE1zE8l7J"
      },
      "source": [
        "![image.png](data:image/png;base64,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)"
      ]
    },
    {
      "cell_type": "code",
      "metadata": {
        "scrolled": true,
        "colab": {
          "base_uri": "https://localhost:8080/",
          "height": 142
        },
        "id": "I8ABbEW64_Ci",
        "outputId": "c6280290-c2d6-4b31-d200-79fb0751597c"
      },
      "source": [
        "ndf.loc[ndf['sal']>=3000, ['ename','loc','sal']]"
      ],
      "execution_count": 13,
      "outputs": [
        {
          "output_type": "execute_result",
          "data": {
            "text/html": [
              "<div>\n",
              "<style scoped>\n",
              "    .dataframe tbody tr th:only-of-type {\n",
              "        vertical-align: middle;\n",
              "    }\n",
              "\n",
              "    .dataframe tbody tr th {\n",
              "        vertical-align: top;\n",
              "    }\n",
              "\n",
              "    .dataframe thead th {\n",
              "        text-align: right;\n",
              "    }\n",
              "</style>\n",
              "<table border=\"1\" class=\"dataframe\">\n",
              "  <thead>\n",
              "    <tr style=\"text-align: right;\">\n",
              "      <th></th>\n",
              "      <th>ename</th>\n",
              "      <th>loc</th>\n",
              "      <th>sal</th>\n",
              "    </tr>\n",
              "  </thead>\n",
              "  <tbody>\n",
              "    <tr>\n",
              "      <th>0</th>\n",
              "      <td>KING</td>\n",
              "      <td>NEW YORK</td>\n",
              "      <td>5000.0</td>\n",
              "    </tr>\n",
              "    <tr>\n",
              "      <th>10</th>\n",
              "      <td>FORD</td>\n",
              "      <td>DALLAS</td>\n",
              "      <td>3000.0</td>\n",
              "    </tr>\n",
              "    <tr>\n",
              "      <th>12</th>\n",
              "      <td>SCOTT</td>\n",
              "      <td>DALLAS</td>\n",
              "      <td>3000.0</td>\n",
              "    </tr>\n",
              "  </tbody>\n",
              "</table>\n",
              "</div>"
            ],
            "text/plain": [
              "    ename       loc     sal\n",
              "0    KING  NEW YORK  5000.0\n",
              "10   FORD    DALLAS  3000.0\n",
              "12  SCOTT    DALLAS  3000.0"
            ]
          },
          "metadata": {},
          "execution_count": 13
        }
      ]
    },
    {
      "cell_type": "markdown",
      "metadata": {
        "id": "UCWhACS784zV"
      },
      "source": [
        "![image.png](data:image/png;base64,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)"
      ]
    },
    {
      "cell_type": "code",
      "metadata": {
        "colab": {
          "base_uri": "https://localhost:8080/",
          "height": 295
        },
        "id": "dxAVyh7R4_Ck",
        "outputId": "f15d42f5-d3d2-446f-8e98-1ca225ef1746"
      },
      "source": [
        "ndf.loc[ndf['deptno'].isin([10,20]), ['ename','loc','deptno']]"
      ],
      "execution_count": 14,
      "outputs": [
        {
          "output_type": "execute_result",
          "data": {
            "text/html": [
              "<div>\n",
              "<style scoped>\n",
              "    .dataframe tbody tr th:only-of-type {\n",
              "        vertical-align: middle;\n",
              "    }\n",
              "\n",
              "    .dataframe tbody tr th {\n",
              "        vertical-align: top;\n",
              "    }\n",
              "\n",
              "    .dataframe thead th {\n",
              "        text-align: right;\n",
              "    }\n",
              "</style>\n",
              "<table border=\"1\" class=\"dataframe\">\n",
              "  <thead>\n",
              "    <tr style=\"text-align: right;\">\n",
              "      <th></th>\n",
              "      <th>ename</th>\n",
              "      <th>loc</th>\n",
              "      <th>deptno</th>\n",
              "    </tr>\n",
              "  </thead>\n",
              "  <tbody>\n",
              "    <tr>\n",
              "      <th>0</th>\n",
              "      <td>KING</td>\n",
              "      <td>NEW YORK</td>\n",
              "      <td>10</td>\n",
              "    </tr>\n",
              "    <tr>\n",
              "      <th>1</th>\n",
              "      <td>CLARK</td>\n",
              "      <td>NEW YORK</td>\n",
              "      <td>10</td>\n",
              "    </tr>\n",
              "    <tr>\n",
              "      <th>2</th>\n",
              "      <td>MILLER</td>\n",
              "      <td>NEW YORK</td>\n",
              "      <td>10</td>\n",
              "    </tr>\n",
              "    <tr>\n",
              "      <th>9</th>\n",
              "      <td>JONES</td>\n",
              "      <td>DALLAS</td>\n",
              "      <td>20</td>\n",
              "    </tr>\n",
              "    <tr>\n",
              "      <th>10</th>\n",
              "      <td>FORD</td>\n",
              "      <td>DALLAS</td>\n",
              "      <td>20</td>\n",
              "    </tr>\n",
              "    <tr>\n",
              "      <th>11</th>\n",
              "      <td>SMITH</td>\n",
              "      <td>DALLAS</td>\n",
              "      <td>20</td>\n",
              "    </tr>\n",
              "    <tr>\n",
              "      <th>12</th>\n",
              "      <td>SCOTT</td>\n",
              "      <td>DALLAS</td>\n",
              "      <td>20</td>\n",
              "    </tr>\n",
              "    <tr>\n",
              "      <th>13</th>\n",
              "      <td>ADAMS</td>\n",
              "      <td>DALLAS</td>\n",
              "      <td>20</td>\n",
              "    </tr>\n",
              "  </tbody>\n",
              "</table>\n",
              "</div>"
            ],
            "text/plain": [
              "     ename       loc  deptno\n",
              "0     KING  NEW YORK      10\n",
              "1    CLARK  NEW YORK      10\n",
              "2   MILLER  NEW YORK      10\n",
              "9    JONES    DALLAS      20\n",
              "10    FORD    DALLAS      20\n",
              "11   SMITH    DALLAS      20\n",
              "12   SCOTT    DALLAS      20\n",
              "13   ADAMS    DALLAS      20"
            ]
          },
          "metadata": {},
          "execution_count": 14
        }
      ]
    },
    {
      "cell_type": "markdown",
      "metadata": {
        "id": "deama7XX86vg"
      },
      "source": [
        "![image.png](data:image/png;base64,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)"
      ]
    },
    {
      "cell_type": "code",
      "metadata": {
        "colab": {
          "base_uri": "https://localhost:8080/",
          "height": 388
        },
        "id": "QVwWlDGH4_Cm",
        "outputId": "9c892bc8-d5fb-4da1-b912-e679b5112072"
      },
      "source": [
        "ndf.loc[ndf['sal'].between(1000,3000), ['ename','sal','loc']]"
      ],
      "execution_count": 15,
      "outputs": [
        {
          "output_type": "execute_result",
          "data": {
            "text/html": [
              "<div>\n",
              "<style scoped>\n",
              "    .dataframe tbody tr th:only-of-type {\n",
              "        vertical-align: middle;\n",
              "    }\n",
              "\n",
              "    .dataframe tbody tr th {\n",
              "        vertical-align: top;\n",
              "    }\n",
              "\n",
              "    .dataframe thead th {\n",
              "        text-align: right;\n",
              "    }\n",
              "</style>\n",
              "<table border=\"1\" class=\"dataframe\">\n",
              "  <thead>\n",
              "    <tr style=\"text-align: right;\">\n",
              "      <th></th>\n",
              "      <th>ename</th>\n",
              "      <th>sal</th>\n",
              "      <th>loc</th>\n",
              "    </tr>\n",
              "  </thead>\n",
              "  <tbody>\n",
              "    <tr>\n",
              "      <th>1</th>\n",
              "      <td>CLARK</td>\n",
              "      <td>2450.0</td>\n",
              "      <td>NEW YORK</td>\n",
              "    </tr>\n",
              "    <tr>\n",
              "      <th>2</th>\n",
              "      <td>MILLER</td>\n",
              "      <td>1300.0</td>\n",
              "      <td>NEW YORK</td>\n",
              "    </tr>\n",
              "    <tr>\n",
              "      <th>3</th>\n",
              "      <td>BLAKE</td>\n",
              "      <td>2850.0</td>\n",
              "      <td>CHICAGO</td>\n",
              "    </tr>\n",
              "    <tr>\n",
              "      <th>4</th>\n",
              "      <td>MARTIN</td>\n",
              "      <td>1250.0</td>\n",
              "      <td>CHICAGO</td>\n",
              "    </tr>\n",
              "    <tr>\n",
              "      <th>5</th>\n",
              "      <td>ALLEN</td>\n",
              "      <td>1600.0</td>\n",
              "      <td>CHICAGO</td>\n",
              "    </tr>\n",
              "    <tr>\n",
              "      <th>6</th>\n",
              "      <td>TURNER</td>\n",
              "      <td>1500.0</td>\n",
              "      <td>CHICAGO</td>\n",
              "    </tr>\n",
              "    <tr>\n",
              "      <th>8</th>\n",
              "      <td>WARD</td>\n",
              "      <td>1250.0</td>\n",
              "      <td>CHICAGO</td>\n",
              "    </tr>\n",
              "    <tr>\n",
              "      <th>9</th>\n",
              "      <td>JONES</td>\n",
              "      <td>2975.0</td>\n",
              "      <td>DALLAS</td>\n",
              "    </tr>\n",
              "    <tr>\n",
              "      <th>10</th>\n",
              "      <td>FORD</td>\n",
              "      <td>3000.0</td>\n",
              "      <td>DALLAS</td>\n",
              "    </tr>\n",
              "    <tr>\n",
              "      <th>12</th>\n",
              "      <td>SCOTT</td>\n",
              "      <td>3000.0</td>\n",
              "      <td>DALLAS</td>\n",
              "    </tr>\n",
              "    <tr>\n",
              "      <th>13</th>\n",
              "      <td>ADAMS</td>\n",
              "      <td>1100.0</td>\n",
              "      <td>DALLAS</td>\n",
              "    </tr>\n",
              "  </tbody>\n",
              "</table>\n",
              "</div>"
            ],
            "text/plain": [
              "     ename     sal       loc\n",
              "1    CLARK  2450.0  NEW YORK\n",
              "2   MILLER  1300.0  NEW YORK\n",
              "3    BLAKE  2850.0   CHICAGO\n",
              "4   MARTIN  1250.0   CHICAGO\n",
              "5    ALLEN  1600.0   CHICAGO\n",
              "6   TURNER  1500.0   CHICAGO\n",
              "8     WARD  1250.0   CHICAGO\n",
              "9    JONES  2975.0    DALLAS\n",
              "10    FORD  3000.0    DALLAS\n",
              "12   SCOTT  3000.0    DALLAS\n",
              "13   ADAMS  1100.0    DALLAS"
            ]
          },
          "metadata": {},
          "execution_count": 15
        }
      ]
    },
    {
      "cell_type": "markdown",
      "metadata": {
        "id": "9lj2r6yF9TAP"
      },
      "source": [
        "![image.png](data:image/png;base64,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)"
      ]
    },
    {
      "cell_type": "code",
      "metadata": {
        "colab": {
          "base_uri": "https://localhost:8080/",
          "height": 511
        },
        "id": "fn77J2o84_Cn",
        "outputId": "a20ff1fa-cdbc-42a9-fb4c-bc20643c2a48"
      },
      "source": [
        "pd.merge(df, df2, on='deptno', how='right')[['ename','loc']]"
      ],
      "execution_count": 16,
      "outputs": [
        {
          "output_type": "execute_result",
          "data": {
            "text/html": [
              "<div>\n",
              "<style scoped>\n",
              "    .dataframe tbody tr th:only-of-type {\n",
              "        vertical-align: middle;\n",
              "    }\n",
              "\n",
              "    .dataframe tbody tr th {\n",
              "        vertical-align: top;\n",
              "    }\n",
              "\n",
              "    .dataframe thead th {\n",
              "        text-align: right;\n",
              "    }\n",
              "</style>\n",
              "<table border=\"1\" class=\"dataframe\">\n",
              "  <thead>\n",
              "    <tr style=\"text-align: right;\">\n",
              "      <th></th>\n",
              "      <th>ename</th>\n",
              "      <th>loc</th>\n",
              "    </tr>\n",
              "  </thead>\n",
              "  <tbody>\n",
              "    <tr>\n",
              "      <th>0</th>\n",
              "      <td>KING</td>\n",
              "      <td>NEW YORK</td>\n",
              "    </tr>\n",
              "    <tr>\n",
              "      <th>1</th>\n",
              "      <td>CLARK</td>\n",
              "      <td>NEW YORK</td>\n",
              "    </tr>\n",
              "    <tr>\n",
              "      <th>2</th>\n",
              "      <td>MILLER</td>\n",
              "      <td>NEW YORK</td>\n",
              "    </tr>\n",
              "    <tr>\n",
              "      <th>3</th>\n",
              "      <td>JONES</td>\n",
              "      <td>DALLAS</td>\n",
              "    </tr>\n",
              "    <tr>\n",
              "      <th>4</th>\n",
              "      <td>FORD</td>\n",
              "      <td>DALLAS</td>\n",
              "    </tr>\n",
              "    <tr>\n",
              "      <th>5</th>\n",
              "      <td>SMITH</td>\n",
              "      <td>DALLAS</td>\n",
              "    </tr>\n",
              "    <tr>\n",
              "      <th>6</th>\n",
              "      <td>SCOTT</td>\n",
              "      <td>DALLAS</td>\n",
              "    </tr>\n",
              "    <tr>\n",
              "      <th>7</th>\n",
              "      <td>ADAMS</td>\n",
              "      <td>DALLAS</td>\n",
              "    </tr>\n",
              "    <tr>\n",
              "      <th>8</th>\n",
              "      <td>BLAKE</td>\n",
              "      <td>CHICAGO</td>\n",
              "    </tr>\n",
              "    <tr>\n",
              "      <th>9</th>\n",
              "      <td>MARTIN</td>\n",
              "      <td>CHICAGO</td>\n",
              "    </tr>\n",
              "    <tr>\n",
              "      <th>10</th>\n",
              "      <td>ALLEN</td>\n",
              "      <td>CHICAGO</td>\n",
              "    </tr>\n",
              "    <tr>\n",
              "      <th>11</th>\n",
              "      <td>TURNER</td>\n",
              "      <td>CHICAGO</td>\n",
              "    </tr>\n",
              "    <tr>\n",
              "      <th>12</th>\n",
              "      <td>JAMES</td>\n",
              "      <td>CHICAGO</td>\n",
              "    </tr>\n",
              "    <tr>\n",
              "      <th>13</th>\n",
              "      <td>WARD</td>\n",
              "      <td>CHICAGO</td>\n",
              "    </tr>\n",
              "    <tr>\n",
              "      <th>14</th>\n",
              "      <td>NaN</td>\n",
              "      <td>BOSTON</td>\n",
              "    </tr>\n",
              "  </tbody>\n",
              "</table>\n",
              "</div>"
            ],
            "text/plain": [
              "     ename       loc\n",
              "0     KING  NEW YORK\n",
              "1    CLARK  NEW YORK\n",
              "2   MILLER  NEW YORK\n",
              "3    JONES    DALLAS\n",
              "4     FORD    DALLAS\n",
              "5    SMITH    DALLAS\n",
              "6    SCOTT    DALLAS\n",
              "7    ADAMS    DALLAS\n",
              "8    BLAKE   CHICAGO\n",
              "9   MARTIN   CHICAGO\n",
              "10   ALLEN   CHICAGO\n",
              "11  TURNER   CHICAGO\n",
              "12   JAMES   CHICAGO\n",
              "13    WARD   CHICAGO\n",
              "14     NaN    BOSTON"
            ]
          },
          "metadata": {},
          "execution_count": 16
        }
      ]
    },
    {
      "cell_type": "code",
      "metadata": {
        "id": "yYKoqfqo4_Cn"
      },
      "source": [
        ""
      ],
      "execution_count": 16,
      "outputs": []
    },
    {
      "cell_type": "markdown",
      "metadata": {
        "id": "09uoIPJ64_Co"
      },
      "source": [
        "### 월급이 1000 에서 3000 사이가 아닌 사원들의 이름과 월급을 출력하시오 !  "
      ]
    },
    {
      "cell_type": "code",
      "metadata": {
        "colab": {
          "base_uri": "https://localhost:8080/",
          "height": 110
        },
        "id": "AfOGFYjK4_Co",
        "outputId": "628dbb76-54ba-45df-f4f8-fb75fd31261f"
      },
      "source": [
        "df.loc[~(df['sal']>1000)&(df['sal']<3000) ,['ename','sal']]"
      ],
      "execution_count": 17,
      "outputs": [
        {
          "output_type": "execute_result",
          "data": {
            "text/html": [
              "<div>\n",
              "<style scoped>\n",
              "    .dataframe tbody tr th:only-of-type {\n",
              "        vertical-align: middle;\n",
              "    }\n",
              "\n",
              "    .dataframe tbody tr th {\n",
              "        vertical-align: top;\n",
              "    }\n",
              "\n",
              "    .dataframe thead th {\n",
              "        text-align: right;\n",
              "    }\n",
              "</style>\n",
              "<table border=\"1\" class=\"dataframe\">\n",
              "  <thead>\n",
              "    <tr style=\"text-align: right;\">\n",
              "      <th></th>\n",
              "      <th>ename</th>\n",
              "      <th>sal</th>\n",
              "    </tr>\n",
              "  </thead>\n",
              "  <tbody>\n",
              "    <tr>\n",
              "      <th>7</th>\n",
              "      <td>JAMES</td>\n",
              "      <td>950</td>\n",
              "    </tr>\n",
              "    <tr>\n",
              "      <th>10</th>\n",
              "      <td>SMITH</td>\n",
              "      <td>800</td>\n",
              "    </tr>\n",
              "  </tbody>\n",
              "</table>\n",
              "</div>"
            ],
            "text/plain": [
              "    ename  sal\n",
              "7   JAMES  950\n",
              "10  SMITH  800"
            ]
          },
          "metadata": {},
          "execution_count": 17
        }
      ]
    },
    {
      "cell_type": "markdown",
      "metadata": {
        "id": "zJrmCeJr4_Cp"
      },
      "source": [
        "### 직업이 CLERK, SALESMAN 인 사원들의 이름과 직업 월급을 출력하고 월급으로 정렬하시오!"
      ]
    },
    {
      "cell_type": "code",
      "metadata": {
        "colab": {
          "base_uri": "https://localhost:8080/",
          "height": 295
        },
        "id": "BvVKWyPx4_Cp",
        "outputId": "9bf2d0b3-b80b-4865-d003-eb6b4508fb03"
      },
      "source": [
        "df.loc[df['job'].isin(['CLERK','SALESMAN']) ,['ename','job','sal']].sort_values(by='sal',ascending=False)"
      ],
      "execution_count": 18,
      "outputs": [
        {
          "output_type": "execute_result",
          "data": {
            "text/html": [
              "<div>\n",
              "<style scoped>\n",
              "    .dataframe tbody tr th:only-of-type {\n",
              "        vertical-align: middle;\n",
              "    }\n",
              "\n",
              "    .dataframe tbody tr th {\n",
              "        vertical-align: top;\n",
              "    }\n",
              "\n",
              "    .dataframe thead th {\n",
              "        text-align: right;\n",
              "    }\n",
              "</style>\n",
              "<table border=\"1\" class=\"dataframe\">\n",
              "  <thead>\n",
              "    <tr style=\"text-align: right;\">\n",
              "      <th></th>\n",
              "      <th>ename</th>\n",
              "      <th>job</th>\n",
              "      <th>sal</th>\n",
              "    </tr>\n",
              "  </thead>\n",
              "  <tbody>\n",
              "    <tr>\n",
              "      <th>5</th>\n",
              "      <td>ALLEN</td>\n",
              "      <td>SALESMAN</td>\n",
              "      <td>1600</td>\n",
              "    </tr>\n",
              "    <tr>\n",
              "      <th>6</th>\n",
              "      <td>TURNER</td>\n",
              "      <td>SALESMAN</td>\n",
              "      <td>1500</td>\n",
              "    </tr>\n",
              "    <tr>\n",
              "      <th>13</th>\n",
              "      <td>MILLER</td>\n",
              "      <td>CLERK</td>\n",
              "      <td>1300</td>\n",
              "    </tr>\n",
              "    <tr>\n",
              "      <th>4</th>\n",
              "      <td>MARTIN</td>\n",
              "      <td>SALESMAN</td>\n",
              "      <td>1250</td>\n",
              "    </tr>\n",
              "    <tr>\n",
              "      <th>8</th>\n",
              "      <td>WARD</td>\n",
              "      <td>SALESMAN</td>\n",
              "      <td>1250</td>\n",
              "    </tr>\n",
              "    <tr>\n",
              "      <th>12</th>\n",
              "      <td>ADAMS</td>\n",
              "      <td>CLERK</td>\n",
              "      <td>1100</td>\n",
              "    </tr>\n",
              "    <tr>\n",
              "      <th>7</th>\n",
              "      <td>JAMES</td>\n",
              "      <td>CLERK</td>\n",
              "      <td>950</td>\n",
              "    </tr>\n",
              "    <tr>\n",
              "      <th>10</th>\n",
              "      <td>SMITH</td>\n",
              "      <td>CLERK</td>\n",
              "      <td>800</td>\n",
              "    </tr>\n",
              "  </tbody>\n",
              "</table>\n",
              "</div>"
            ],
            "text/plain": [
              "     ename       job   sal\n",
              "5    ALLEN  SALESMAN  1600\n",
              "6   TURNER  SALESMAN  1500\n",
              "13  MILLER     CLERK  1300\n",
              "4   MARTIN  SALESMAN  1250\n",
              "8     WARD  SALESMAN  1250\n",
              "12   ADAMS     CLERK  1100\n",
              "7    JAMES     CLERK   950\n",
              "10   SMITH     CLERK   800"
            ]
          },
          "metadata": {},
          "execution_count": 18
        }
      ]
    },
    {
      "cell_type": "markdown",
      "metadata": {
        "id": "lQabIt1H4_Cq"
      },
      "source": [
        "### 커미션이 null 이 아닌 사원들의 이름과 커미션을 출력하시오 !"
      ]
    },
    {
      "cell_type": "code",
      "metadata": {
        "colab": {
          "base_uri": "https://localhost:8080/",
          "height": 172
        },
        "id": "f4lK5rzE4_Cq",
        "outputId": "9251e32b-6917-4340-aa26-76f5b63f368f"
      },
      "source": [
        "df.loc[~df['comm'].isna() ,['ename','comm']]"
      ],
      "execution_count": 19,
      "outputs": [
        {
          "output_type": "execute_result",
          "data": {
            "text/html": [
              "<div>\n",
              "<style scoped>\n",
              "    .dataframe tbody tr th:only-of-type {\n",
              "        vertical-align: middle;\n",
              "    }\n",
              "\n",
              "    .dataframe tbody tr th {\n",
              "        vertical-align: top;\n",
              "    }\n",
              "\n",
              "    .dataframe thead th {\n",
              "        text-align: right;\n",
              "    }\n",
              "</style>\n",
              "<table border=\"1\" class=\"dataframe\">\n",
              "  <thead>\n",
              "    <tr style=\"text-align: right;\">\n",
              "      <th></th>\n",
              "      <th>ename</th>\n",
              "      <th>comm</th>\n",
              "    </tr>\n",
              "  </thead>\n",
              "  <tbody>\n",
              "    <tr>\n",
              "      <th>4</th>\n",
              "      <td>MARTIN</td>\n",
              "      <td>1400.0</td>\n",
              "    </tr>\n",
              "    <tr>\n",
              "      <th>5</th>\n",
              "      <td>ALLEN</td>\n",
              "      <td>300.0</td>\n",
              "    </tr>\n",
              "    <tr>\n",
              "      <th>6</th>\n",
              "      <td>TURNER</td>\n",
              "      <td>0.0</td>\n",
              "    </tr>\n",
              "    <tr>\n",
              "      <th>8</th>\n",
              "      <td>WARD</td>\n",
              "      <td>500.0</td>\n",
              "    </tr>\n",
              "  </tbody>\n",
              "</table>\n",
              "</div>"
            ],
            "text/plain": [
              "    ename    comm\n",
              "4  MARTIN  1400.0\n",
              "5   ALLEN   300.0\n",
              "6  TURNER     0.0\n",
              "8    WARD   500.0"
            ]
          },
          "metadata": {},
          "execution_count": 19
        }
      ]
    },
    {
      "cell_type": "markdown",
      "metadata": {
        "id": "iwSINyR64_Cq"
      },
      "source": [
        "### 이름의 첫번째 철자가 S 로 시작하는 사원들의 이름을 출력하시오 !"
      ]
    },
    {
      "cell_type": "code",
      "metadata": {
        "colab": {
          "base_uri": "https://localhost:8080/",
          "height": 110
        },
        "id": "Ykyb8PP24_Cr",
        "outputId": "21bab06e-b7c7-473c-9c50-ca703e0c2aad"
      },
      "source": [
        "df.loc[df['ename'].str.startswith('S') ,['ename']]"
      ],
      "execution_count": 20,
      "outputs": [
        {
          "output_type": "execute_result",
          "data": {
            "text/html": [
              "<div>\n",
              "<style scoped>\n",
              "    .dataframe tbody tr th:only-of-type {\n",
              "        vertical-align: middle;\n",
              "    }\n",
              "\n",
              "    .dataframe tbody tr th {\n",
              "        vertical-align: top;\n",
              "    }\n",
              "\n",
              "    .dataframe thead th {\n",
              "        text-align: right;\n",
              "    }\n",
              "</style>\n",
              "<table border=\"1\" class=\"dataframe\">\n",
              "  <thead>\n",
              "    <tr style=\"text-align: right;\">\n",
              "      <th></th>\n",
              "      <th>ename</th>\n",
              "    </tr>\n",
              "  </thead>\n",
              "  <tbody>\n",
              "    <tr>\n",
              "      <th>10</th>\n",
              "      <td>SMITH</td>\n",
              "    </tr>\n",
              "    <tr>\n",
              "      <th>11</th>\n",
              "      <td>SCOTT</td>\n",
              "    </tr>\n",
              "  </tbody>\n",
              "</table>\n",
              "</div>"
            ],
            "text/plain": [
              "    ename\n",
              "10  SMITH\n",
              "11  SCOTT"
            ]
          },
          "metadata": {},
          "execution_count": 20
        }
      ]
    },
    {
      "cell_type": "markdown",
      "metadata": {
        "id": "tEBhkUOE4_Cr"
      },
      "source": [
        "### 이름의 끝글자가 T 로 끝나는 사원들의 이름을 출력하시오 !"
      ]
    },
    {
      "cell_type": "code",
      "metadata": {
        "colab": {
          "base_uri": "https://localhost:8080/",
          "height": 80
        },
        "id": "QSxr7AVO4_Cr",
        "outputId": "5fff6b3e-fd4b-4720-e6fd-624038228372"
      },
      "source": [
        "df.loc[df['ename'].str.endswith('T') ,['ename']]"
      ],
      "execution_count": 21,
      "outputs": [
        {
          "output_type": "execute_result",
          "data": {
            "text/html": [
              "<div>\n",
              "<style scoped>\n",
              "    .dataframe tbody tr th:only-of-type {\n",
              "        vertical-align: middle;\n",
              "    }\n",
              "\n",
              "    .dataframe tbody tr th {\n",
              "        vertical-align: top;\n",
              "    }\n",
              "\n",
              "    .dataframe thead th {\n",
              "        text-align: right;\n",
              "    }\n",
              "</style>\n",
              "<table border=\"1\" class=\"dataframe\">\n",
              "  <thead>\n",
              "    <tr style=\"text-align: right;\">\n",
              "      <th></th>\n",
              "      <th>ename</th>\n",
              "    </tr>\n",
              "  </thead>\n",
              "  <tbody>\n",
              "    <tr>\n",
              "      <th>11</th>\n",
              "      <td>SCOTT</td>\n",
              "    </tr>\n",
              "  </tbody>\n",
              "</table>\n",
              "</div>"
            ],
            "text/plain": [
              "    ename\n",
              "11  SCOTT"
            ]
          },
          "metadata": {},
          "execution_count": 21
        }
      ]
    },
    {
      "cell_type": "markdown",
      "metadata": {
        "id": "tRyTTnEJ4_Cr"
      },
      "source": [
        "### 이름의 두번째 철자가 M 인 사원의 이름을 출력하시오"
      ]
    },
    {
      "cell_type": "code",
      "metadata": {
        "scrolled": true,
        "colab": {
          "base_uri": "https://localhost:8080/",
          "height": 80
        },
        "id": "9GGccBA24_Cs",
        "outputId": "28688482-441b-4392-a268-c5613eaeaa26"
      },
      "source": [
        "df.loc[df['ename'].str[1:2]=='M' ,['ename']]"
      ],
      "execution_count": 22,
      "outputs": [
        {
          "output_type": "execute_result",
          "data": {
            "text/html": [
              "<div>\n",
              "<style scoped>\n",
              "    .dataframe tbody tr th:only-of-type {\n",
              "        vertical-align: middle;\n",
              "    }\n",
              "\n",
              "    .dataframe tbody tr th {\n",
              "        vertical-align: top;\n",
              "    }\n",
              "\n",
              "    .dataframe thead th {\n",
              "        text-align: right;\n",
              "    }\n",
              "</style>\n",
              "<table border=\"1\" class=\"dataframe\">\n",
              "  <thead>\n",
              "    <tr style=\"text-align: right;\">\n",
              "      <th></th>\n",
              "      <th>ename</th>\n",
              "    </tr>\n",
              "  </thead>\n",
              "  <tbody>\n",
              "    <tr>\n",
              "      <th>10</th>\n",
              "      <td>SMITH</td>\n",
              "    </tr>\n",
              "  </tbody>\n",
              "</table>\n",
              "</div>"
            ],
            "text/plain": [
              "    ename\n",
              "10  SMITH"
            ]
          },
          "metadata": {},
          "execution_count": 22
        }
      ]
    },
    {
      "cell_type": "code",
      "metadata": {
        "colab": {
          "base_uri": "https://localhost:8080/",
          "height": 80
        },
        "id": "xL0X9V3b4_Cs",
        "outputId": "d2125b14-9c16-4d71-a9b1-245ecf36cf6f"
      },
      "source": [
        "df.loc[df['ename'].str[1:2].str.lower()=='m' ,['ename']]"
      ],
      "execution_count": 23,
      "outputs": [
        {
          "output_type": "execute_result",
          "data": {
            "text/html": [
              "<div>\n",
              "<style scoped>\n",
              "    .dataframe tbody tr th:only-of-type {\n",
              "        vertical-align: middle;\n",
              "    }\n",
              "\n",
              "    .dataframe tbody tr th {\n",
              "        vertical-align: top;\n",
              "    }\n",
              "\n",
              "    .dataframe thead th {\n",
              "        text-align: right;\n",
              "    }\n",
              "</style>\n",
              "<table border=\"1\" class=\"dataframe\">\n",
              "  <thead>\n",
              "    <tr style=\"text-align: right;\">\n",
              "      <th></th>\n",
              "      <th>ename</th>\n",
              "    </tr>\n",
              "  </thead>\n",
              "  <tbody>\n",
              "    <tr>\n",
              "      <th>10</th>\n",
              "      <td>SMITH</td>\n",
              "    </tr>\n",
              "  </tbody>\n",
              "</table>\n",
              "</div>"
            ],
            "text/plain": [
              "    ename\n",
              "10  SMITH"
            ]
          },
          "metadata": {},
          "execution_count": 23
        }
      ]
    }
  ]
}